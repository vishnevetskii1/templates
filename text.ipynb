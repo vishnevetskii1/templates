{
 "cells": [
  {
   "cell_type": "markdown",
   "id": "6e376402",
   "metadata": {},
   "source": [
    "# Обработка текстовых данных\n",
    "\n",
    "## Вступление\n",
    "Многие практические задачи так или иначе могут вовлекать в себя работу с текстовыми данными, например:\n",
    "\n",
    "- классификация текстов\n",
    "    - анализ тональности (например, позитивный/негативный отзыв)\n",
    "    - фильтрация спама\n",
    "    - по теме или жанру\n",
    "- машинный перевод\n",
    "- распознавание и синтез речи\n",
    "- извлечение информации\n",
    "    - именованные сущности (например, извлечение имен, локаций, названий организаций)\n",
    "    - извлечение фактов и событий\n",
    "- кластеризация текстов\n",
    "- оптическое распознавание символов\n",
    "- проверка правописания\n",
    "- вопросно-ответные системы, информационный поиск\n",
    "- суммаризация текстов\n",
    "- генерация текстов\n",
    "\n",
    "В целом, алгоритм работы с текстовыми данными можно разбить на такие шаги:\n",
    "\n",
    "- предобработка сырых данных\n",
    "- токенизация (создание словаря)\n",
    "- обработка словаря (удаление стоп-слов и пунктуации)\n",
    "- обработка токенов (лемматизация / стемминг)\n",
    "- векторизация текста (bag of words, TF-IDF, etc)\n",
    "\n",
    "### Структура ноутбука:\n",
    "0. Регулярные выражения\n",
    "1. Токенизация\n",
    "2. Стоп-слова и пунктуация\n",
    "3. Лемматизация и стемминг\n",
    "4. Bag-of-words и TD-IDF\n",
    "5. Решение задачи с текстовыми данными\n",
    "6. Немножко про категориальные признаки\n",
    "7. Полный пошаговый пайплайн работы с текстом\n",
    "\n",
    "**Для работы с тектом я буду в основном пользоваться библиотекой `nltk` (Natural Language Toolkit) — это популярная и очень мощная библиотека Python для обработки и анализа естественного языка (NLP).**\n",
    "\n",
    "*Что можно реализовать с помощью nltk:*\n",
    "\n",
    "- разбиение текста на предложения и слова (токенизация)\n",
    "- удаление стоп-слов\n",
    "- стемминг (приведение слова к корню)\n",
    "- лемматизация (приведение к начальной форме)\n",
    "- определение частей речи\n",
    "- обработка синтаксиса и деревьев разбора\n",
    "- работа с большими текстовыми корпусами (коллекциями текстов)\n",
    "- построение частотных словарей, анализ n-грамм\n",
    "- подготовка текста для последующего машинного обучения"
   ]
  },
  {
   "cell_type": "code",
   "execution_count": 2,
   "id": "743c721d",
   "metadata": {},
   "outputs": [],
   "source": [
    "#загрузка библиотеки nltk\n",
    "# !pip install nltk"
   ]
  },
  {
   "cell_type": "code",
   "execution_count": 3,
   "id": "e9eedb95",
   "metadata": {},
   "outputs": [],
   "source": [
    "#загрузка библиотеки nltk\n",
    "# !pip install pandas"
   ]
  },
  {
   "cell_type": "markdown",
   "id": "fe2f20b6",
   "metadata": {},
   "source": [
    "## 0. Регулярные выражения"
   ]
  },
  {
   "cell_type": "markdown",
   "id": "7b258e18",
   "metadata": {},
   "source": [
    "Часто бывает так, что для конкретного случая нужен особый способ токенизации, и надо самостоятельно написать правило шаблонного типа для определения того, что такое токен. Или, например, перед работой с текстом, надо почистить его от своеобразного мусора: упоминаний пользователей, url и так далее. В таких задачах могут помочь регулярные выражения. Навык полезный, давайте в нём тоже потренируемся."
   ]
  },
  {
   "cell_type": "code",
   "execution_count": 1,
   "id": "58c8d142",
   "metadata": {},
   "outputs": [],
   "source": [
    "import re"
   ]
  },
  {
   "cell_type": "markdown",
   "id": "92b6b240",
   "metadata": {},
   "source": [
    "### findall\n",
    "возвращает список всех найденных совпадений\n",
    "\n",
    "- `?` : ноль или одно повторение\n",
    "- `*` : ноль или более повторений\n",
    "- `+` : одно или более повторений\n",
    "- `.`: любой символ"
   ]
  },
  {
   "cell_type": "code",
   "execution_count": 2,
   "id": "6c4227cf",
   "metadata": {},
   "outputs": [
    {
     "name": "stdout",
     "output_type": "stream",
     "text": [
      "['abcd', 'abca']\n"
     ]
    }
   ],
   "source": [
    "result = re.findall(\"ab+c.\", \"abcdefghijkabcabcxabc\")\n",
    "print(result)"
   ]
  },
  {
   "cell_type": "code",
   "execution_count": 3,
   "id": "be557f42",
   "metadata": {},
   "outputs": [
    {
     "data": {
      "text/plain": [
       "['abbbca']"
      ]
     },
     "execution_count": 3,
     "metadata": {},
     "output_type": "execute_result"
    }
   ],
   "source": [
    "re.findall(\"ab+c.\", \"abbbca\")"
   ]
  },
  {
   "cell_type": "markdown",
   "id": "6ffb9a57",
   "metadata": {},
   "source": [
    "### split\n",
    "разделяет строку по заданному шаблону"
   ]
  },
  {
   "cell_type": "code",
   "execution_count": 4,
   "id": "00d6f299",
   "metadata": {},
   "outputs": [
    {
     "name": "stdout",
     "output_type": "stream",
     "text": [
      "['itsy', ' bitsy', ' teenie', ' weenie']\n"
     ]
    }
   ],
   "source": [
    "result = re.split(\",\", \"itsy, bitsy, teenie, weenie\")\n",
    "print(result)"
   ]
  },
  {
   "cell_type": "code",
   "execution_count": 5,
   "id": "4fe6952b",
   "metadata": {},
   "outputs": [
    {
     "name": "stdout",
     "output_type": "stream",
     "text": [
      "['itsy', ' bitsy', ' teenie, weenie']\n"
     ]
    }
   ],
   "source": [
    "result = re.split(\",\", \"itsy, bitsy, teenie, weenie\", maxsplit=2)\n",
    "print(result)"
   ]
  },
  {
   "cell_type": "markdown",
   "id": "fcf4161d",
   "metadata": {},
   "source": [
    "### sub\n",
    "ищет шаблон в строке и заменяет все совпадения на указанную подстроку\n",
    "\n",
    "параметры: (pattern, repl, string)"
   ]
  },
  {
   "cell_type": "code",
   "execution_count": 6,
   "id": "00e406a2",
   "metadata": {},
   "outputs": [
    {
     "name": "stdout",
     "output_type": "stream",
     "text": [
      "bbcbbc\n"
     ]
    }
   ],
   "source": [
    "result = re.sub(\"a\", \"b\", \"abcabc\")\n",
    "print(result)"
   ]
  },
  {
   "cell_type": "markdown",
   "id": "9b866c79",
   "metadata": {},
   "source": [
    "При этом в качестве repl, можно передавать не только строку, но и функцию, которая принимает на вход [Match](https://docs.python.org/3/library/re.html#match-objects) объект. Можно делать что-то типо этого:"
   ]
  },
  {
   "cell_type": "code",
   "execution_count": 7,
   "id": "e14d4509",
   "metadata": {},
   "outputs": [
    {
     "data": {
      "text/plain": [
       "'(a#1)bc(a#2)bc'"
      ]
     },
     "execution_count": 7,
     "metadata": {},
     "output_type": "execute_result"
    }
   ],
   "source": [
    "counter = 0\n",
    "\n",
    "\n",
    "def count(match):\n",
    "    global counter\n",
    "    counter += 1\n",
    "    return f\"(a#{counter})\"\n",
    "\n",
    "\n",
    "re.sub(\"a\", count, \"abcabc\")"
   ]
  },
  {
   "cell_type": "markdown",
   "id": "ad124deb",
   "metadata": {},
   "source": [
    "Кстати, c объектами типа re.Match работают и многие другие методы re. Например, метод re.finditer в отличии от re.findall будет возвращать те самые re.Match."
   ]
  },
  {
   "cell_type": "code",
   "execution_count": 8,
   "id": "7b494ff2",
   "metadata": {},
   "outputs": [
    {
     "name": "stdout",
     "output_type": "stream",
     "text": [
      "<re.Match object; span=(0, 4), match='abcd'>\n",
      "<re.Match object; span=(11, 15), match='abca'>\n"
     ]
    }
   ],
   "source": [
    "for match in re.finditer(\"ab+c.\", \"abcdefghijkabcabcxabc\"):\n",
    "    print(match)"
   ]
  },
  {
   "cell_type": "markdown",
   "id": "ab8eb75d",
   "metadata": {},
   "source": [
    "### compile\n",
    "компилирует регулярное выражение в отдельный объект"
   ]
  },
  {
   "cell_type": "code",
   "execution_count": 9,
   "id": "64a3ef6d",
   "metadata": {},
   "outputs": [
    {
     "data": {
      "text/plain": [
       "['Слова', 'Да', 'больше', 'ещё', 'больше', 'слов', 'Что-то', 'ещё']"
      ]
     },
     "execution_count": 9,
     "metadata": {},
     "output_type": "execute_result"
    }
   ],
   "source": [
    "# Пример: построение списка всех слов строки:\n",
    "prog = re.compile(\"[А-Яа-яё\\-]+\")\n",
    "prog.findall(\"Слова? Да, больше, ещё больше слов! Что-то ещё.\")"
   ]
  },
  {
   "cell_type": "code",
   "execution_count": 10,
   "id": "2363f1f7",
   "metadata": {},
   "outputs": [
    {
     "data": {
      "text/plain": [
       "['@gmail.com', '@test.in', '@analyticsvidhya.com', '@rest.biz']"
      ]
     },
     "execution_count": 10,
     "metadata": {},
     "output_type": "execute_result"
    }
   ],
   "source": [
    "#Так можно вернуть списко всех доменов из строки с разынми почтами\n",
    "emails = \"abc.test@gmail.com, xyz@test.in, test.first@analyticsvidhya.com, first.test@rest.biz\"\n",
    "domains = re.compile(r'@[\\w.-]+')\n",
    "domains.findall(emails)"
   ]
  },
  {
   "cell_type": "markdown",
   "id": "6a705fa7",
   "metadata": {},
   "source": [
    "## 1. Токенизация\n",
    "\n",
    "Токенизировать — значит, поделить текст на отдельные смысловые единицы (как правило слова, но не обязательно), или по другому *токены*. Самый тривиальный способ токенизировать текст — разделить на слова по пробелам с помощью `split`. Но `split` упускает очень много всего, например, не отделяет пунктуацию от слов. Кроме этого есть ещё много менее очевидных проблем, возникающих при такой токенизации, поэтому на практике всегда используют готовые токенизаторы."
   ]
  },
  {
   "cell_type": "markdown",
   "id": "cc02c4ee",
   "metadata": {},
   "source": [
    "**PS.**\n",
    "К сожалению, на рабочих устройствах невозможно полностью воспользоваться функционалом бибилиотеки nltk, так как установить саму бибилиотеку можно, а дополнительные зависимости, необходимые для полноценного функционирования, - НЕТ. \n",
    "\n",
    "Изначально ноутбук был составлен именно с использованием библиотеки nltk, но при тесте его на рабочем устройстве я убедился что в таком виде он будет не пригоде для использования в работе. Поэтому я принял решение расширить изначальную версию ноутбука разделами и примерами того, как можно заменить некоторые компоненты библиотеки nltk самописными функциями или другими библиотеками. \n",
    "\n",
    "Итоговый пайплайн из пункта 8 будет реализован без использования библиотеки nltk."
   ]
  },
  {
   "cell_type": "code",
   "execution_count": 18,
   "id": "07e22e57",
   "metadata": {},
   "outputs": [],
   "source": [
    "import warnings\n",
    "\n",
    "import nltk\n",
    "import pandas as pd\n",
    "from nltk.tokenize import word_tokenize\n",
    "\n",
    "warnings.filterwarnings(\"ignore\")"
   ]
  },
  {
   "cell_type": "code",
   "execution_count": 5,
   "id": "afbbe57e",
   "metadata": {},
   "outputs": [
    {
     "data": {
      "text/plain": [
       "True"
      ]
     },
     "execution_count": 5,
     "metadata": {},
     "output_type": "execute_result"
    }
   ],
   "source": [
    "nltk.download(\"punkt_tab\", quiet=True)"
   ]
  },
  {
   "cell_type": "code",
   "execution_count": 16,
   "id": "c48045fa",
   "metadata": {},
   "outputs": [],
   "source": [
    "example = \"Но не каждый хочет что-то исправлять:(\""
   ]
  },
  {
   "cell_type": "code",
   "execution_count": 7,
   "id": "03b75e32",
   "metadata": {},
   "outputs": [
    {
     "name": "stdout",
     "output_type": "stream",
     "text": [
      "Исходный текст: Но не каждый хочет что-то исправлять:(\n",
      "Токенизация c помощью split(): ['Но', 'не', 'каждый', 'хочет', 'что-то', 'исправлять:(']\n",
      "Токенизация c помощью готового токенизатора: ['Но', 'не', 'каждый', 'хочет', 'что-то', 'исправлять', ':', '(']\n"
     ]
    }
   ],
   "source": [
    "print('Исходный текст:', example)\n",
    "print('Токенизация c помощью split():', example.split())\n",
    "print('Токенизация c помощью готового токенизатора:', word_tokenize(example))"
   ]
  },
  {
   "cell_type": "markdown",
   "id": "fbbc968a",
   "metadata": {},
   "source": [
    "В `nltk` есть много разных токенизаторов, посмотреть на них можно так:"
   ]
  },
  {
   "cell_type": "code",
   "execution_count": 8,
   "id": "c5c54686",
   "metadata": {},
   "outputs": [
    {
     "name": "stdout",
     "output_type": "stream",
     "text": [
      "Всего встроенных в nltk токенизаторов: 61\n"
     ]
    },
    {
     "data": {
      "text/plain": [
       "['BlanklineTokenizer',\n",
       " 'LegalitySyllableTokenizer',\n",
       " 'LineTokenizer',\n",
       " 'MWETokenizer',\n",
       " 'NLTKWordTokenizer',\n",
       " 'PunktSentenceTokenizer',\n",
       " 'PunktTokenizer',\n",
       " 'RegexpTokenizer',\n",
       " 'ReppTokenizer',\n",
       " 'SExprTokenizer']"
      ]
     },
     "execution_count": 8,
     "metadata": {},
     "output_type": "execute_result"
    }
   ],
   "source": [
    "from nltk import tokenize\n",
    "\n",
    "print('Всего встроенных в nltk токенизаторов:', len(dir(tokenize)))\n",
    "#первые 10\n",
    "dir(tokenize)[:10]"
   ]
  },
  {
   "cell_type": "markdown",
   "id": "04250c8c",
   "metadata": {},
   "source": [
    "Можно получить индексы начала и конца каждого токена:"
   ]
  },
  {
   "cell_type": "code",
   "execution_count": 9,
   "id": "3f6aa62c",
   "metadata": {},
   "outputs": [
    {
     "data": {
      "text/plain": [
       "[(0, 2), (3, 5), (6, 12), (13, 18), (19, 25), (26, 38)]"
      ]
     },
     "execution_count": 9,
     "metadata": {},
     "output_type": "execute_result"
    }
   ],
   "source": [
    "wh_tok = tokenize.WhitespaceTokenizer()\n",
    "list(wh_tok.span_tokenize(example))"
   ]
  },
  {
   "cell_type": "markdown",
   "id": "1ede01dc",
   "metadata": {},
   "source": [
    "Некторые токенизаторы ведут себя специфично:"
   ]
  },
  {
   "cell_type": "code",
   "execution_count": 10,
   "id": "7f14809b",
   "metadata": {},
   "outputs": [
    {
     "data": {
      "text/plain": [
       "['do', \"n't\", 'stop', 'me']"
      ]
     },
     "execution_count": 10,
     "metadata": {},
     "output_type": "execute_result"
    }
   ],
   "source": [
    "tokenize.TreebankWordTokenizer().tokenize(\"don't stop me\")"
   ]
  },
  {
   "cell_type": "markdown",
   "id": "ea5f7da9",
   "metadata": {},
   "source": [
    "Для некоторых задач это может быть полезно.\n",
    "\n",
    "А некоторые предназначены вообще не для текста на естественном языке:"
   ]
  },
  {
   "cell_type": "code",
   "execution_count": 11,
   "id": "4dd7d80f",
   "metadata": {},
   "outputs": [
    {
     "data": {
      "text/plain": [
       "['(a (b c))', 'd', 'e', '(f)']"
      ]
     },
     "execution_count": 11,
     "metadata": {},
     "output_type": "execute_result"
    }
   ],
   "source": [
    "tokenize.SExprTokenizer().tokenize(\"(a (b c)) d e (f)\")"
   ]
  },
  {
   "cell_type": "markdown",
   "id": "e358f2ba",
   "metadata": {},
   "source": [
    "Есть токенизатор, который может быть полезен для работы с твитами или сообщениями из соц. сетей. Он сохранит смайлики, хештеги и т.п."
   ]
  },
  {
   "cell_type": "code",
   "execution_count": 12,
   "id": "f136e47e",
   "metadata": {},
   "outputs": [
    {
     "data": {
      "text/plain": [
       "['Но', 'не', 'каждый', 'хочет', 'что-то', 'исправлять', ':(']"
      ]
     },
     "execution_count": 12,
     "metadata": {},
     "output_type": "execute_result"
    }
   ],
   "source": [
    "from nltk.tokenize import TweetTokenizer\n",
    "\n",
    "tw = TweetTokenizer()\n",
    "tw.tokenize(example)"
   ]
  },
  {
   "cell_type": "markdown",
   "id": "bcc6aea6",
   "metadata": {},
   "source": [
    "### Токенизация с помощью регулярных выражений"
   ]
  },
  {
   "cell_type": "markdown",
   "id": "4f95132d",
   "metadata": {},
   "source": [
    "В этом разделе приведу 5 примеров написания токенизатора от самого базового (с помощью `split` по пробелам) до более продвинутого, который распознает ссылки, числа с плавающей точкой, эмодзи и дефисные слова."
   ]
  },
  {
   "cell_type": "code",
   "execution_count": 23,
   "id": "06a2c434",
   "metadata": {},
   "outputs": [],
   "source": [
    "import re #библиотека для работы с регулярными выражениями, установлена по умолчанию"
   ]
  },
  {
   "cell_type": "markdown",
   "id": "d9627362",
   "metadata": {},
   "source": [
    "**1. Токенизация по пробелу**\n",
    "\n",
    "Пояснение: Разбивает строку по пробелам. Знаки препинания остаются с токенами."
   ]
  },
  {
   "cell_type": "code",
   "execution_count": 24,
   "id": "2a587387",
   "metadata": {},
   "outputs": [
    {
     "data": {
      "text/plain": [
       "['Но', 'не', 'каждый', 'хочет', 'что-то', 'исправлять:(']"
      ]
     },
     "execution_count": 24,
     "metadata": {},
     "output_type": "execute_result"
    }
   ],
   "source": [
    "def tokenize_simple(text):\n",
    "    return text.split()\n",
    "\n",
    "tokenize_simple(example)"
   ]
  },
  {
   "cell_type": "markdown",
   "id": "551b3e3d",
   "metadata": {},
   "source": [
    "**2. Только слова (токенизация без знаков препинания)**\n",
    "\n",
    "Пояснение: Извлекает только слова (`w+`), пропуская знаки препинания."
   ]
  },
  {
   "cell_type": "code",
   "execution_count": 26,
   "id": "43201ddf",
   "metadata": {},
   "outputs": [
    {
     "data": {
      "text/plain": [
       "['Но', 'не', 'каждый', 'хочет', 'что', 'то', 'исправлять']"
      ]
     },
     "execution_count": 26,
     "metadata": {},
     "output_type": "execute_result"
    }
   ],
   "source": [
    "def tokenize_words(text):\n",
    "    return re.findall(r'\\w+', text, re.UNICODE)\n",
    "\n",
    "tokenize_words(example)"
   ]
  },
  {
   "cell_type": "markdown",
   "id": "0be9aae1",
   "metadata": {},
   "source": [
    "**3. Слова, числа и знаки препинания как отдельные токены**\n",
    "\n",
    "Пояснение:  \n",
    "- `\\w+` — слова или числа  \n",
    "- `[^\\w\\s]` — одиночные знаки препинания  \n",
    "- Разделяет, например, \"привет!\" → [\"привет\", \"!\"]"
   ]
  },
  {
   "cell_type": "code",
   "execution_count": 27,
   "id": "9fc1c58f",
   "metadata": {},
   "outputs": [
    {
     "data": {
      "text/plain": [
       "['Но', 'не', 'каждый', 'хочет', 'что', '-', 'то', 'исправлять', ':', '(']"
      ]
     },
     "execution_count": 27,
     "metadata": {},
     "output_type": "execute_result"
    }
   ],
   "source": [
    "def tokenize_words_punct(text):\n",
    "    return re.findall(r'\\w+|[^\\w\\s]', text, re.UNICODE)\n",
    "\n",
    "tokenize_words_punct(example)"
   ]
  },
  {
   "cell_type": "markdown",
   "id": "ecaf9287",
   "metadata": {},
   "source": [
    "**4. Учет cлова с дефисом или апострофом, числа, знаки препинания**\n",
    "\n",
    "Пояснение:  \n",
    "- `(?:[-']\\w+)*` — позволяет объединять слова с дефисом или апострофом как один токен: 25-летний, rock'n'roll"
   ]
  },
  {
   "cell_type": "code",
   "execution_count": 28,
   "id": "a09e152d",
   "metadata": {},
   "outputs": [
    {
     "data": {
      "text/plain": [
       "['Но', 'не', 'каждый', 'хочет', 'что-то', 'исправлять', ':', '(']"
      ]
     },
     "execution_count": 28,
     "metadata": {},
     "output_type": "execute_result"
    }
   ],
   "source": [
    "def tokenize_hyphenated(text):\n",
    "    pattern = r\"\\w+(?:[-']\\w+)*|[^\\w\\s]\"\n",
    "    return re.findall(pattern, text, re.UNICODE)\n",
    "\n",
    "tokenize_hyphenated(example)"
   ]
  },
  {
   "cell_type": "markdown",
   "id": "6eede57f",
   "metadata": {},
   "source": [
    "**5. Продвинутый вариант: эмодзи, email, url, числа (с разделителем), слова, знаки**\n",
    "\n",
    "Пояснение:  \n",
    "- Ищет URL, E-mail, числа, дефисные слова, эмодзи, отдельно знаки препинания.\n",
    "- Учитывает сложные случаи и современные особенности текстов."
   ]
  },
  {
   "cell_type": "code",
   "execution_count": null,
   "id": "82f2dcb1",
   "metadata": {},
   "outputs": [
    {
     "data": {
      "text/plain": [
       "['Но', 'не', 'каждый', 'хочет', 'что-то', 'исправлять', ':', '(']"
      ]
     },
     "execution_count": 45,
     "metadata": {},
     "output_type": "execute_result"
    }
   ],
   "source": [
    "def tokenize_advanced(text):\n",
    "    pattern = ( \n",
    "    r\"(?:https?://\\S+)|\"       # URL\n",
    "    r\"(?:\\w+@\\w+\\.\\w+)|\"       # Email\n",
    "    r\"(?:\\d{1,3}(?:[.,]\\d{3})*(?:[.,]\\d+)?)|\"  # числа\n",
    "    r\"(?:[a-zA-Zа-яА-ЯёЁ0-9]+(?:[-'][a-zA-Zа-яА-ЯёЁ0-9]+)*)|\"\n",
    "    r\"(?:[\\U0001F600-\\U0001F64F])|\"    # эмодзи из диапазона Unicode\n",
    "    r\"[^\\w\\s]\"                      # знаки препинания\n",
    ")\n",
    "    \n",
    "    return re.findall(pattern, text, re.UNICODE)\n",
    "\n",
    "tokenize_advanced(example)"
   ]
  },
  {
   "cell_type": "markdown",
   "id": "6c864391",
   "metadata": {},
   "source": [
    "**6. Сравнение всех версий токенизаторов**"
   ]
  },
  {
   "cell_type": "code",
   "execution_count": 46,
   "id": "6afeeb6e",
   "metadata": {},
   "outputs": [],
   "source": [
    "texts = [\n",
    "r\"Привет! Это тестовое сообщение. Мой e-mail: user@mail.ru\",\n",
    "r\"На сайте https://example.com есть топ-5 'best-of-the-best' товаров – 12,5 тысяч отзывов!\",\n",
    "r\"Сегодня я :), а вчера был :( и даже ¯\\\\_(ツ)_/¯\",\n",
    "r\"Цена: 1.250,35 руб. Купи сейчас! #выгодно\",\n",
    "r\"Слово с дефисом – по-русски, and with-hyphen in English. Don't stop!\"\n",
    "]"
   ]
  },
  {
   "cell_type": "code",
   "execution_count": 51,
   "id": "28c50992",
   "metadata": {},
   "outputs": [
    {
     "name": "stdout",
     "output_type": "stream",
     "text": [
      "Токенизатор: tokenize_simple\n",
      "Исходный текст: Привет! Это тестовое сообщение. Мой e-mail: user@mail.ru\n",
      "Список токенов: ['Привет!', 'Это', 'тестовое', 'сообщение.', 'Мой', 'e-mail:', 'user@mail.ru']\n",
      "Исходный текст: На сайте https://example.com есть топ-5 'best-of-the-best' товаров – 12,5 тысяч отзывов!\n",
      "Список токенов: ['На', 'сайте', 'https://example.com', 'есть', 'топ-5', \"'best-of-the-best'\", 'товаров', '–', '12,5', 'тысяч', 'отзывов!']\n",
      "Исходный текст: Сегодня я :), а вчера был :( и даже ¯\\\\_(ツ)_/¯\n",
      "Список токенов: ['Сегодня', 'я', ':),', 'а', 'вчера', 'был', ':(', 'и', 'даже', '¯\\\\\\\\_(ツ)_/¯']\n",
      "Исходный текст: Цена: 1.250,35 руб. Купи сейчас! #выгодно\n",
      "Список токенов: ['Цена:', '1.250,35', 'руб.', 'Купи', 'сейчас!', '#выгодно']\n",
      "Исходный текст: Слово с дефисом – по-русски, and with-hyphen in English. Don't stop!\n",
      "Список токенов: ['Слово', 'с', 'дефисом', '–', 'по-русски,', 'and', 'with-hyphen', 'in', 'English.', \"Don't\", 'stop!']\n",
      "\n",
      "\n",
      "Токенизатор: tokenize_words\n",
      "Исходный текст: Привет! Это тестовое сообщение. Мой e-mail: user@mail.ru\n",
      "Список токенов: ['Привет', 'Это', 'тестовое', 'сообщение', 'Мой', 'e', 'mail', 'user', 'mail', 'ru']\n",
      "Исходный текст: На сайте https://example.com есть топ-5 'best-of-the-best' товаров – 12,5 тысяч отзывов!\n",
      "Список токенов: ['На', 'сайте', 'https', 'example', 'com', 'есть', 'топ', '5', 'best', 'of', 'the', 'best', 'товаров', '12', '5', 'тысяч', 'отзывов']\n",
      "Исходный текст: Сегодня я :), а вчера был :( и даже ¯\\\\_(ツ)_/¯\n",
      "Список токенов: ['Сегодня', 'я', 'а', 'вчера', 'был', 'и', 'даже', '_', 'ツ', '_']\n",
      "Исходный текст: Цена: 1.250,35 руб. Купи сейчас! #выгодно\n",
      "Список токенов: ['Цена', '1', '250', '35', 'руб', 'Купи', 'сейчас', 'выгодно']\n",
      "Исходный текст: Слово с дефисом – по-русски, and with-hyphen in English. Don't stop!\n",
      "Список токенов: ['Слово', 'с', 'дефисом', 'по', 'русски', 'and', 'with', 'hyphen', 'in', 'English', 'Don', 't', 'stop']\n",
      "\n",
      "\n",
      "Токенизатор: tokenize_words_punct\n",
      "Исходный текст: Привет! Это тестовое сообщение. Мой e-mail: user@mail.ru\n",
      "Список токенов: ['Привет', '!', 'Это', 'тестовое', 'сообщение', '.', 'Мой', 'e', '-', 'mail', ':', 'user', '@', 'mail', '.', 'ru']\n",
      "Исходный текст: На сайте https://example.com есть топ-5 'best-of-the-best' товаров – 12,5 тысяч отзывов!\n",
      "Список токенов: ['На', 'сайте', 'https', ':', '/', '/', 'example', '.', 'com', 'есть', 'топ', '-', '5', \"'\", 'best', '-', 'of', '-', 'the', '-', 'best', \"'\", 'товаров', '–', '12', ',', '5', 'тысяч', 'отзывов', '!']\n",
      "Исходный текст: Сегодня я :), а вчера был :( и даже ¯\\\\_(ツ)_/¯\n",
      "Список токенов: ['Сегодня', 'я', ':', ')', ',', 'а', 'вчера', 'был', ':', '(', 'и', 'даже', '¯', '\\\\', '\\\\', '_', '(', 'ツ', ')', '_', '/', '¯']\n",
      "Исходный текст: Цена: 1.250,35 руб. Купи сейчас! #выгодно\n",
      "Список токенов: ['Цена', ':', '1', '.', '250', ',', '35', 'руб', '.', 'Купи', 'сейчас', '!', '#', 'выгодно']\n",
      "Исходный текст: Слово с дефисом – по-русски, and with-hyphen in English. Don't stop!\n",
      "Список токенов: ['Слово', 'с', 'дефисом', '–', 'по', '-', 'русски', ',', 'and', 'with', '-', 'hyphen', 'in', 'English', '.', 'Don', \"'\", 't', 'stop', '!']\n",
      "\n",
      "\n",
      "Токенизатор: tokenize_hyphenated\n",
      "Исходный текст: Привет! Это тестовое сообщение. Мой e-mail: user@mail.ru\n",
      "Список токенов: ['Привет', '!', 'Это', 'тестовое', 'сообщение', '.', 'Мой', 'e-mail', ':', 'user', '@', 'mail', '.', 'ru']\n",
      "Исходный текст: На сайте https://example.com есть топ-5 'best-of-the-best' товаров – 12,5 тысяч отзывов!\n",
      "Список токенов: ['На', 'сайте', 'https', ':', '/', '/', 'example', '.', 'com', 'есть', 'топ-5', \"'\", 'best-of-the-best', \"'\", 'товаров', '–', '12', ',', '5', 'тысяч', 'отзывов', '!']\n",
      "Исходный текст: Сегодня я :), а вчера был :( и даже ¯\\\\_(ツ)_/¯\n",
      "Список токенов: ['Сегодня', 'я', ':', ')', ',', 'а', 'вчера', 'был', ':', '(', 'и', 'даже', '¯', '\\\\', '\\\\', '_', '(', 'ツ', ')', '_', '/', '¯']\n",
      "Исходный текст: Цена: 1.250,35 руб. Купи сейчас! #выгодно\n",
      "Список токенов: ['Цена', ':', '1', '.', '250', ',', '35', 'руб', '.', 'Купи', 'сейчас', '!', '#', 'выгодно']\n",
      "Исходный текст: Слово с дефисом – по-русски, and with-hyphen in English. Don't stop!\n",
      "Список токенов: ['Слово', 'с', 'дефисом', '–', 'по-русски', ',', 'and', 'with-hyphen', 'in', 'English', '.', \"Don't\", 'stop', '!']\n",
      "\n",
      "\n",
      "Токенизатор: tokenize_advanced\n",
      "Исходный текст: Привет! Это тестовое сообщение. Мой e-mail: user@mail.ru\n",
      "Список токенов: ['Привет', '!', 'Это', 'тестовое', 'сообщение', '.', 'Мой', 'e-mail', ':', 'user@mail.ru']\n",
      "Исходный текст: На сайте https://example.com есть топ-5 'best-of-the-best' товаров – 12,5 тысяч отзывов!\n",
      "Список токенов: ['На', 'сайте', 'https://example.com', 'есть', 'топ-5', \"'\", 'best-of-the-best', \"'\", 'товаров', '–', '12,5', 'тысяч', 'отзывов', '!']\n",
      "Исходный текст: Сегодня я :), а вчера был :( и даже ¯\\\\_(ツ)_/¯\n",
      "Список токенов: ['Сегодня', 'я', ':', ')', ',', 'а', 'вчера', 'был', ':', '(', 'и', 'даже', '¯', '\\\\', '\\\\', '(', ')', '/', '¯']\n",
      "Исходный текст: Цена: 1.250,35 руб. Купи сейчас! #выгодно\n",
      "Список токенов: ['Цена', ':', '1.250,35', 'руб', '.', 'Купи', 'сейчас', '!', '#', 'выгодно']\n",
      "Исходный текст: Слово с дефисом – по-русски, and with-hyphen in English. Don't stop!\n",
      "Список токенов: ['Слово', 'с', 'дефисом', '–', 'по-русски', ',', 'and', 'with-hyphen', 'in', 'English', '.', \"Don't\", 'stop', '!']\n",
      "\n",
      "\n"
     ]
    }
   ],
   "source": [
    "for func in [tokenize_simple, tokenize_words, tokenize_words_punct, tokenize_hyphenated, tokenize_advanced]:\n",
    "    print('Токенизатор:', func.__name__,)\n",
    "    for t in texts:\n",
    "        print( 'Исходный текст:', t)\n",
    "        print('Список токенов:', func(t))\n",
    "    print('\\n')"
   ]
  },
  {
   "cell_type": "markdown",
   "id": "8a7e8622",
   "metadata": {},
   "source": [
    "## 2. Стоп-слова и пунктуация\n",
    "\n",
    "*Стоп-слова* — это слова, которые часто встречаются практически в любом тексте и ничего интересного не говорят о конретном документе, то есть играют роль шума. Поэтому их принято убирать. По той же причине убирают и пунктуацию."
   ]
  },
  {
   "cell_type": "code",
   "execution_count": 13,
   "id": "976f8824",
   "metadata": {},
   "outputs": [
    {
     "data": {
      "text/plain": [
       "True"
      ]
     },
     "execution_count": 13,
     "metadata": {},
     "output_type": "execute_result"
    }
   ],
   "source": [
    "nltk.download(\"stopwords\", quiet=True)"
   ]
  },
  {
   "cell_type": "code",
   "execution_count": 14,
   "id": "020dbc71",
   "metadata": {},
   "outputs": [
    {
     "name": "stdout",
     "output_type": "stream",
     "text": [
      "['и', 'в', 'во', 'не', 'что', 'он', 'на', 'я', 'с', 'со', 'как', 'а', 'то', 'все', 'она', 'так', 'его', 'но', 'да', 'ты', 'к', 'у', 'же', 'вы', 'за', 'бы', 'по', 'только', 'ее', 'мне', 'было', 'вот', 'от', 'меня', 'еще', 'нет', 'о', 'из', 'ему', 'теперь', 'когда', 'даже', 'ну', 'вдруг', 'ли', 'если', 'уже', 'или', 'ни', 'быть', 'был', 'него', 'до', 'вас', 'нибудь', 'опять', 'уж', 'вам', 'ведь', 'там', 'потом', 'себя', 'ничего', 'ей', 'может', 'они', 'тут', 'где', 'есть', 'надо', 'ней', 'для', 'мы', 'тебя', 'их', 'чем', 'была', 'сам', 'чтоб', 'без', 'будто', 'чего', 'раз', 'тоже', 'себе', 'под', 'будет', 'ж', 'тогда', 'кто', 'этот', 'того', 'потому', 'этого', 'какой', 'совсем', 'ним', 'здесь', 'этом', 'один', 'почти', 'мой', 'тем', 'чтобы', 'нее', 'сейчас', 'были', 'куда', 'зачем', 'всех', 'никогда', 'можно', 'при', 'наконец', 'два', 'об', 'другой', 'хоть', 'после', 'над', 'больше', 'тот', 'через', 'эти', 'нас', 'про', 'всего', 'них', 'какая', 'много', 'разве', 'три', 'эту', 'моя', 'впрочем', 'хорошо', 'свою', 'этой', 'перед', 'иногда', 'лучше', 'чуть', 'том', 'нельзя', 'такой', 'им', 'более', 'всегда', 'конечно', 'всю', 'между']\n"
     ]
    }
   ],
   "source": [
    "from nltk.corpus import stopwords\n",
    "\n",
    "print(stopwords.words(\"russian\"))"
   ]
  },
  {
   "cell_type": "code",
   "execution_count": 15,
   "id": "f84ebde3",
   "metadata": {},
   "outputs": [
    {
     "name": "stdout",
     "output_type": "stream",
     "text": [
      "['a', 'about', 'above', 'after', 'again', 'against', 'ain', 'all', 'am', 'an', 'and', 'any', 'are', 'aren', \"aren't\", 'as', 'at', 'be', 'because', 'been', 'before', 'being', 'below', 'between', 'both', 'but', 'by', 'can', 'couldn', \"couldn't\", 'd', 'did', 'didn', \"didn't\", 'do', 'does', 'doesn', \"doesn't\", 'doing', 'don', \"don't\", 'down', 'during', 'each', 'few', 'for', 'from', 'further', 'had', 'hadn', \"hadn't\", 'has', 'hasn', \"hasn't\", 'have', 'haven', \"haven't\", 'having', 'he', \"he'd\", \"he'll\", 'her', 'here', 'hers', 'herself', \"he's\", 'him', 'himself', 'his', 'how', 'i', \"i'd\", 'if', \"i'll\", \"i'm\", 'in', 'into', 'is', 'isn', \"isn't\", 'it', \"it'd\", \"it'll\", \"it's\", 'its', 'itself', \"i've\", 'just', 'll', 'm', 'ma', 'me', 'mightn', \"mightn't\", 'more', 'most', 'mustn', \"mustn't\", 'my', 'myself', 'needn', \"needn't\", 'no', 'nor', 'not', 'now', 'o', 'of', 'off', 'on', 'once', 'only', 'or', 'other', 'our', 'ours', 'ourselves', 'out', 'over', 'own', 're', 's', 'same', 'shan', \"shan't\", 'she', \"she'd\", \"she'll\", \"she's\", 'should', 'shouldn', \"shouldn't\", \"should've\", 'so', 'some', 'such', 't', 'than', 'that', \"that'll\", 'the', 'their', 'theirs', 'them', 'themselves', 'then', 'there', 'these', 'they', \"they'd\", \"they'll\", \"they're\", \"they've\", 'this', 'those', 'through', 'to', 'too', 'under', 'until', 'up', 've', 'very', 'was', 'wasn', \"wasn't\", 'we', \"we'd\", \"we'll\", \"we're\", 'were', 'weren', \"weren't\", \"we've\", 'what', 'when', 'where', 'which', 'while', 'who', 'whom', 'why', 'will', 'with', 'won', \"won't\", 'wouldn', \"wouldn't\", 'y', 'you', \"you'd\", \"you'll\", 'your', \"you're\", 'yours', 'yourself', 'yourselves', \"you've\"]\n"
     ]
    }
   ],
   "source": [
    "print(stopwords.words(\"english\"))"
   ]
  },
  {
   "cell_type": "markdown",
   "id": "13a55b8c",
   "metadata": {},
   "source": [
    "Так как 3 ячейки выше не запустятся на рабочих устройствах, то я отдельно вынес списки стоп-слов, зашитые в библиотеку nltk, чтобы ими можно было пользоваться"
   ]
  },
  {
   "cell_type": "code",
   "execution_count": 16,
   "id": "191fc192",
   "metadata": {},
   "outputs": [],
   "source": [
    "#список русских стоп слов\n",
    "rus_stop_words_list = ['и', 'в', 'во', 'не', 'что', 'он', 'на', 'я', 'с', 'со', 'как', 'а', 'то', 'все', 'она', 'так', 'его',\n",
    "                        'но', 'да', 'ты', 'к', 'у', 'же', 'вы', 'за', 'бы', 'по', 'только', 'ее', 'мне', 'было', 'вот', 'от', \n",
    "                        'меня', 'еще', 'нет', 'о', 'из', 'ему', 'теперь', 'когда', 'даже', 'ну', 'вдруг', 'ли', 'если', 'уже',\n",
    "                        'или', 'ни', 'быть', 'был', 'него', 'до', 'вас', 'нибудь', 'опять', 'уж', 'вам', 'ведь', 'там', 'потом',\n",
    "                        'себя', 'ничего', 'ей', 'может', 'они', 'тут', 'где', 'есть', 'надо', 'ней', 'для', 'мы', 'тебя', 'их',\n",
    "                        'чем', 'была', 'сам', 'чтоб', 'без', 'будто', 'чего', 'раз', 'тоже', 'себе', 'под', 'будет', 'ж', 'тогда',  \n",
    "                        'кто', 'этот', 'того', 'потому', 'этого', 'какой', 'совсем', 'ним', 'здесь', 'этом', 'один', 'почти', 'мой', \n",
    "                        'тем', 'чтобы', 'нее', 'сейчас', 'были', 'куда', 'зачем', 'всех', 'никогда', 'можно', 'при', 'наконец', 'два', 'об',\n",
    "                        'другой', 'хоть', 'после', 'над', 'больше', 'тот', 'через', 'эти', 'нас', 'про', 'всего', 'них', 'какая', 'много', \n",
    "                        'разве', 'три', 'эту', 'моя', 'впрочем', 'хорошо', 'свою', 'этой', 'перед', 'иногда', 'лучше', 'чуть', 'том', 'нельзя',\n",
    "                        'такой', 'им', 'более', 'всегда', 'конечно', 'всю', 'между']\n",
    "#список английских стоп слов\n",
    "eng_stop_words_list = ['a', 'about', 'above', 'after', 'again', 'against', 'ain', 'all', 'am', 'an', 'and', 'any', 'are', 'aren', \"aren't\", 'as',\n",
    "                        'at', 'be', 'because', 'been', 'before', 'being', 'below', 'between', 'both', 'but', 'by', 'can', 'couldn', \"couldn't\", 'd',\n",
    "                        'did', 'didn', \"didn't\", 'do', 'does', 'doesn', \"doesn't\", 'doing', 'don', \"don't\", 'down', 'during', 'each', 'few', 'for', \n",
    "                        'from', 'further', 'had', 'hadn', \"hadn't\", 'has', 'hasn', \"hasn't\", 'have', 'haven', \"haven't\", 'having', 'he', \"he'd\", \"he'll\",\n",
    "                        'her', 'here', 'hers', 'herself', \"he's\", 'him', 'himself', 'his', 'how', 'i', \"i'd\", 'if', \"i'll\", \"i'm\", 'in', 'into', 'is', \n",
    "                        'isn', \"isn't\", 'it', \"it'd\", \"it'll\", \"it's\", 'its', 'itself', \"i've\", 'just', 'll', 'm', 'ma', 'me', 'mightn', \"mightn't\", 'more',\n",
    "                        'most', 'mustn', \"mustn't\", 'my', 'myself', 'needn', \"needn't\", 'no', 'nor', 'not', 'now', 'o', 'of', 'off', 'on', 'once', 'only',\n",
    "                        'or', 'other', 'our', 'ours', 'ourselves', 'out', 'over', 'own', 're', 's', 'same', 'shan', \"shan't\", 'she', \"she'd\", \"she'll\", \n",
    "                        \"she's\", 'should', 'shouldn', \"shouldn't\", \"should've\", 'so', 'some', 'such', 't', 'than', 'that', \"that'll\", 'the', 'their', \n",
    "                        'theirs', 'them', 'themselves', 'then', 'there', 'these', 'they', \"they'd\", \"they'll\", \"they're\", \"they've\", 'this', 'those', \n",
    "                        'through', 'to', 'too', 'under', 'until', 'up', 've', 'very', 'was', 'wasn', \"wasn't\", 'we', \"we'd\", \"we'll\", \"we're\", 'were', \n",
    "                        'weren', \"weren't\", \"we've\", 'what', 'when', 'where', 'which', 'while', 'who', 'whom', 'why', 'will', 'with', 'won', \"won't\", \n",
    "                        'wouldn', \"wouldn't\", 'y', 'you', \"you'd\", \"you'll\", 'your', \"you're\", 'yours', 'yourself', 'yourselves', \"you've\"]"
   ]
  },
  {
   "cell_type": "code",
   "execution_count": 17,
   "id": "16c6d97b",
   "metadata": {},
   "outputs": [
    {
     "data": {
      "text/plain": [
       "'!\"#$%&\\'()*+,-./:;<=>?@[\\\\]^_`{|}~'"
      ]
     },
     "execution_count": 17,
     "metadata": {},
     "output_type": "execute_result"
    }
   ],
   "source": [
    "from string import punctuation\n",
    "\n",
    "#знаки пунктуации\n",
    "punctuation"
   ]
  },
  {
   "cell_type": "code",
   "execution_count": null,
   "id": "c57c49f0",
   "metadata": {},
   "outputs": [],
   "source": [
    "#стоп слова + знаки пунктуации\n",
    "noise = rus_stop_words_list + list(punctuation)"
   ]
  },
  {
   "cell_type": "markdown",
   "id": "23db15d0",
   "metadata": {},
   "source": [
    "## 3. Лемматизация и стемминг\n",
    "### 3.1 Лемматизация\n",
    "\n",
    "[**Лемматизация**](https://en.wikipedia.org/wiki/Lemmatisation) — процесс приведения слова к его нормальной форме (**лемме**):\n",
    "- для существительных — именительный падеж, единственное число;\n",
    "- для прилагательных — именительный падеж, единственное число, мужской род;\n",
    "- для глаголов, причастий, деепричастий — глагол в инфинитиве.\n",
    "\n",
    "Например, токены «пью», «пил», «пьет» перейдут в «пить». Почему это хорошо?\n",
    "* Во-первых, мы хотим рассматривать как отдельный признак каждое *слово*, а не каждую его отдельную форму.\n",
    "* Во-вторых, некоторые стоп-слова стоят только в начальной форме, и без лемматизации выкидываем мы только её.\n",
    "\n",
    "Для русского есть два хороших лемматизатора: `mystem` и `pymorphy`.\n",
    "\n",
    "#### [Mystem](https://tech.yandex.ru/mystem/)\n",
    "\n",
    "Mystem — это пример популярной библиотеки для лемматизации. Как с ним работать:\n",
    "* скачать mystem и запускать [из терминала с разными параметрами](https://tech.yandex.ru/mystem/doc/)\n",
    "* использовать обёртку для питона [pymystem3](https://pythonhosted.org/pymystem3/pymystem3.html) (она медленнее, но удобнее в использовании)"
   ]
  },
  {
   "cell_type": "code",
   "execution_count": 19,
   "id": "5041530a",
   "metadata": {},
   "outputs": [],
   "source": [
    "# !pip install pymystem3"
   ]
  },
  {
   "cell_type": "code",
   "execution_count": 20,
   "id": "ee301dd1",
   "metadata": {},
   "outputs": [],
   "source": [
    "from pymystem3 import Mystem\n",
    "\n",
    "mystem_analyzer = Mystem()"
   ]
  },
  {
   "cell_type": "markdown",
   "id": "b3cb2034",
   "metadata": {},
   "source": [
    "Мы инициализировали Mystem c дефолтными параметрами. А вообще параметры есть такие:\n",
    "* mystem_bin — путь к `mystem`, если их несколько\n",
    "* grammar_info — нужна ли грамматическая информация или только леммы (по умолчанию нужна)\n",
    "* disambiguation — нужно ли снятие [омонимии](https://ru.wikipedia.org/wiki/%D0%9E%D0%BC%D0%BE%D0%BD%D0%B8%D0%BC%D1%8B) - дизамбигуация (по умолчанию нужна)\n",
    "* entire_input — нужно ли сохранять в выводе все (пробелы, например), или можно выкинуть (по умолчанию оставляется все)\n",
    "\n",
    "Методы Mystem принимают строку, токенизатор вшит внутри. Можно, конечно, и пословно анализировать, но тогда он не сможет учитывать контекст.\n",
    "\n",
    "Можно просто лемматизировать текст:"
   ]
  },
  {
   "cell_type": "code",
   "execution_count": 21,
   "id": "b39b80ba",
   "metadata": {},
   "outputs": [
    {
     "name": "stdout",
     "output_type": "stream",
     "text": [
      "['но', ' ', 'не', ' ', 'каждый', ' ', 'хотеть', ' ', 'что-то', ' ', 'исправлять', ':(\\n']\n"
     ]
    }
   ],
   "source": [
    "print(mystem_analyzer.lemmatize(example))"
   ]
  },
  {
   "cell_type": "markdown",
   "id": "f79a0a5f",
   "metadata": {},
   "source": [
    "### [Pymorphy](http://pymorphy3.readthedocs.io/en/latest/)\n",
    "Это модуль на питоне, довольно быстрый и с кучей функций."
   ]
  },
  {
   "cell_type": "code",
   "execution_count": 22,
   "id": "9b26bbaf",
   "metadata": {},
   "outputs": [],
   "source": [
    "# !pip install pymorphy3"
   ]
  },
  {
   "cell_type": "code",
   "execution_count": 23,
   "id": "a00444cd",
   "metadata": {},
   "outputs": [],
   "source": [
    "from pymorphy3 import MorphAnalyzer\n",
    "\n",
    "pymorphy3_analyzer = MorphAnalyzer()"
   ]
  },
  {
   "cell_type": "markdown",
   "id": "d3e236ab",
   "metadata": {},
   "source": [
    "pymorphy3 работает с отдельными словами. Если дать ему на вход предложение, то он его просто не лемматизирует, т.к. не понимает.\n",
    "\n",
    "Метод MorphAnalyzer.parse() принимает слово и возвращает все возможные его разборы.\n",
    "\n",
    "У каждого разбора есть тег. Тег — это набор граммем, характеризующих данное слово. Например, тег 'VERB,perf,intr plur,past,indc' означает, что слово — глагол (VERB) совершенного вида (perf), непереходный (intr), множественного числа (plur), прошедшего времени (past), изъявительного наклонения (indc).\n"
   ]
  },
  {
   "cell_type": "code",
   "execution_count": 24,
   "id": "170767de",
   "metadata": {},
   "outputs": [
    {
     "data": {
      "text/plain": [
       "[Parse(word='хочет', tag=OpencorporaTag('VERB,impf,tran sing,3per,pres,indc'), normal_form='хотеть', score=1.0, methods_stack=((DictionaryAnalyzer(), 'хочет', 3136, 5),))]"
      ]
     },
     "execution_count": 24,
     "metadata": {},
     "output_type": "execute_result"
    }
   ],
   "source": [
    "ana = pymorphy3_analyzer.parse(\"хочет\")\n",
    "ana"
   ]
  },
  {
   "cell_type": "code",
   "execution_count": 25,
   "id": "2786edc5",
   "metadata": {},
   "outputs": [
    {
     "data": {
      "text/plain": [
       "'хотеть'"
      ]
     },
     "execution_count": 25,
     "metadata": {},
     "output_type": "execute_result"
    }
   ],
   "source": [
    "ana[0].normal_form"
   ]
  },
  {
   "cell_type": "markdown",
   "id": "8403bc84",
   "metadata": {},
   "source": [
    "### mystem vs. pymorphy\n",
    "\n",
    "1) *mystem работает невероятно медленно под windows на больших текстах\n",
    "\n",
    "3) *Снятие омонимии*. Mystem умеет снимать омонимию по контексту (хотя не всегда преуспевает), pymorphy3 берет на вход одно слово и соответственно вообще не умеет дизамбигуировать по контексту."
   ]
  },
  {
   "cell_type": "code",
   "execution_count": 26,
   "id": "8eae0bf8",
   "metadata": {},
   "outputs": [],
   "source": [
    "homonym1 = \"За время обучения я прослушал больше сорока курсов.\"\n",
    "homonym2 = \"Сорока своровала блестящее украшение со стола.\""
   ]
  },
  {
   "cell_type": "code",
   "execution_count": 27,
   "id": "089abee0",
   "metadata": {},
   "outputs": [
    {
     "name": "stdout",
     "output_type": "stream",
     "text": [
      "{'analysis': [{'lex': 'сорок', 'wt': 0.8710292664, 'gr': 'NUM=(пр|дат|род|твор)'}], 'text': 'сорока'}\n",
      "{'analysis': [{'lex': 'сорока', 'wt': 0.1210970041, 'gr': 'S,жен,од=им,ед'}], 'text': 'Сорока'}\n"
     ]
    }
   ],
   "source": [
    "# корректно определил части речи\n",
    "# NUM — числительное\n",
    "# S — существительное\n",
    "print(mystem_analyzer.analyze(homonym1)[-5])\n",
    "print(mystem_analyzer.analyze(homonym2)[0])"
   ]
  },
  {
   "cell_type": "markdown",
   "id": "8754efbf",
   "metadata": {},
   "source": [
    "**mystem:**"
   ]
  },
  {
   "cell_type": "code",
   "execution_count": 28,
   "id": "d4348853",
   "metadata": {},
   "outputs": [
    {
     "data": {
      "text/plain": [
       "[{'analysis': [{'lex': 'за', 'wt': 1, 'gr': 'PR='}], 'text': 'За'},\n",
       " {'text': ' '},\n",
       " {'analysis': [{'lex': 'время', 'wt': 1, 'gr': 'S,сред,неод=(вин,ед|им,ед)'}],\n",
       "  'text': 'время'},\n",
       " {'text': ' '},\n",
       " {'analysis': [{'lex': 'обучение',\n",
       "    'wt': 1,\n",
       "    'gr': 'S,сред,неод=(вин,мн|род,ед|им,мн)'}],\n",
       "  'text': 'обучения'},\n",
       " {'text': ' '},\n",
       " {'analysis': [{'lex': 'я', 'wt': 0.9999716281, 'gr': 'SPRO,ед,1-л=им'}],\n",
       "  'text': 'я'},\n",
       " {'text': ' '},\n",
       " {'analysis': [{'lex': 'прослушивать',\n",
       "    'wt': 1,\n",
       "    'gr': 'V,пе=прош,ед,изъяв,муж,сов'}],\n",
       "  'text': 'прослушал'},\n",
       " {'text': ' '},\n",
       " {'analysis': [{'lex': 'много', 'wt': 0.0002164204767, 'gr': 'ADV=срав'}],\n",
       "  'text': 'больше'},\n",
       " {'text': ' '},\n",
       " {'analysis': [{'lex': 'сорок',\n",
       "    'wt': 0.8710292664,\n",
       "    'gr': 'NUM=(пр|дат|род|твор)'}],\n",
       "  'text': 'сорока'},\n",
       " {'text': ' '},\n",
       " {'analysis': [{'lex': 'курс', 'wt': 0.6284122441, 'gr': 'S,муж,неод=род,мн'}],\n",
       "  'text': 'курсов'},\n",
       " {'text': '.'},\n",
       " {'text': '\\n'}]"
      ]
     },
     "execution_count": 28,
     "metadata": {},
     "output_type": "execute_result"
    }
   ],
   "source": [
    "mystem_analyzer.analyze(homonym1)"
   ]
  },
  {
   "cell_type": "code",
   "execution_count": 29,
   "id": "121f3e15",
   "metadata": {},
   "outputs": [
    {
     "data": {
      "text/plain": [
       "[{'analysis': [{'lex': 'сорока', 'wt': 0.1210970041, 'gr': 'S,жен,од=им,ед'}],\n",
       "  'text': 'Сорока'},\n",
       " {'text': ' '},\n",
       " {'analysis': [{'lex': 'своровать',\n",
       "    'wt': 1,\n",
       "    'gr': 'V,сов,пе=прош,ед,изъяв,жен'}],\n",
       "  'text': 'своровала'},\n",
       " {'text': ' '},\n",
       " {'analysis': [{'lex': 'блестящий',\n",
       "    'wt': 0.6831493248,\n",
       "    'gr': 'A=(вин,ед,полн,сред|им,ед,полн,сред|срав)'}],\n",
       "  'text': 'блестящее'},\n",
       " {'text': ' '},\n",
       " {'analysis': [{'lex': 'украшение',\n",
       "    'wt': 1,\n",
       "    'gr': 'S,сред,неод=(вин,ед|им,ед)'}],\n",
       "  'text': 'украшение'},\n",
       " {'text': ' '},\n",
       " {'analysis': [{'lex': 'со', 'wt': 1, 'gr': 'PR='}], 'text': 'со'},\n",
       " {'text': ' '},\n",
       " {'analysis': [{'lex': 'стол', 'wt': 1, 'gr': 'S,муж,неод=род,ед'}],\n",
       "  'text': 'стола'},\n",
       " {'text': '.'},\n",
       " {'text': '\\n'}]"
      ]
     },
     "execution_count": 29,
     "metadata": {},
     "output_type": "execute_result"
    }
   ],
   "source": [
    "mystem_analyzer.analyze(homonym2)"
   ]
  },
  {
   "cell_type": "markdown",
   "id": "7390778f",
   "metadata": {},
   "source": [
    "**pymorphy:**"
   ]
  },
  {
   "cell_type": "code",
   "execution_count": 30,
   "id": "c68062f0",
   "metadata": {},
   "outputs": [
    {
     "name": "stdout",
     "output_type": "stream",
     "text": [
      "[Parse(word='за', tag=OpencorporaTag('PREP'), normal_form='за', score=1.0, methods_stack=((DictionaryAnalyzer(), 'за', 24, 0),))]\n",
      "[Parse(word='время', tag=OpencorporaTag('NOUN,inan,neut sing,accs'), normal_form='время', score=0.861936, methods_stack=((DictionaryAnalyzer(), 'время', 563, 3),)), Parse(word='время', tag=OpencorporaTag('NOUN,inan,neut sing,nomn'), normal_form='время', score=0.138063, methods_stack=((DictionaryAnalyzer(), 'время', 563, 0),))]\n",
      "[Parse(word='обучения', tag=OpencorporaTag('NOUN,inan,neut sing,gent'), normal_form='обучение', score=0.968253, methods_stack=((DictionaryAnalyzer(), 'обучения', 77, 2),)), Parse(word='обучения', tag=OpencorporaTag('NOUN,inan,neut plur,nomn'), normal_form='обучение', score=0.015873, methods_stack=((DictionaryAnalyzer(), 'обучения', 77, 13),)), Parse(word='обучения', tag=OpencorporaTag('NOUN,inan,neut plur,accs'), normal_form='обучение', score=0.015873, methods_stack=((DictionaryAnalyzer(), 'обучения', 77, 18),))]\n",
      "[Parse(word='я', tag=OpencorporaTag('NPRO,1per sing,nomn'), normal_form='я', score=1.0, methods_stack=((DictionaryAnalyzer(), 'я', 3246, 0),))]\n",
      "[Parse(word='прослушал', tag=OpencorporaTag('VERB,perf,tran masc,sing,past,indc'), normal_form='прослушать', score=1.0, methods_stack=((DictionaryAnalyzer(), 'прослушал', 648, 1),))]\n",
      "[Parse(word='больше', tag=OpencorporaTag('COMP,Qual'), normal_form='большой', score=0.8, methods_stack=((DictionaryAnalyzer(), 'больше', 532, 32),)), Parse(word='больше', tag=OpencorporaTag('ADVB'), normal_form='больше', score=0.2, methods_stack=((DictionaryAnalyzer(), 'больше', 3, 0),))]\n",
      "[Parse(word='сорока', tag=OpencorporaTag('NUMR gent'), normal_form='сорок', score=0.68, methods_stack=((DictionaryAnalyzer(), 'сорока', 2920, 1),)), Parse(word='сорока', tag=OpencorporaTag('NOUN,anim,femn sing,nomn'), normal_form='сорока', score=0.08, methods_stack=((DictionaryAnalyzer(), 'сорока', 421, 0),)), Parse(word='сорока', tag=OpencorporaTag('NUMR ablt'), normal_form='сорок', score=0.08, methods_stack=((DictionaryAnalyzer(), 'сорока', 2920, 4),)), Parse(word='сорока', tag=OpencorporaTag('NUMR loct'), normal_form='сорок', score=0.08, methods_stack=((DictionaryAnalyzer(), 'сорока', 2920, 5),)), Parse(word='сорока', tag=OpencorporaTag('NOUN,inan,femn sing,nomn'), normal_form='сорока', score=0.04, methods_stack=((DictionaryAnalyzer(), 'сорока', 44, 0),)), Parse(word='сорока', tag=OpencorporaTag('NUMR datv'), normal_form='сорок', score=0.04, methods_stack=((DictionaryAnalyzer(), 'сорока', 2920, 2),))]\n",
      "[Parse(word='курсов.', tag=OpencorporaTag('UNKN'), normal_form='курсов.', score=1.0, methods_stack=((UnknAnalyzer(), 'курсов.'),))]\n"
     ]
    }
   ],
   "source": [
    "for word in homonym1.split():\n",
    "    print(pymorphy3_analyzer.parse(word))"
   ]
  },
  {
   "cell_type": "code",
   "execution_count": 31,
   "id": "7c584f94",
   "metadata": {},
   "outputs": [
    {
     "name": "stdout",
     "output_type": "stream",
     "text": [
      "[Parse(word='сорока', tag=OpencorporaTag('NUMR gent'), normal_form='сорок', score=0.68, methods_stack=((DictionaryAnalyzer(), 'сорока', 2920, 1),)), Parse(word='сорока', tag=OpencorporaTag('NOUN,anim,femn sing,nomn'), normal_form='сорока', score=0.08, methods_stack=((DictionaryAnalyzer(), 'сорока', 421, 0),)), Parse(word='сорока', tag=OpencorporaTag('NUMR ablt'), normal_form='сорок', score=0.08, methods_stack=((DictionaryAnalyzer(), 'сорока', 2920, 4),)), Parse(word='сорока', tag=OpencorporaTag('NUMR loct'), normal_form='сорок', score=0.08, methods_stack=((DictionaryAnalyzer(), 'сорока', 2920, 5),)), Parse(word='сорока', tag=OpencorporaTag('NOUN,inan,femn sing,nomn'), normal_form='сорока', score=0.04, methods_stack=((DictionaryAnalyzer(), 'сорока', 44, 0),)), Parse(word='сорока', tag=OpencorporaTag('NUMR datv'), normal_form='сорок', score=0.04, methods_stack=((DictionaryAnalyzer(), 'сорока', 2920, 2),))]\n",
      "[Parse(word='своровала', tag=OpencorporaTag('VERB,perf,tran femn,sing,past,indc'), normal_form='своровать', score=1.0, methods_stack=((DictionaryAnalyzer(), 'своровала', 748, 2),))]\n",
      "[Parse(word='блестящее', tag=OpencorporaTag('ADJF,Qual neut,sing,nomn'), normal_form='блестящий', score=0.2, methods_stack=((DictionaryAnalyzer(), 'блестящее', 388, 14),)), Parse(word='блестящее', tag=OpencorporaTag('ADJF,Qual neut,sing,accs'), normal_form='блестящий', score=0.2, methods_stack=((DictionaryAnalyzer(), 'блестящее', 388, 17),)), Parse(word='блестящее', tag=OpencorporaTag('COMP,Qual'), normal_form='блестящий', score=0.2, methods_stack=((DictionaryAnalyzer(), 'блестящее', 388, 31),)), Parse(word='блестящее', tag=OpencorporaTag('PRTF,impf,intr,pres,actv neut,sing,nomn'), normal_form='блестеть', score=0.2, methods_stack=((DictionaryAnalyzer(), 'блестящее', 490, 27),)), Parse(word='блестящее', tag=OpencorporaTag('PRTF,impf,intr,pres,actv neut,sing,accs'), normal_form='блестеть', score=0.2, methods_stack=((DictionaryAnalyzer(), 'блестящее', 490, 30),))]\n",
      "[Parse(word='украшение', tag=OpencorporaTag('NOUN,inan,neut sing,nomn'), normal_form='украшение', score=0.6, methods_stack=((DictionaryAnalyzer(), 'украшение', 77, 0),)), Parse(word='украшение', tag=OpencorporaTag('NOUN,inan,neut sing,accs'), normal_form='украшение', score=0.4, methods_stack=((DictionaryAnalyzer(), 'украшение', 77, 6),))]\n",
      "[Parse(word='со', tag=OpencorporaTag('PREP Vpre'), normal_form='с', score=0.992592, methods_stack=((DictionaryAnalyzer(), 'со', 393, 1),)), Parse(word='со', tag=OpencorporaTag('NOUN,inan,femn,Fixd,Abbr sing,nomn'), normal_form='со', score=0.000617, methods_stack=((DictionaryAnalyzer(), 'со', 214, 0),)), Parse(word='со', tag=OpencorporaTag('NOUN,inan,femn,Fixd,Abbr sing,gent'), normal_form='со', score=0.000617, methods_stack=((DictionaryAnalyzer(), 'со', 214, 1),)), Parse(word='со', tag=OpencorporaTag('NOUN,inan,femn,Fixd,Abbr sing,datv'), normal_form='со', score=0.000617, methods_stack=((DictionaryAnalyzer(), 'со', 214, 2),)), Parse(word='со', tag=OpencorporaTag('NOUN,inan,femn,Fixd,Abbr sing,accs'), normal_form='со', score=0.000617, methods_stack=((DictionaryAnalyzer(), 'со', 214, 3),)), Parse(word='со', tag=OpencorporaTag('NOUN,inan,femn,Fixd,Abbr sing,ablt'), normal_form='со', score=0.000617, methods_stack=((DictionaryAnalyzer(), 'со', 214, 4),)), Parse(word='со', tag=OpencorporaTag('NOUN,inan,femn,Fixd,Abbr sing,loct'), normal_form='со', score=0.000617, methods_stack=((DictionaryAnalyzer(), 'со', 214, 5),)), Parse(word='со', tag=OpencorporaTag('NOUN,inan,femn,Fixd,Abbr plur,nomn'), normal_form='со', score=0.000617, methods_stack=((DictionaryAnalyzer(), 'со', 214, 6),)), Parse(word='со', tag=OpencorporaTag('NOUN,inan,femn,Fixd,Abbr plur,gent'), normal_form='со', score=0.000617, methods_stack=((DictionaryAnalyzer(), 'со', 214, 7),)), Parse(word='со', tag=OpencorporaTag('NOUN,inan,femn,Fixd,Abbr plur,datv'), normal_form='со', score=0.000617, methods_stack=((DictionaryAnalyzer(), 'со', 214, 8),)), Parse(word='со', tag=OpencorporaTag('NOUN,inan,femn,Fixd,Abbr plur,accs'), normal_form='со', score=0.000617, methods_stack=((DictionaryAnalyzer(), 'со', 214, 9),)), Parse(word='со', tag=OpencorporaTag('NOUN,inan,femn,Fixd,Abbr plur,ablt'), normal_form='со', score=0.000617, methods_stack=((DictionaryAnalyzer(), 'со', 214, 10),)), Parse(word='со', tag=OpencorporaTag('NOUN,inan,femn,Fixd,Abbr plur,loct'), normal_form='со', score=0.000617, methods_stack=((DictionaryAnalyzer(), 'со', 214, 11),))]\n",
      "[Parse(word='стола.', tag=OpencorporaTag('UNKN'), normal_form='стола.', score=1.0, methods_stack=((UnknAnalyzer(), 'стола.'),))]\n"
     ]
    }
   ],
   "source": [
    "for word in homonym2.split():\n",
    "    print(pymorphy3_analyzer.parse(word))"
   ]
  },
  {
   "cell_type": "markdown",
   "id": "47b2c613",
   "metadata": {},
   "source": [
    "### 3.2 Стемминг\n",
    "\n",
    "В отличие от лемматизации, при применении стемминга у всех слов отбрасываются аффиксы (окончания и суффиксы), что необязательно приводит слова к формам, существующим в рассматриваемом языке. [**Snowball**](http://snowball.tartarus.org/) — фрэймворк для написания алгоритмов стемминга. Алгоритмы стемминга отличаются для разных языков и используют знания о конкретном языке: списки окончаний для разных частей речи, разных склонений и т.д."
   ]
  },
  {
   "cell_type": "code",
   "execution_count": 52,
   "id": "b307d472",
   "metadata": {},
   "outputs": [],
   "source": [
    "from nltk.stem.snowball import SnowballStemmer"
   ]
  },
  {
   "cell_type": "code",
   "execution_count": null,
   "id": "de1cf3e0",
   "metadata": {},
   "outputs": [
    {
     "name": "stdout",
     "output_type": "stream",
     "text": [
      "['Но', 'не', 'каждый', 'хочет', 'что-то', 'исправлять', ':', '(']\n",
      "['Но', 'не', 'каждый', 'хочет', 'что-то', 'исправлять', ':', '(']\n"
     ]
    }
   ],
   "source": [
    "#Еще раз убедимся что наш продвинутый токенайзер соотносим с word_tokenize\n",
    "print(word_tokenize(example))\n",
    "print(tokenize_advanced(example))"
   ]
  },
  {
   "cell_type": "code",
   "execution_count": 54,
   "id": "1c7aaf45",
   "metadata": {},
   "outputs": [
    {
     "name": "stdout",
     "output_type": "stream",
     "text": [
      "Исходный текст: Но не каждый хочет что-то исправлять:(\n",
      "Стемминг: но не кажд хочет что-т исправля : (\n"
     ]
    }
   ],
   "source": [
    "tokenized_example = tokenize_advanced(example)\n",
    "stemmer = SnowballStemmer(\"russian\")\n",
    "stemmed_example = [stemmer.stem(w) for w in tokenized_example]\n",
    "print('Исходный текст:', example)\n",
    "print('Стемминг:', \" \".join(stemmed_example))"
   ]
  },
  {
   "cell_type": "markdown",
   "id": "16a92f90",
   "metadata": {},
   "source": [
    "Для английского получится что-то такое."
   ]
  },
  {
   "cell_type": "code",
   "execution_count": 55,
   "id": "6c47b7bd",
   "metadata": {},
   "outputs": [
    {
     "name": "stdout",
     "output_type": "stream",
     "text": [
      "Исходный текст: In my younger and more vulnerable years my father gave me some advice that I've been turning over in my mind ever since.\n",
      "\"Whenever you feel like criticizing any one,\" he told me, \"just remember that all the people in this world haven't had the advantages that you've had.\"\n",
      "Токенезация: ['In', 'my', 'younger', 'and', 'more', 'vulnerable', 'years', 'my', 'father', 'gave', 'me', 'some', 'advice', 'that', 'been', 'turning', 'over', 'in', 'my', 'mind', 'ever', 'since', 'Whenever', 'you', 'feel', 'like', 'criticizing', 'any', 'one', 'he', 'told', 'me', 'just', 'remember', 'that', 'all', 'the', 'people', 'in', 'this', 'world', 'had', 'the', 'advantages', 'that', 'had']\n"
     ]
    }
   ],
   "source": [
    "text = 'In my younger and more vulnerable years my father gave me some advice that I\\'ve been turning over in my mind ever since.\\n\"Whenever you feel like criticizing any one,\" he told me, \"just remember that all the people in this world haven\\'t had the advantages that you\\'ve had.\"'\n",
    "print('Исходный текст:', text)\n",
    "text_tokenized = [w for w in tokenize_advanced(text) if w.isalpha()]\n",
    "\n",
    "print('Токенезация:', text_tokenized)"
   ]
  },
  {
   "cell_type": "code",
   "execution_count": 56,
   "id": "48827f34",
   "metadata": {},
   "outputs": [
    {
     "name": "stdout",
     "output_type": "stream",
     "text": [
      "Стемминг: in my younger and more vulner year my father gave me some advic that been turn over in my mind ever sinc whenev you feel like critic ani one he told me just rememb that all the peopl in this world had the advantag that had\n"
     ]
    }
   ],
   "source": [
    "stemmer = SnowballStemmer(\"english\")\n",
    "text_stemmed = [stemmer.stem(w) for w in text_tokenized]\n",
    "print('Стемминг:', \" \".join(text_stemmed))"
   ]
  },
  {
   "cell_type": "markdown",
   "id": "81cde7cd",
   "metadata": {},
   "source": [
    "## 4. Bag-of-words и TF-IDF\n",
    "\n",
    "Но как же все-таки работать с текстами, используя стандартные методы машинного обучения? Ведь нам нужны объекты выборки, которые описываются числами, а не словами. Иначе говоря, нам нужно *векторизовать* текстовые данные.\n",
    "\n",
    "### 4.1 Bag-of-words\n",
    "\n",
    "Пусть у нас имеется коллекция текстов $D = \\{d_i\\}_{i=1}^l$ (всего $l$ текстов) и словарь всех слов, встречающихся в выборке $V = \\{v_j\\}_{j=1}^d$ (всего $d$ слов). В этом случае некоторый текст $d_i$ описывается вектором $(x_{ij})_{j=1}^d,$ где\n",
    "$$x_{ij} = \\sum_{v \\in d_i} [v = v_j].$$\n",
    "\n",
    "Таким образом, текст $d_i$ описывается вектором количества вхождений каждого слова из словаря в данный текст."
   ]
  },
  {
   "cell_type": "code",
   "execution_count": 57,
   "id": "66dd5108",
   "metadata": {},
   "outputs": [],
   "source": [
    "texts = [\n",
    "    \"I like my cat.\",\n",
    "    \"My cat is the most perfect cat.\",\n",
    "    \"is this cat or is this bread?\",\n",
    "]"
   ]
  },
  {
   "cell_type": "code",
   "execution_count": 58,
   "id": "6f908338",
   "metadata": {},
   "outputs": [
    {
     "data": {
      "text/plain": [
       "['I like my cat',\n",
       " 'My cat is the most perfect cat',\n",
       " 'is this cat or is this bread']"
      ]
     },
     "execution_count": 58,
     "metadata": {},
     "output_type": "execute_result"
    }
   ],
   "source": [
    "texts_tokenized = [\n",
    "    \" \".join([w for w in tokenize_advanced(t) if w.isalpha()]) for t in texts\n",
    "]\n",
    "texts_tokenized"
   ]
  },
  {
   "cell_type": "code",
   "execution_count": 39,
   "id": "68ff25fe",
   "metadata": {},
   "outputs": [],
   "source": [
    "# !pip install scikit-learn"
   ]
  },
  {
   "cell_type": "code",
   "execution_count": 59,
   "id": "7fb73ab8",
   "metadata": {},
   "outputs": [],
   "source": [
    "from sklearn.feature_extraction.text import CountVectorizer\n",
    "\n",
    "cnt_vec = CountVectorizer()\n",
    "X = cnt_vec.fit_transform(texts_tokenized)"
   ]
  },
  {
   "cell_type": "code",
   "execution_count": 60,
   "id": "56b0b1a0",
   "metadata": {},
   "outputs": [
    {
     "data": {
      "text/plain": [
       "dict_keys(['like', 'my', 'cat', 'is', 'the', 'most', 'perfect', 'this', 'or', 'bread'])"
      ]
     },
     "execution_count": 60,
     "metadata": {},
     "output_type": "execute_result"
    }
   ],
   "source": [
    "cnt_vec.vocabulary_.keys()"
   ]
  },
  {
   "cell_type": "code",
   "execution_count": 61,
   "id": "e1f20d76",
   "metadata": {},
   "outputs": [
    {
     "data": {
      "text/plain": [
       "<3x10 sparse matrix of type '<class 'numpy.int64'>'\n",
       "\twith 14 stored elements in Compressed Sparse Row format>"
      ]
     },
     "execution_count": 61,
     "metadata": {},
     "output_type": "execute_result"
    }
   ],
   "source": [
    "X"
   ]
  },
  {
   "cell_type": "code",
   "execution_count": 62,
   "id": "074b2d62",
   "metadata": {},
   "outputs": [
    {
     "data": {
      "text/plain": [
       "array([[0, 1, 0, 1, 0, 1, 0, 0, 0, 0],\n",
       "       [0, 2, 1, 0, 1, 1, 0, 1, 1, 0],\n",
       "       [1, 1, 2, 0, 0, 0, 1, 0, 0, 2]])"
      ]
     },
     "execution_count": 62,
     "metadata": {},
     "output_type": "execute_result"
    }
   ],
   "source": [
    "X.toarray()"
   ]
  },
  {
   "cell_type": "code",
   "execution_count": 63,
   "id": "5b302b94",
   "metadata": {},
   "outputs": [
    {
     "data": {
      "text/html": [
       "<div>\n",
       "<style scoped>\n",
       "    .dataframe tbody tr th:only-of-type {\n",
       "        vertical-align: middle;\n",
       "    }\n",
       "\n",
       "    .dataframe tbody tr th {\n",
       "        vertical-align: top;\n",
       "    }\n",
       "\n",
       "    .dataframe thead th {\n",
       "        text-align: right;\n",
       "    }\n",
       "</style>\n",
       "<table border=\"1\" class=\"dataframe\">\n",
       "  <thead>\n",
       "    <tr style=\"text-align: right;\">\n",
       "      <th></th>\n",
       "      <th>bread</th>\n",
       "      <th>cat</th>\n",
       "      <th>is</th>\n",
       "      <th>like</th>\n",
       "      <th>most</th>\n",
       "      <th>my</th>\n",
       "      <th>or</th>\n",
       "      <th>perfect</th>\n",
       "      <th>the</th>\n",
       "      <th>this</th>\n",
       "    </tr>\n",
       "  </thead>\n",
       "  <tbody>\n",
       "    <tr>\n",
       "      <th>0</th>\n",
       "      <td>0</td>\n",
       "      <td>1</td>\n",
       "      <td>0</td>\n",
       "      <td>1</td>\n",
       "      <td>0</td>\n",
       "      <td>1</td>\n",
       "      <td>0</td>\n",
       "      <td>0</td>\n",
       "      <td>0</td>\n",
       "      <td>0</td>\n",
       "    </tr>\n",
       "    <tr>\n",
       "      <th>1</th>\n",
       "      <td>0</td>\n",
       "      <td>2</td>\n",
       "      <td>1</td>\n",
       "      <td>0</td>\n",
       "      <td>1</td>\n",
       "      <td>1</td>\n",
       "      <td>0</td>\n",
       "      <td>1</td>\n",
       "      <td>1</td>\n",
       "      <td>0</td>\n",
       "    </tr>\n",
       "    <tr>\n",
       "      <th>2</th>\n",
       "      <td>1</td>\n",
       "      <td>1</td>\n",
       "      <td>2</td>\n",
       "      <td>0</td>\n",
       "      <td>0</td>\n",
       "      <td>0</td>\n",
       "      <td>1</td>\n",
       "      <td>0</td>\n",
       "      <td>0</td>\n",
       "      <td>2</td>\n",
       "    </tr>\n",
       "  </tbody>\n",
       "</table>\n",
       "</div>"
      ],
      "text/plain": [
       "   bread  cat  is  like  most  my  or  perfect  the  this\n",
       "0      0    1   0     1     0   1   0        0    0     0\n",
       "1      0    2   1     0     1   1   0        1    1     0\n",
       "2      1    1   2     0     0   0   1        0    0     2"
      ]
     },
     "execution_count": 63,
     "metadata": {},
     "output_type": "execute_result"
    }
   ],
   "source": [
    "pd.DataFrame(X.toarray(), columns=cnt_vec.get_feature_names_out())"
   ]
  },
  {
   "cell_type": "markdown",
   "id": "b341089e",
   "metadata": {},
   "source": [
    "Как мы видим у нас по какой-то причине пропало слово `I`. Это связано с тем, что `CountVectorize` для оперделения токенов использует регулярное выражение ```token_pattern=r'(?u)\\b\\w\\w+\\b'```, где \n",
    "- `\\b` — граница слова.\n",
    "- `\\w\\w+` — слово из двух или более букв/цифр.\n",
    "\n",
    "Именно поэтому все слова длиной 1 игнорируются — они не подходят под этот шаблон.\n",
    "\n",
    "Попробуем исправить парметр `token_pattern=r'(?u)\\b\\w\\w+\\b'` на `token_pattern=r'(?u)\\b\\w+\\b'`, чтобы слова длинной из 1 символа так же векторизировались."
   ]
  },
  {
   "cell_type": "code",
   "execution_count": 64,
   "id": "7a108f8d",
   "metadata": {},
   "outputs": [
    {
     "data": {
      "text/html": [
       "<div>\n",
       "<style scoped>\n",
       "    .dataframe tbody tr th:only-of-type {\n",
       "        vertical-align: middle;\n",
       "    }\n",
       "\n",
       "    .dataframe tbody tr th {\n",
       "        vertical-align: top;\n",
       "    }\n",
       "\n",
       "    .dataframe thead th {\n",
       "        text-align: right;\n",
       "    }\n",
       "</style>\n",
       "<table border=\"1\" class=\"dataframe\">\n",
       "  <thead>\n",
       "    <tr style=\"text-align: right;\">\n",
       "      <th></th>\n",
       "      <th>bread</th>\n",
       "      <th>cat</th>\n",
       "      <th>i</th>\n",
       "      <th>is</th>\n",
       "      <th>like</th>\n",
       "      <th>most</th>\n",
       "      <th>my</th>\n",
       "      <th>or</th>\n",
       "      <th>perfect</th>\n",
       "      <th>the</th>\n",
       "      <th>this</th>\n",
       "    </tr>\n",
       "  </thead>\n",
       "  <tbody>\n",
       "    <tr>\n",
       "      <th>0</th>\n",
       "      <td>0</td>\n",
       "      <td>1</td>\n",
       "      <td>1</td>\n",
       "      <td>0</td>\n",
       "      <td>1</td>\n",
       "      <td>0</td>\n",
       "      <td>1</td>\n",
       "      <td>0</td>\n",
       "      <td>0</td>\n",
       "      <td>0</td>\n",
       "      <td>0</td>\n",
       "    </tr>\n",
       "    <tr>\n",
       "      <th>1</th>\n",
       "      <td>0</td>\n",
       "      <td>2</td>\n",
       "      <td>0</td>\n",
       "      <td>1</td>\n",
       "      <td>0</td>\n",
       "      <td>1</td>\n",
       "      <td>1</td>\n",
       "      <td>0</td>\n",
       "      <td>1</td>\n",
       "      <td>1</td>\n",
       "      <td>0</td>\n",
       "    </tr>\n",
       "    <tr>\n",
       "      <th>2</th>\n",
       "      <td>1</td>\n",
       "      <td>1</td>\n",
       "      <td>0</td>\n",
       "      <td>2</td>\n",
       "      <td>0</td>\n",
       "      <td>0</td>\n",
       "      <td>0</td>\n",
       "      <td>1</td>\n",
       "      <td>0</td>\n",
       "      <td>0</td>\n",
       "      <td>2</td>\n",
       "    </tr>\n",
       "  </tbody>\n",
       "</table>\n",
       "</div>"
      ],
      "text/plain": [
       "   bread  cat  i  is  like  most  my  or  perfect  the  this\n",
       "0      0    1  1   0     1     0   1   0        0    0     0\n",
       "1      0    2  0   1     0     1   1   0        1    1     0\n",
       "2      1    1  0   2     0     0   0   1        0    0     2"
      ]
     },
     "execution_count": 64,
     "metadata": {},
     "output_type": "execute_result"
    }
   ],
   "source": [
    "cnt_vec_2 = CountVectorizer(token_pattern=r\"(?u)\\b\\w+\\b\")\n",
    "X_2 = cnt_vec_2.fit_transform(texts_tokenized)\n",
    "\n",
    "pd.DataFrame(X_2.toarray(), columns=cnt_vec_2.get_feature_names_out())"
   ]
  },
  {
   "cell_type": "markdown",
   "id": "0aae6431",
   "metadata": {},
   "source": [
    "**Вывод:**\n",
    "Обычно функцию векторизации задают самостоятельно, чтобы была возможность контролировать разбиение текста на токены, удаление стоп слов и параметры векторизации."
   ]
  },
  {
   "cell_type": "markdown",
   "id": "41bf114a",
   "metadata": {},
   "source": [
    "### 4.2 TF-IDF\n",
    "\n",
    "Заметим, что если слово часто встречается в одном тексте, но почти не встречается в других, то оно получает для данного текста большой вес, ровно так же, как и слова, которые часто встречаются в каждом тексте. Для того чтобы разделять эти такие слова, можно использовать статистическую меру TF-IDF, характеризующую важность слова для конкретного текста. \n",
    "\n",
    "---\n",
    "\n",
    "#### 1. Term Frequency (TF) — \"Частота слова в тексте\"\n",
    "Для каждого слова из текста $d$ рассчитаем относительную частоту встречаемости в нем (Term Frequency):\n",
    "$$\n",
    "\\text{TF}(t, d) = \\frac{C(t | d)}{\\sum\\limits_{k \\in d}C(k | d)},\n",
    "$$\n",
    "где \n",
    "- $C(t | d)$ — сколько раз слово $t$ встречается в тексте $d$. \n",
    "- $\\sum\\limits_{k \\in d}C(k | d)$ — сколько **всего** слов в тексте $d$ (с учётом повторяющихся). \n",
    "\n",
    "TF показывает, $\\underline{насколько}$ $\\underline{часто}$ слово встречается в данном тексте.  \n",
    "\n",
    "**Пример:**  В тексте из 100 слов слово \"машина\" встречается 4 раза: - TF(\"машина\", d) = 4 / 100 = 0.04 (4% от всех слов)\n",
    "\n",
    "---\n",
    "\n",
    "#### 2. Inverse Document Frequency (IDF) — \"Обратная частота в других текстах\"\n",
    "Также для каждого слова из текста $d$ рассчитаем обратную частоту встречаемости в корпусе текстов $D$ (Inverse Document Frequency):\n",
    "$$\n",
    "\\text{IDF}(t, D) = \\log\\left(\\frac{|D|}{|\\{d_i \\in D \\mid t \\in d_i\\}|}\\right)\n",
    "$$\n",
    "где\n",
    "- $|D|$ — общее количество текстов (документов) в коллекции. \n",
    "- $|\\{d_i \\in D \\mid t \\in d_i\\}|$ — сколько текстов содержат слово $t$.\n",
    "\n",
    "Логарифмирование здесь проводится с целью уменьшить масштаб весов, ибо зачастую в корпусах присутствует очень много текстов.\n",
    "\n",
    "IDF показывает, $\\underline{насколько}$ $\\underline{редкое}$ это слово среди всех текстов.  \n",
    "- Если слово встречается почти во всех текстах (например, \"и\"), **IDF будет маленьким**. \n",
    "- Если слово встречается только в паре статей — **IDF будет большим**.  \n",
    "\n",
    "**Пример:**  Предположим, у нас 1000 статей ($|D|$ = 1000),  и слово \"нейросеть\" есть только в 10 из них: - IDF(\"нейросеть\", D) = log(1000 / 10) = log(100) = 2 (если берём десятичный логарифм)\n",
    "\n",
    "---\n",
    "\n",
    "#### 3. Общая формула\n",
    "\n",
    "$$\n",
    "\\text{TF-IDF}(t, d, D) = \\text{TF}(t, d) \\times \\text{IDF}(t, D)\n",
    "$$\n",
    "\n",
    "- Если слово часто встречается в **конкретном тексте** (большой TF) и при этом редко встречается в **других текстах** (большой IDF), то **его вес будет большим**. \n",
    "- Если слово встречается везде — его вес будет маленьким. \n",
    "  \n",
    "**Пример:**  \n",
    "- \"машина\" встречается часто в тексте и редко вообще — TF-IDF будет высоким и слово считается важным для этого текста. \n",
    "- \"и\" встречается часто в тексте, но и вообще везде — TF-IDF маленький, оно считается неважным.\n",
    "\n",
    "\n",
    "**Есть и другие подходы к определению [TF и IDF](https://en.wikipedia.org/wiki/Tf%E2%80%93idf#Definition).**"
   ]
  },
  {
   "cell_type": "code",
   "execution_count": 65,
   "id": "3dff947c",
   "metadata": {},
   "outputs": [],
   "source": [
    "from sklearn.feature_extraction.text import TfidfVectorizer\n",
    "\n",
    "tfidf_vec = TfidfVectorizer()\n",
    "X = tfidf_vec.fit_transform(texts_tokenized)"
   ]
  },
  {
   "cell_type": "code",
   "execution_count": 66,
   "id": "b5a586c9",
   "metadata": {},
   "outputs": [
    {
     "data": {
      "text/plain": [
       "dict_keys(['like', 'my', 'cat', 'is', 'the', 'most', 'perfect', 'this', 'or', 'bread'])"
      ]
     },
     "execution_count": 66,
     "metadata": {},
     "output_type": "execute_result"
    }
   ],
   "source": [
    "tfidf_vec.vocabulary_.keys()"
   ]
  },
  {
   "cell_type": "code",
   "execution_count": 67,
   "id": "a5c55a09",
   "metadata": {},
   "outputs": [
    {
     "data": {
      "text/plain": [
       "<3x10 sparse matrix of type '<class 'numpy.float64'>'\n",
       "\twith 14 stored elements in Compressed Sparse Row format>"
      ]
     },
     "execution_count": 67,
     "metadata": {},
     "output_type": "execute_result"
    }
   ],
   "source": [
    "X"
   ]
  },
  {
   "cell_type": "code",
   "execution_count": 68,
   "id": "40eb0d30",
   "metadata": {},
   "outputs": [
    {
     "data": {
      "text/plain": [
       "array([[0.        , 0.42544054, 0.        , 0.72033345, 0.        ,\n",
       "        0.54783215, 0.        , 0.        , 0.        , 0.        ],\n",
       "       [0.        , 0.50130994, 0.32276391, 0.        , 0.42439575,\n",
       "        0.32276391, 0.        , 0.42439575, 0.42439575, 0.        ],\n",
       "       [0.33976626, 0.20067143, 0.516802  , 0.        , 0.        ,\n",
       "        0.        , 0.33976626, 0.        , 0.        , 0.67953252]])"
      ]
     },
     "execution_count": 68,
     "metadata": {},
     "output_type": "execute_result"
    }
   ],
   "source": [
    "X.toarray()"
   ]
  },
  {
   "cell_type": "code",
   "execution_count": 69,
   "id": "1ff664a5",
   "metadata": {},
   "outputs": [
    {
     "data": {
      "text/html": [
       "<div>\n",
       "<style scoped>\n",
       "    .dataframe tbody tr th:only-of-type {\n",
       "        vertical-align: middle;\n",
       "    }\n",
       "\n",
       "    .dataframe tbody tr th {\n",
       "        vertical-align: top;\n",
       "    }\n",
       "\n",
       "    .dataframe thead th {\n",
       "        text-align: right;\n",
       "    }\n",
       "</style>\n",
       "<table border=\"1\" class=\"dataframe\">\n",
       "  <thead>\n",
       "    <tr style=\"text-align: right;\">\n",
       "      <th></th>\n",
       "      <th>bread</th>\n",
       "      <th>cat</th>\n",
       "      <th>is</th>\n",
       "      <th>like</th>\n",
       "      <th>most</th>\n",
       "      <th>my</th>\n",
       "      <th>or</th>\n",
       "      <th>perfect</th>\n",
       "      <th>the</th>\n",
       "      <th>this</th>\n",
       "    </tr>\n",
       "  </thead>\n",
       "  <tbody>\n",
       "    <tr>\n",
       "      <th>0</th>\n",
       "      <td>0.000000</td>\n",
       "      <td>0.425441</td>\n",
       "      <td>0.000000</td>\n",
       "      <td>0.720333</td>\n",
       "      <td>0.000000</td>\n",
       "      <td>0.547832</td>\n",
       "      <td>0.000000</td>\n",
       "      <td>0.000000</td>\n",
       "      <td>0.000000</td>\n",
       "      <td>0.000000</td>\n",
       "    </tr>\n",
       "    <tr>\n",
       "      <th>1</th>\n",
       "      <td>0.000000</td>\n",
       "      <td>0.501310</td>\n",
       "      <td>0.322764</td>\n",
       "      <td>0.000000</td>\n",
       "      <td>0.424396</td>\n",
       "      <td>0.322764</td>\n",
       "      <td>0.000000</td>\n",
       "      <td>0.424396</td>\n",
       "      <td>0.424396</td>\n",
       "      <td>0.000000</td>\n",
       "    </tr>\n",
       "    <tr>\n",
       "      <th>2</th>\n",
       "      <td>0.339766</td>\n",
       "      <td>0.200671</td>\n",
       "      <td>0.516802</td>\n",
       "      <td>0.000000</td>\n",
       "      <td>0.000000</td>\n",
       "      <td>0.000000</td>\n",
       "      <td>0.339766</td>\n",
       "      <td>0.000000</td>\n",
       "      <td>0.000000</td>\n",
       "      <td>0.679533</td>\n",
       "    </tr>\n",
       "  </tbody>\n",
       "</table>\n",
       "</div>"
      ],
      "text/plain": [
       "      bread       cat        is      like      most        my        or  \\\n",
       "0  0.000000  0.425441  0.000000  0.720333  0.000000  0.547832  0.000000   \n",
       "1  0.000000  0.501310  0.322764  0.000000  0.424396  0.322764  0.000000   \n",
       "2  0.339766  0.200671  0.516802  0.000000  0.000000  0.000000  0.339766   \n",
       "\n",
       "    perfect       the      this  \n",
       "0  0.000000  0.000000  0.000000  \n",
       "1  0.424396  0.424396  0.000000  \n",
       "2  0.000000  0.000000  0.679533  "
      ]
     },
     "execution_count": 69,
     "metadata": {},
     "output_type": "execute_result"
    }
   ],
   "source": [
    "pd.DataFrame(X.toarray(), columns=tfidf_vec.get_feature_names_out())"
   ]
  },
  {
   "cell_type": "code",
   "execution_count": 70,
   "id": "aec7d647",
   "metadata": {},
   "outputs": [
    {
     "data": {
      "text/html": [
       "<div>\n",
       "<style scoped>\n",
       "    .dataframe tbody tr th:only-of-type {\n",
       "        vertical-align: middle;\n",
       "    }\n",
       "\n",
       "    .dataframe tbody tr th {\n",
       "        vertical-align: top;\n",
       "    }\n",
       "\n",
       "    .dataframe thead th {\n",
       "        text-align: right;\n",
       "    }\n",
       "</style>\n",
       "<table border=\"1\" class=\"dataframe\">\n",
       "  <thead>\n",
       "    <tr style=\"text-align: right;\">\n",
       "      <th></th>\n",
       "      <th>bread</th>\n",
       "      <th>cat</th>\n",
       "      <th>i</th>\n",
       "      <th>is</th>\n",
       "      <th>like</th>\n",
       "      <th>most</th>\n",
       "      <th>my</th>\n",
       "      <th>or</th>\n",
       "      <th>perfect</th>\n",
       "      <th>the</th>\n",
       "      <th>this</th>\n",
       "    </tr>\n",
       "  </thead>\n",
       "  <tbody>\n",
       "    <tr>\n",
       "      <th>0</th>\n",
       "      <td>0.000000</td>\n",
       "      <td>0.345205</td>\n",
       "      <td>0.584483</td>\n",
       "      <td>0.000000</td>\n",
       "      <td>0.584483</td>\n",
       "      <td>0.000000</td>\n",
       "      <td>0.444514</td>\n",
       "      <td>0.000000</td>\n",
       "      <td>0.000000</td>\n",
       "      <td>0.000000</td>\n",
       "      <td>0.000000</td>\n",
       "    </tr>\n",
       "    <tr>\n",
       "      <th>1</th>\n",
       "      <td>0.000000</td>\n",
       "      <td>0.501310</td>\n",
       "      <td>0.000000</td>\n",
       "      <td>0.322764</td>\n",
       "      <td>0.000000</td>\n",
       "      <td>0.424396</td>\n",
       "      <td>0.322764</td>\n",
       "      <td>0.000000</td>\n",
       "      <td>0.424396</td>\n",
       "      <td>0.424396</td>\n",
       "      <td>0.000000</td>\n",
       "    </tr>\n",
       "    <tr>\n",
       "      <th>2</th>\n",
       "      <td>0.339766</td>\n",
       "      <td>0.200671</td>\n",
       "      <td>0.000000</td>\n",
       "      <td>0.516802</td>\n",
       "      <td>0.000000</td>\n",
       "      <td>0.000000</td>\n",
       "      <td>0.000000</td>\n",
       "      <td>0.339766</td>\n",
       "      <td>0.000000</td>\n",
       "      <td>0.000000</td>\n",
       "      <td>0.679533</td>\n",
       "    </tr>\n",
       "  </tbody>\n",
       "</table>\n",
       "</div>"
      ],
      "text/plain": [
       "      bread       cat         i        is      like      most        my  \\\n",
       "0  0.000000  0.345205  0.584483  0.000000  0.584483  0.000000  0.444514   \n",
       "1  0.000000  0.501310  0.000000  0.322764  0.000000  0.424396  0.322764   \n",
       "2  0.339766  0.200671  0.000000  0.516802  0.000000  0.000000  0.000000   \n",
       "\n",
       "         or   perfect       the      this  \n",
       "0  0.000000  0.000000  0.000000  0.000000  \n",
       "1  0.000000  0.424396  0.424396  0.000000  \n",
       "2  0.339766  0.000000  0.000000  0.679533  "
      ]
     },
     "execution_count": 70,
     "metadata": {},
     "output_type": "execute_result"
    }
   ],
   "source": [
    "tfidf_vec_2 = TfidfVectorizer(token_pattern=r\"(?u)\\b\\w+\\b\")\n",
    "X_2 = tfidf_vec_2.fit_transform(texts_tokenized)\n",
    "\n",
    "pd.DataFrame(X_2.toarray(), columns=tfidf_vec_2.get_feature_names_out())"
   ]
  },
  {
   "cell_type": "markdown",
   "id": "c85b6a83",
   "metadata": {},
   "source": [
    "## 5. Решение задачи с текстовыми данными\n",
    "\n",
    "Будем решать задачу классификации твитов по тональности. Возьмём датасет из твитов, в котором про каждый твит известно, как он эмоционально окрашен: положительно или отрицательно. Задача: предсказывать эмоциональную окраску. Классификацию по тональности используют, например, в рекомендательных системах, чтобы понять, понравилось ли людям кафе, кино, etc.\n",
    "\n",
    "Скачиваем куски датасета ([источник](http://study.mokoron.com/)): [положительные](https://www.dropbox.com/s/fnpq3z4bcnoktiv/positive.csv?dl=0), [отрицательные](https://www.dropbox.com/s/r6u59ljhhjdg6j0/negative.csv)."
   ]
  },
  {
   "cell_type": "code",
   "execution_count": null,
   "id": "2f275105",
   "metadata": {},
   "outputs": [
    {
     "name": "stdout",
     "output_type": "stream",
     "text": [
      "--2025-08-25 23:02:49--  https://www.dropbox.com/s/fnpq3z4bcnoktiv/positive.csv\n",
      "Распознаётся www.dropbox.com (www.dropbox.com)… 2620:100:6022:18::a27d:4212, 162.125.70.18\n",
      "Подключение к www.dropbox.com (www.dropbox.com)|2620:100:6022:18::a27d:4212|:443... соединение установлено.\n",
      "HTTP-запрос отправлен. Ожидание ответа… 302 Found\n",
      "Адрес: https://www.dropbox.com/scl/fi/6mg7rw3wltux83q2o4ah4/positive.csv?rlkey=cvruhzofza9kkfxwzyp2vskfd [переход]\n",
      "--2025-08-25 23:02:50--  https://www.dropbox.com/scl/fi/6mg7rw3wltux83q2o4ah4/positive.csv?rlkey=cvruhzofza9kkfxwzyp2vskfd\n",
      "Повторное использование соединения с [www.dropbox.com]:443.\n",
      "HTTP-запрос отправлен. Ожидание ответа… 302 Found\n",
      "Адрес: https://ucd413931a677aa771e6d2f1f607.dl.dropboxusercontent.com/cd/0/inline/CwGw-WgWVF8haRjTbwz3HMpTGXXTWtwpVziWY5skUFgKmmAaHkQ_Z44orMW1OfwZ4w-mFBLcJPsxUUPy7B1xg0HIQziJJ7nrzIUr10f26TFvm_UDjFC4UO0F0YV_7oJXawc/file# [переход]\n",
      "--2025-08-25 23:02:50--  https://ucd413931a677aa771e6d2f1f607.dl.dropboxusercontent.com/cd/0/inline/CwGw-WgWVF8haRjTbwz3HMpTGXXTWtwpVziWY5skUFgKmmAaHkQ_Z44orMW1OfwZ4w-mFBLcJPsxUUPy7B1xg0HIQziJJ7nrzIUr10f26TFvm_UDjFC4UO0F0YV_7oJXawc/file\n",
      "Распознаётся ucd413931a677aa771e6d2f1f607.dl.dropboxusercontent.com (ucd413931a677aa771e6d2f1f607.dl.dropboxusercontent.com)… 2620:100:6022:15::a27d:420f, 162.125.70.15\n",
      "Подключение к ucd413931a677aa771e6d2f1f607.dl.dropboxusercontent.com (ucd413931a677aa771e6d2f1f607.dl.dropboxusercontent.com)|2620:100:6022:15::a27d:420f|:443... соединение установлено.\n",
      "HTTP-запрос отправлен. Ожидание ответа… 200 OK\n",
      "Длина: 26233379 (25M) [text/plain]\n",
      "Сохранение в: «positive.csv»\n",
      "\n",
      "positive.csv        100%[===================>]  25,02M  19,5MB/s    за 1,3s    \n",
      "\n",
      "2025-08-25 23:02:52 (19,5 MB/s) - «positive.csv» сохранён [26233379/26233379]\n",
      "\n",
      "--2025-08-25 23:02:53--  https://www.dropbox.com/s/r6u59ljhhjdg6j0/negative.csv\n",
      "Распознаётся www.dropbox.com (www.dropbox.com)… 2620:100:6022:18::a27d:4212, 162.125.70.18\n",
      "Подключение к www.dropbox.com (www.dropbox.com)|2620:100:6022:18::a27d:4212|:443... соединение установлено.\n",
      "HTTP-запрос отправлен. Ожидание ответа… 302 Found\n",
      "Адрес: https://www.dropbox.com/scl/fi/wui0xz78kpna56690uej4/negative.csv?rlkey=309xeou9u3rtbejw9stb13wfr [переход]\n",
      "--2025-08-25 23:02:53--  https://www.dropbox.com/scl/fi/wui0xz78kpna56690uej4/negative.csv?rlkey=309xeou9u3rtbejw9stb13wfr\n",
      "Повторное использование соединения с [www.dropbox.com]:443.\n",
      "HTTP-запрос отправлен. Ожидание ответа… 302 Found\n",
      "Адрес: https://ucc04b1aaba13799f9effe73a9ea.dl.dropboxusercontent.com/cd/0/inline/CwHepUtQ0q002f1hkGn_tRs2JEBkaUWoVzrHuhhQuuQXZTD5XZHF5FzFfBUr8dglp_EBz6tkPCy827YyapTCXc_CtwAlucX6fbXJe5Vg3Nt1ofaF0KmCMuMB35ztessB8ig/file# [переход]\n",
      "--2025-08-25 23:02:54--  https://ucc04b1aaba13799f9effe73a9ea.dl.dropboxusercontent.com/cd/0/inline/CwHepUtQ0q002f1hkGn_tRs2JEBkaUWoVzrHuhhQuuQXZTD5XZHF5FzFfBUr8dglp_EBz6tkPCy827YyapTCXc_CtwAlucX6fbXJe5Vg3Nt1ofaF0KmCMuMB35ztessB8ig/file\n",
      "Распознаётся ucc04b1aaba13799f9effe73a9ea.dl.dropboxusercontent.com (ucc04b1aaba13799f9effe73a9ea.dl.dropboxusercontent.com)… 2620:100:6022:15::a27d:420f, 162.125.70.15\n",
      "Подключение к ucc04b1aaba13799f9effe73a9ea.dl.dropboxusercontent.com (ucc04b1aaba13799f9effe73a9ea.dl.dropboxusercontent.com)|2620:100:6022:15::a27d:420f|:443... соединение установлено.\n",
      "HTTP-запрос отправлен. Ожидание ответа… 200 OK\n",
      "Длина: 24450101 (23M) [text/plain]\n",
      "Сохранение в: «negative.csv»\n",
      "\n",
      "negative.csv        100%[===================>]  23,32M  18,4MB/s    за 1,3s    \n",
      "\n",
      "2025-08-25 23:02:56 (18,4 MB/s) - «negative.csv» сохранён [24450101/24450101]\n",
      "\n"
     ]
    }
   ],
   "source": [
    "# !wget https://www.dropbox.com/s/fnpq3z4bcnoktiv/positive.csv\n",
    "# !wget https://www.dropbox.com/s/r6u59ljhhjdg6j0/negative.csv"
   ]
  },
  {
   "cell_type": "code",
   "execution_count": 71,
   "id": "e0bd2cdf",
   "metadata": {},
   "outputs": [],
   "source": [
    "import numpy as np\n",
    "import pandas as pd\n",
    "from sklearn.linear_model import LogisticRegression\n",
    "from sklearn.metrics import classification_report, roc_auc_score\n",
    "from sklearn.model_selection import train_test_split\n",
    "from sklearn.preprocessing import MaxAbsScaler"
   ]
  },
  {
   "cell_type": "code",
   "execution_count": 72,
   "id": "f3c12e42",
   "metadata": {},
   "outputs": [],
   "source": [
    "# считываем данные и заполняем общий датасет\n",
    "positive = pd.read_csv(\"positive.csv\", sep=\";\", usecols=[3], names=[\"text\"])\n",
    "positive[\"label\"] = \"positive\"\n",
    "negative = pd.read_csv(\"negative.csv\", sep=\";\", usecols=[3], names=[\"text\"])\n",
    "negative[\"label\"] = \"negative\"\n",
    "df = pd.concat([positive, negative])"
   ]
  },
  {
   "cell_type": "code",
   "execution_count": 73,
   "id": "c3ef290e",
   "metadata": {},
   "outputs": [
    {
     "data": {
      "text/html": [
       "<div>\n",
       "<style scoped>\n",
       "    .dataframe tbody tr th:only-of-type {\n",
       "        vertical-align: middle;\n",
       "    }\n",
       "\n",
       "    .dataframe tbody tr th {\n",
       "        vertical-align: top;\n",
       "    }\n",
       "\n",
       "    .dataframe thead th {\n",
       "        text-align: right;\n",
       "    }\n",
       "</style>\n",
       "<table border=\"1\" class=\"dataframe\">\n",
       "  <thead>\n",
       "    <tr style=\"text-align: right;\">\n",
       "      <th></th>\n",
       "      <th>text</th>\n",
       "      <th>label</th>\n",
       "    </tr>\n",
       "  </thead>\n",
       "  <tbody>\n",
       "    <tr>\n",
       "      <th>0</th>\n",
       "      <td>@first_timee хоть я и школота, но поверь, у на...</td>\n",
       "      <td>positive</td>\n",
       "    </tr>\n",
       "    <tr>\n",
       "      <th>1</th>\n",
       "      <td>Да, все-таки он немного похож на него. Но мой ...</td>\n",
       "      <td>positive</td>\n",
       "    </tr>\n",
       "    <tr>\n",
       "      <th>2</th>\n",
       "      <td>RT @KatiaCheh: Ну ты идиотка) я испугалась за ...</td>\n",
       "      <td>positive</td>\n",
       "    </tr>\n",
       "    <tr>\n",
       "      <th>3</th>\n",
       "      <td>RT @digger2912: \"Кто то в углу сидит и погибае...</td>\n",
       "      <td>positive</td>\n",
       "    </tr>\n",
       "    <tr>\n",
       "      <th>4</th>\n",
       "      <td>@irina_dyshkant Вот что значит страшилка :D\\nН...</td>\n",
       "      <td>positive</td>\n",
       "    </tr>\n",
       "  </tbody>\n",
       "</table>\n",
       "</div>"
      ],
      "text/plain": [
       "                                                text     label\n",
       "0  @first_timee хоть я и школота, но поверь, у на...  positive\n",
       "1  Да, все-таки он немного похож на него. Но мой ...  positive\n",
       "2  RT @KatiaCheh: Ну ты идиотка) я испугалась за ...  positive\n",
       "3  RT @digger2912: \"Кто то в углу сидит и погибае...  positive\n",
       "4  @irina_dyshkant Вот что значит страшилка :D\\nН...  positive"
      ]
     },
     "metadata": {},
     "output_type": "display_data"
    },
    {
     "data": {
      "text/html": [
       "<div>\n",
       "<style scoped>\n",
       "    .dataframe tbody tr th:only-of-type {\n",
       "        vertical-align: middle;\n",
       "    }\n",
       "\n",
       "    .dataframe tbody tr th {\n",
       "        vertical-align: top;\n",
       "    }\n",
       "\n",
       "    .dataframe thead th {\n",
       "        text-align: right;\n",
       "    }\n",
       "</style>\n",
       "<table border=\"1\" class=\"dataframe\">\n",
       "  <thead>\n",
       "    <tr style=\"text-align: right;\">\n",
       "      <th></th>\n",
       "      <th>text</th>\n",
       "      <th>label</th>\n",
       "    </tr>\n",
       "  </thead>\n",
       "  <tbody>\n",
       "    <tr>\n",
       "      <th>111918</th>\n",
       "      <td>Но не каждый хочет что то исправлять:( http://...</td>\n",
       "      <td>negative</td>\n",
       "    </tr>\n",
       "    <tr>\n",
       "      <th>111919</th>\n",
       "      <td>скучаю так :-( только @taaannyaaa вправляет мо...</td>\n",
       "      <td>negative</td>\n",
       "    </tr>\n",
       "    <tr>\n",
       "      <th>111920</th>\n",
       "      <td>Вот и в школу, в говно это идти уже надо(</td>\n",
       "      <td>negative</td>\n",
       "    </tr>\n",
       "    <tr>\n",
       "      <th>111921</th>\n",
       "      <td>RT @_Them__: @LisaBeroud Тауриэль, не грусти :...</td>\n",
       "      <td>negative</td>\n",
       "    </tr>\n",
       "    <tr>\n",
       "      <th>111922</th>\n",
       "      <td>Такси везет меня на работу. Раздумываю приплат...</td>\n",
       "      <td>negative</td>\n",
       "    </tr>\n",
       "  </tbody>\n",
       "</table>\n",
       "</div>"
      ],
      "text/plain": [
       "                                                     text     label\n",
       "111918  Но не каждый хочет что то исправлять:( http://...  negative\n",
       "111919  скучаю так :-( только @taaannyaaa вправляет мо...  negative\n",
       "111920          Вот и в школу, в говно это идти уже надо(  negative\n",
       "111921  RT @_Them__: @LisaBeroud Тауриэль, не грусти :...  negative\n",
       "111922  Такси везет меня на работу. Раздумываю приплат...  negative"
      ]
     },
     "metadata": {},
     "output_type": "display_data"
    }
   ],
   "source": [
    "display(df.head(), df.tail())"
   ]
  },
  {
   "cell_type": "code",
   "execution_count": 74,
   "id": "62edfb1a",
   "metadata": {},
   "outputs": [
    {
     "data": {
      "text/plain": [
       "(226834, 2)"
      ]
     },
     "execution_count": 74,
     "metadata": {},
     "output_type": "execute_result"
    }
   ],
   "source": [
    "df.shape"
   ]
  },
  {
   "cell_type": "code",
   "execution_count": 75,
   "id": "b143cc84",
   "metadata": {},
   "outputs": [
    {
     "name": "stdout",
     "output_type": "stream",
     "text": [
      "<class 'pandas.core.frame.DataFrame'>\n",
      "Index: 226834 entries, 0 to 111922\n",
      "Data columns (total 2 columns):\n",
      " #   Column  Non-Null Count   Dtype \n",
      "---  ------  --------------   ----- \n",
      " 0   text    226834 non-null  object\n",
      " 1   label   226834 non-null  object\n",
      "dtypes: object(2)\n",
      "memory usage: 5.2+ MB\n"
     ]
    }
   ],
   "source": [
    "df.info()"
   ]
  },
  {
   "cell_type": "code",
   "execution_count": 76,
   "id": "a82e9947",
   "metadata": {},
   "outputs": [],
   "source": [
    "#Разобьем исходный датасет на train и test\n",
    "x_train, x_test, y_train, y_test = train_test_split(df.text, df.label, random_state=13)"
   ]
  },
  {
   "cell_type": "markdown",
   "id": "5d1f8b67",
   "metadata": {},
   "source": [
    "#### n-граммы\n",
    "\n",
    "n-граммы — это последовательности n токенов из исходного текста. В простейшем случае это могут быть последовательности из букв или последовательности из слов. Давайте посмотрим подробнее на примере."
   ]
  },
  {
   "cell_type": "code",
   "execution_count": 77,
   "id": "e31ea454",
   "metadata": {},
   "outputs": [],
   "source": [
    "from nltk import ngrams"
   ]
  },
  {
   "cell_type": "code",
   "execution_count": 78,
   "id": "ba27eb2e",
   "metadata": {},
   "outputs": [
    {
     "data": {
      "text/plain": [
       "[('Если',), ('б',), ('мне',), ('платили',), ('каждый',), ('раз',)]"
      ]
     },
     "execution_count": 78,
     "metadata": {},
     "output_type": "execute_result"
    }
   ],
   "source": [
    "sent = \"Если б мне платили каждый раз\".split()\n",
    "list(ngrams(sent, 1))  # униграммы"
   ]
  },
  {
   "cell_type": "code",
   "execution_count": 79,
   "id": "9ba0944b",
   "metadata": {},
   "outputs": [
    {
     "data": {
      "text/plain": [
       "[('Если', 'б'),\n",
       " ('б', 'мне'),\n",
       " ('мне', 'платили'),\n",
       " ('платили', 'каждый'),\n",
       " ('каждый', 'раз')]"
      ]
     },
     "execution_count": 79,
     "metadata": {},
     "output_type": "execute_result"
    }
   ],
   "source": [
    "list(ngrams(sent, 2))  # биграммы"
   ]
  },
  {
   "cell_type": "code",
   "execution_count": 80,
   "id": "a1eacd52",
   "metadata": {},
   "outputs": [
    {
     "data": {
      "text/plain": [
       "[('Если', 'б', 'мне'),\n",
       " ('б', 'мне', 'платили'),\n",
       " ('мне', 'платили', 'каждый'),\n",
       " ('платили', 'каждый', 'раз')]"
      ]
     },
     "execution_count": 80,
     "metadata": {},
     "output_type": "execute_result"
    }
   ],
   "source": [
    "list(ngrams(sent, 3))  # триграммы"
   ]
  },
  {
   "cell_type": "code",
   "execution_count": 81,
   "id": "5221a9a3",
   "metadata": {},
   "outputs": [
    {
     "data": {
      "text/plain": [
       "[('Если', 'б', 'мне', 'платили', 'каждый'),\n",
       " ('б', 'мне', 'платили', 'каждый', 'раз')]"
      ]
     },
     "execution_count": 81,
     "metadata": {},
     "output_type": "execute_result"
    }
   ],
   "source": [
    "list(ngrams(sent, 5))  # ... пентаграммы?"
   ]
  },
  {
   "cell_type": "markdown",
   "id": "1b3a2fca",
   "metadata": {},
   "source": [
    "В качестве альтернативы можно пользоваться `CountVectorizer`, который работает так:\n",
    "* строит для каждого документа (каждой пришедшей ему строки) вектор размерности количества токенов в нашем словаре\n",
    "* заполняет каждый i-тый элемент количеством вхождений токена в данный документ\n",
    "\n",
    "Параметр `ngram_range` отвечает за то, какие n-граммы мы используем в качестве фичей:\n",
    "- `ngram_range=(1, 1)` — униграммы\n",
    "- `ngram_range=(3, 3)` — триграммы\n",
    "- `ngram_range=(1, 3)` — униграммы, биграммы и триграммы"
   ]
  },
  {
   "cell_type": "markdown",
   "id": "30d5fe27",
   "metadata": {},
   "source": [
    "### 5.1 Обучение моделей\n",
    "\n",
    "Обучим наш первый бейзлайн — логрег на униграммах!"
   ]
  },
  {
   "cell_type": "code",
   "execution_count": 82,
   "id": "1fe7418a",
   "metadata": {},
   "outputs": [
    {
     "name": "stdout",
     "output_type": "stream",
     "text": [
      "              precision    recall  f1-score   support\n",
      "\n",
      "    negative       0.76      0.77      0.76     27957\n",
      "    positive       0.77      0.76      0.77     28752\n",
      "\n",
      "    accuracy                           0.77     56709\n",
      "   macro avg       0.76      0.77      0.76     56709\n",
      "weighted avg       0.77      0.77      0.77     56709\n",
      "\n"
     ]
    }
   ],
   "source": [
    "vec = CountVectorizer(ngram_range=(1, 1))\n",
    "bow = vec.fit_transform(x_train)  # bow — bag of words (мешок слов)\n",
    "bow_test = vec.transform(x_test)\n",
    "\n",
    "scaler = MaxAbsScaler()\n",
    "bow = scaler.fit_transform(bow)\n",
    "bow_test = scaler.transform(bow_test)\n",
    "\n",
    "clf = LogisticRegression(max_iter=500, random_state=42)\n",
    "clf.fit(bow, y_train)\n",
    "pred = clf.predict(bow_test)\n",
    "print(classification_report(y_test, pred))"
   ]
  },
  {
   "cell_type": "markdown",
   "id": "2631ed08",
   "metadata": {},
   "source": [
    "Попробуем сделать то же самое для биграмм и триграмм."
   ]
  },
  {
   "cell_type": "code",
   "execution_count": 83,
   "id": "c0bc0ea6",
   "metadata": {},
   "outputs": [
    {
     "name": "stdout",
     "output_type": "stream",
     "text": [
      "              precision    recall  f1-score   support\n",
      "\n",
      "    negative       0.70      0.74      0.72     27957\n",
      "    positive       0.73      0.69      0.71     28752\n",
      "\n",
      "    accuracy                           0.71     56709\n",
      "   macro avg       0.71      0.71      0.71     56709\n",
      "weighted avg       0.71      0.71      0.71     56709\n",
      "\n"
     ]
    }
   ],
   "source": [
    "vec2 = CountVectorizer(ngram_range=(2, 2))\n",
    "bow2 = vec2.fit_transform(x_train)  # bow — bag of words (мешок слов)\n",
    "bow_test2 = vec2.transform(x_test)\n",
    "\n",
    "scaler2 = MaxAbsScaler()\n",
    "bow2 = scaler2.fit_transform(bow2)\n",
    "bow_test2 = scaler2.transform(bow_test2)\n",
    "\n",
    "clf2 = LogisticRegression(max_iter=500, random_state=42)\n",
    "clf2.fit(bow2, y_train)\n",
    "pred2 = clf2.predict(bow_test2)\n",
    "print(classification_report(y_test, pred2))"
   ]
  },
  {
   "cell_type": "code",
   "execution_count": 84,
   "id": "20eb8b5c",
   "metadata": {},
   "outputs": [
    {
     "name": "stdout",
     "output_type": "stream",
     "text": [
      "              precision    recall  f1-score   support\n",
      "\n",
      "    negative       0.72      0.47      0.57     27957\n",
      "    positive       0.61      0.82      0.70     28752\n",
      "\n",
      "    accuracy                           0.65     56709\n",
      "   macro avg       0.67      0.65      0.64     56709\n",
      "weighted avg       0.67      0.65      0.64     56709\n",
      "\n"
     ]
    }
   ],
   "source": [
    "vec3 = CountVectorizer(ngram_range=(3, 3))\n",
    "bow3 = vec3.fit_transform(x_train)  # bow — bag of words (мешок слов)\n",
    "bow_test3 = vec3.transform(x_test)\n",
    "\n",
    "scaler3 = MaxAbsScaler()\n",
    "bow3 = scaler3.fit_transform(bow3)\n",
    "bow_test3 = scaler3.transform(bow_test3)\n",
    "\n",
    "clf3 = LogisticRegression(max_iter=500, random_state=42)\n",
    "clf3.fit(bow3, y_train)\n",
    "pred3 = clf3.predict(bow_test3)\n",
    "print(classification_report(y_test, pred3))"
   ]
  },
  {
   "cell_type": "markdown",
   "id": "c6a20585",
   "metadata": {},
   "source": [
    "Как видно биграммы и триграммы дают худшую точность относительно униграмм."
   ]
  },
  {
   "cell_type": "markdown",
   "id": "b8280d36",
   "metadata": {},
   "source": [
    "А теперь повторим процедуру для TF-IDF (на униграммах)."
   ]
  },
  {
   "cell_type": "code",
   "execution_count": 85,
   "id": "e1dd43b8",
   "metadata": {},
   "outputs": [
    {
     "name": "stdout",
     "output_type": "stream",
     "text": [
      "              precision    recall  f1-score   support\n",
      "\n",
      "    negative       0.77      0.75      0.76     27957\n",
      "    positive       0.76      0.78      0.77     28752\n",
      "\n",
      "    accuracy                           0.76     56709\n",
      "   macro avg       0.76      0.76      0.76     56709\n",
      "weighted avg       0.76      0.76      0.76     56709\n",
      "\n"
     ]
    }
   ],
   "source": [
    "vec = TfidfVectorizer(ngram_range=(1, 1))\n",
    "vec_train = vec.fit_transform(x_train)\n",
    "vec_test = vec.transform(x_test)\n",
    "\n",
    "scaler = MaxAbsScaler()\n",
    "vec_train = scaler.fit_transform(vec_train)\n",
    "vec_test = scaler.transform(vec_test)\n",
    "\n",
    "clf = LogisticRegression(max_iter=500, random_state=42)\n",
    "clf.fit(vec_train, y_train)\n",
    "pred_tfidf = clf.predict(vec_test)\n",
    "print(classification_report(y_test, pred_tfidf))"
   ]
  },
  {
   "cell_type": "markdown",
   "id": "de9bcf70",
   "metadata": {},
   "source": [
    "### 5.2 О важности эксплоративного анализа\n",
    "\n",
    "Иногда пунктуация бывает и не шумом. Главное — отталкиваться от задачи. Что будет если вообще не убирать пунктуацию?"
   ]
  },
  {
   "cell_type": "code",
   "execution_count": 86,
   "id": "0b7bbb9f",
   "metadata": {},
   "outputs": [
    {
     "name": "stdout",
     "output_type": "stream",
     "text": [
      "              precision    recall  f1-score   support\n",
      "\n",
      "    negative       0.95      0.96      0.96     27957\n",
      "    positive       0.97      0.95      0.96     28752\n",
      "\n",
      "    accuracy                           0.96     56709\n",
      "   macro avg       0.96      0.96      0.96     56709\n",
      "weighted avg       0.96      0.96      0.96     56709\n",
      "\n"
     ]
    }
   ],
   "source": [
    "vec = CountVectorizer(ngram_range=(1, 1), tokenizer=tokenize_advanced)\n",
    "bow = vec.fit_transform(x_train)\n",
    "bow_test = vec.transform(x_test)\n",
    "\n",
    "scaler = MaxAbsScaler()\n",
    "bow = scaler.fit_transform(bow)\n",
    "bow_test = scaler.transform(bow_test)\n",
    "\n",
    "clf = LogisticRegression(max_iter=500, random_state=42)\n",
    "clf.fit(bow, y_train)\n",
    "pred = clf.predict(bow_test)\n",
    "print(classification_report(y_test, pred))"
   ]
  },
  {
   "cell_type": "markdown",
   "id": "c4470197",
   "metadata": {},
   "source": [
    "Как мы видим отказ от очистки от пунктуации (в базовом случае, используется внутренний токенизатор, который как мы помним работает таким паттерном `token_pattern=r'(?u)\\b\\w\\w+\\b'`, при указании параметра `tokenizer=tokenize_advanced` мы ссылаемся на внешний токенизатор и внутренний токенизатор уже не вмешивается в работу), привел к внезапному росту всех метрик, значит в данном случаи какие-то пунктуационные символы являются очень значимыми. Посмотрим на наиболее значимый из них."
   ]
  },
  {
   "cell_type": "code",
   "execution_count": 87,
   "id": "3ea94247",
   "metadata": {},
   "outputs": [
    {
     "data": {
      "text/plain": [
       "')'"
      ]
     },
     "execution_count": 87,
     "metadata": {},
     "output_type": "execute_result"
    }
   ],
   "source": [
    "vec.get_feature_names_out()[np.argmax(clf.coef_)]"
   ]
  },
  {
   "cell_type": "markdown",
   "id": "ddf0d6dc",
   "metadata": {},
   "source": [
    "Можно построить предскозание основываясь на наличии только одного этого токена и посмотреть на точность."
   ]
  },
  {
   "cell_type": "code",
   "execution_count": 88,
   "id": "bd934303",
   "metadata": {},
   "outputs": [
    {
     "name": "stdout",
     "output_type": "stream",
     "text": [
      "              precision    recall  f1-score   support\n",
      "\n",
      "    negative       0.85      1.00      0.92     27957\n",
      "    positive       1.00      0.83      0.91     28752\n",
      "\n",
      "    accuracy                           0.91     56709\n",
      "   macro avg       0.93      0.92      0.91     56709\n",
      "weighted avg       0.93      0.91      0.91     56709\n",
      "\n"
     ]
    }
   ],
   "source": [
    "cool_token = vec.get_feature_names_out()[np.argmax(clf.coef_)]\n",
    "pred = [\"positive\" if cool_token in tweet else \"negative\" for tweet in x_test]\n",
    "print(classification_report(y_test, pred))"
   ]
  },
  {
   "cell_type": "code",
   "execution_count": 89,
   "id": "feca3eda",
   "metadata": {},
   "outputs": [
    {
     "name": "stdout",
     "output_type": "stream",
     "text": [
      "“@Fashionbar_uz: Ladies Monday . Каждый понедельник для всех девушек кальяны от заведения. #fashionbar http://t.co/ZlvxOcZPR4” zaviduyu))\n",
      "Гримерка-лук))) #evabristol #performance #gig #vocaldiva #гастроли #гитис #театр http://t.co/S60OvyyTS6\n",
      "RT @alivfedorov: http://t.co/DvYLJaPHxR Девушки это самые хитрые создания! так что даже не пытайся их обмануть!:)\n",
      "@pavelsheremet @ukrpravda_news @varlamov хотя исторически правильно желто-синий:)\n",
      "Понятия не имею чем меня привлекла эта картинка!)))http://t.co/twqP8zyh1A\n",
      "@Sveta12126 ну или пусть Лиама пришлет ко мне) своего младшенького. Как сказала Кэтрин: \"Это нормально - любить двоих\" ахах\n",
      "Вышел в свет новый каталог запасных частей и деталей ТМК! Звоните - подарим :)\n",
      "@u_alekseeva_17 видужуй:3\n",
      "Я там тепер буду кожну середу)\n",
      "29-й выпуск Дроидкаста будет не против ваших плюсов на Хабре   ;)\n",
      "@nemoniga а я вот знаю :) нам на политической географии рассказывал душечка Гурин\n"
     ]
    }
   ],
   "source": [
    "cool_token = vec.get_feature_names_out()[np.argmax(clf.coef_)]\n",
    "tweets_with_cool_token = [tweet for tweet in x_train if cool_token in tweet]\n",
    "np.random.seed(42)\n",
    "for tweet in np.random.choice(tweets_with_cool_token, size=10, replace=False):\n",
    "    print(tweet)"
   ]
  },
  {
   "cell_type": "markdown",
   "id": "b2279194",
   "metadata": {},
   "source": [
    "Как мы увидели модель классификации, которая делает предсказание только исходя из факта наличичя символа `)` в тексте сравнима по точности с нашей самой точной моделью линейной регрессии. \n",
    "\n",
    "**Вывод:** Для данного набора данных, наличиче в тексте символа `)` - является значимым фактором, чтобы сделать предсказание в пользу класса `positive`"
   ]
  },
  {
   "cell_type": "markdown",
   "id": "059d7ed6",
   "metadata": {},
   "source": [
    "### 5.3 Символьные n-граммы\n",
    "\n",
    "Теперь в качестве признаков используем, например, униграммы символов:"
   ]
  },
  {
   "cell_type": "code",
   "execution_count": 90,
   "id": "085d6262",
   "metadata": {},
   "outputs": [
    {
     "name": "stdout",
     "output_type": "stream",
     "text": [
      "              precision    recall  f1-score   support\n",
      "\n",
      "    negative       0.99      0.97      0.98     27957\n",
      "    positive       0.98      0.99      0.98     28752\n",
      "\n",
      "    accuracy                           0.98     56709\n",
      "   macro avg       0.98      0.98      0.98     56709\n",
      "weighted avg       0.98      0.98      0.98     56709\n",
      "\n"
     ]
    }
   ],
   "source": [
    "vec = CountVectorizer(ngram_range=(1, 1), analyzer=\"char\") #оставляем только единичные символы в качестве токенов\n",
    "bow = vec.fit_transform(x_train)\n",
    "bow_test = vec.transform(x_test)\n",
    "\n",
    "scaler = MaxAbsScaler()\n",
    "bow = scaler.fit_transform(bow)\n",
    "bow_test = scaler.transform(bow_test)\n",
    "\n",
    "clf = LogisticRegression(max_iter=500, random_state=42)\n",
    "clf.fit(bow, y_train)\n",
    "pred = clf.predict(bow_test)\n",
    "print(classification_report(y_test, pred))"
   ]
  },
  {
   "cell_type": "markdown",
   "id": "73e03284",
   "metadata": {},
   "source": [
    "В общем-то, теперь уже понятно, почему на этих данных здесь 1. Так или иначе, на символах классифицировать тоже можно: для некоторых задач (например, для определения языка) признаки-символьные n-граммы могут внести серьезный вклад в качество модели. Ещё одна замечательная особенность признаков-символов: токенизация и лемматизация не нужна, можно использовать такой подход для языков, у которых нет готовых анализаторов."
   ]
  },
  {
   "cell_type": "markdown",
   "id": "8a1bbedd",
   "metadata": {},
   "source": [
    "## 6. Немножко про категориальные признаки\n",
    "\n",
    "Мы уже говорили, что кодировать категориальные признаки просто в виде чисел — не очень хорошая идея. Это задаёт некоторый порядок, которого на категориальных переменных может и не быть. Существует три основных способа обработки категориальных значений:\n",
    "- Label encoding\n",
    "- One-hot-кодирование\n",
    "- Счётчики (CTR, mean-target кодирование) — каждый категориальный признак заменяется на среднее значение целевой переменной по всем объектам, имеющим одинаковое значение в этом признаке\n",
    "\n",
    "Основная идея счетчиков заключается в том, что нам важны не сами категории, а значения целевой переменной, которые имеют объекты этой категории. Каждый категориальный признак мы заменим средним значением целевой переменной по всем объектам этой же категории. Формально это можно записать так:\n",
    "$$\n",
    "g_j(x, X) = \\frac{\\sum_{i=1}^{l} [f_j(x) = f_j(x_i)][y_i = +1]}{\\sum_{i=1}^{l} [f_j(x) = f_j(x_i)]}\n",
    "$$\n",
    "\n",
    "Сравним два последних метода на нашем любимом Титанике, но на этот раз не будем сильно заморачиваться с обработкой пропусков."
   ]
  },
  {
   "cell_type": "code",
   "execution_count": 102,
   "id": "c9629b74",
   "metadata": {},
   "outputs": [],
   "source": [
    "from sklearn.preprocessing import MinMaxScaler"
   ]
  },
  {
   "cell_type": "code",
   "execution_count": null,
   "id": "e99a9959",
   "metadata": {},
   "outputs": [],
   "source": [
    "# data = pd.read_csv(\n",
    "#     \"https://raw.githubusercontent.com/iad34/seminars/master/materials/data_sem1.csv\",\n",
    "#     sep=\";\",\n",
    "# )\n",
    "\n",
    "# data[\"Age\"] = data[\"Age\"].fillna(data.groupby(\"Pclass\")[\"Age\"].transform(\"median\"))\n",
    "# data.drop(\"Cabin\", axis=1, inplace=True)\n",
    "# data.drop(\"Name\", axis=1, inplace=True)\n",
    "# data.drop(\"Ticket\", axis=1, inplace=True)\n",
    "# data.dropna(inplace=True)\n",
    "# data.to_csv('cat_feat_enc_exanple.csv')\n",
    "\n",
    "data = pd.read_csv('cat_feat_enc_exanple.csv')"
   ]
  },
  {
   "cell_type": "markdown",
   "id": "66daa7a2",
   "metadata": {},
   "source": [
    "### 6.1 OHE"
   ]
  },
  {
   "cell_type": "code",
   "execution_count": 106,
   "id": "9b7fda5c",
   "metadata": {},
   "outputs": [
    {
     "data": {
      "text/html": [
       "<div>\n",
       "<style scoped>\n",
       "    .dataframe tbody tr th:only-of-type {\n",
       "        vertical-align: middle;\n",
       "    }\n",
       "\n",
       "    .dataframe tbody tr th {\n",
       "        vertical-align: top;\n",
       "    }\n",
       "\n",
       "    .dataframe thead th {\n",
       "        text-align: right;\n",
       "    }\n",
       "</style>\n",
       "<table border=\"1\" class=\"dataframe\">\n",
       "  <thead>\n",
       "    <tr style=\"text-align: right;\">\n",
       "      <th></th>\n",
       "      <th>PassengerId</th>\n",
       "      <th>Pclass</th>\n",
       "      <th>Age</th>\n",
       "      <th>SibSp</th>\n",
       "      <th>Parch</th>\n",
       "      <th>Fare</th>\n",
       "      <th>Sex_male</th>\n",
       "      <th>Sex_unknown</th>\n",
       "      <th>Embarked_Q</th>\n",
       "      <th>Embarked_S</th>\n",
       "    </tr>\n",
       "  </thead>\n",
       "  <tbody>\n",
       "    <tr>\n",
       "      <th>0</th>\n",
       "      <td>1</td>\n",
       "      <td>3</td>\n",
       "      <td>22.0</td>\n",
       "      <td>1</td>\n",
       "      <td>0</td>\n",
       "      <td>7.2500</td>\n",
       "      <td>True</td>\n",
       "      <td>False</td>\n",
       "      <td>False</td>\n",
       "      <td>True</td>\n",
       "    </tr>\n",
       "    <tr>\n",
       "      <th>1</th>\n",
       "      <td>2</td>\n",
       "      <td>1</td>\n",
       "      <td>38.0</td>\n",
       "      <td>1</td>\n",
       "      <td>0</td>\n",
       "      <td>71.2833</td>\n",
       "      <td>False</td>\n",
       "      <td>False</td>\n",
       "      <td>False</td>\n",
       "      <td>False</td>\n",
       "    </tr>\n",
       "    <tr>\n",
       "      <th>2</th>\n",
       "      <td>3</td>\n",
       "      <td>3</td>\n",
       "      <td>26.0</td>\n",
       "      <td>0</td>\n",
       "      <td>0</td>\n",
       "      <td>7.9250</td>\n",
       "      <td>False</td>\n",
       "      <td>False</td>\n",
       "      <td>False</td>\n",
       "      <td>True</td>\n",
       "    </tr>\n",
       "    <tr>\n",
       "      <th>3</th>\n",
       "      <td>4</td>\n",
       "      <td>1</td>\n",
       "      <td>35.0</td>\n",
       "      <td>1</td>\n",
       "      <td>0</td>\n",
       "      <td>53.1000</td>\n",
       "      <td>False</td>\n",
       "      <td>False</td>\n",
       "      <td>False</td>\n",
       "      <td>True</td>\n",
       "    </tr>\n",
       "    <tr>\n",
       "      <th>4</th>\n",
       "      <td>5</td>\n",
       "      <td>3</td>\n",
       "      <td>35.0</td>\n",
       "      <td>0</td>\n",
       "      <td>0</td>\n",
       "      <td>8.0500</td>\n",
       "      <td>True</td>\n",
       "      <td>False</td>\n",
       "      <td>False</td>\n",
       "      <td>True</td>\n",
       "    </tr>\n",
       "  </tbody>\n",
       "</table>\n",
       "</div>"
      ],
      "text/plain": [
       "   PassengerId  Pclass   Age  SibSp  Parch     Fare  Sex_male  Sex_unknown  \\\n",
       "0            1       3  22.0      1      0   7.2500      True        False   \n",
       "1            2       1  38.0      1      0  71.2833     False        False   \n",
       "2            3       3  26.0      0      0   7.9250     False        False   \n",
       "3            4       1  35.0      1      0  53.1000     False        False   \n",
       "4            5       3  35.0      0      0   8.0500      True        False   \n",
       "\n",
       "   Embarked_Q  Embarked_S  \n",
       "0       False        True  \n",
       "1       False       False  \n",
       "2       False        True  \n",
       "3       False        True  \n",
       "4       False        True  "
      ]
     },
     "execution_count": 106,
     "metadata": {},
     "output_type": "execute_result"
    }
   ],
   "source": [
    "data_ohe = pd.get_dummies(data, drop_first=True)\n",
    "\n",
    "y = data_ohe[\"Survived\"]\n",
    "data_ohe = data_ohe.drop([\"Survived\"], axis=1)\n",
    "data_ohe.head()"
   ]
  },
  {
   "cell_type": "code",
   "execution_count": 107,
   "id": "87e2805c",
   "metadata": {},
   "outputs": [
    {
     "name": "stdout",
     "output_type": "stream",
     "text": [
      "ROC AUC: 0.77\n"
     ]
    }
   ],
   "source": [
    "X_train, X_test, y_train, y_test = train_test_split(\n",
    "    data_ohe, y, test_size=0.2, random_state=42, shuffle=True\n",
    ")\n",
    "\n",
    "scaler = MinMaxScaler()\n",
    "X_train = scaler.fit_transform(X_train)\n",
    "X_test = scaler.transform(X_test)\n",
    "\n",
    "model = LogisticRegression(max_iter=300)\n",
    "model.fit(X_train, y_train)\n",
    "prediction = model.predict(X_test)\n",
    "print(f\"ROC AUC: {roc_auc_score(prediction, y_test):.2f}\")"
   ]
  },
  {
   "cell_type": "markdown",
   "id": "7f1567de",
   "metadata": {},
   "source": [
    "### 6.2 Mean target encoding"
   ]
  },
  {
   "cell_type": "code",
   "execution_count": 108,
   "id": "fdaddcdc",
   "metadata": {},
   "outputs": [],
   "source": [
    "X_train, X_test, y_train, y_test = train_test_split(\n",
    "    data, y, test_size=0.2, random_state=42, shuffle=True\n",
    ")"
   ]
  },
  {
   "cell_type": "code",
   "execution_count": 109,
   "id": "864e1050",
   "metadata": {},
   "outputs": [],
   "source": [
    "mean_target = X_train.groupby(\"Sex\")[\"Survived\"].mean()\n",
    "X_train.loc[:, \"Sex\"] = X_train[\"Sex\"].replace(mean_target)\n",
    "X_test.loc[:, \"Sex\"] = X_test[\"Sex\"].replace(mean_target)\n",
    "\n",
    "mean_target_e = X_train.groupby(\"Embarked\")[\"Survived\"].mean()\n",
    "X_train.loc[:, \"Embarked\"] = X_train[\"Embarked\"].replace(mean_target_e)\n",
    "X_test.loc[:, \"Embarked\"] = X_test[\"Embarked\"].replace(mean_target_e)\n",
    "\n",
    "X_train.drop([\"Survived\"], axis=1, inplace=True)\n",
    "X_test.drop([\"Survived\"], axis=1, inplace=True)"
   ]
  },
  {
   "cell_type": "code",
   "execution_count": 110,
   "id": "0eb6b8c8",
   "metadata": {},
   "outputs": [
    {
     "name": "stdout",
     "output_type": "stream",
     "text": [
      "ROC AUC: 0.79\n"
     ]
    }
   ],
   "source": [
    "scaler = MinMaxScaler()\n",
    "X_train = scaler.fit_transform(X_train)\n",
    "X_test = scaler.transform(X_test)\n",
    "\n",
    "model = LogisticRegression(max_iter=300)\n",
    "model.fit(X_train, y_train)\n",
    "prediction = model.predict(X_test)\n",
    "print(f\"ROC AUC: {roc_auc_score(prediction, y_test):.2f}\")"
   ]
  },
  {
   "cell_type": "markdown",
   "id": "91a0aa8b",
   "metadata": {},
   "source": [
    "Кодирование признаков с помощью счетчиков приведённом выше может приводить к переобучению.\n",
    "\n",
    "Чтобы бороться с этим, можно экспериментировать с разными модификациями:\n",
    "\n",
    "1. Вычислять значение счётчика по всем объектам расположенным выше в датасете (например, если у нас выборка отсортирована по времени)\n",
    "2. Вычислять по фолдам, то есть делить выборку на некоторое количество частей и подсчитывать значение признаков по всем фолдам кроме текущего (как делается в кросс-валидации)\n",
    "3. Добавлять шум в посчитанные признаки"
   ]
  },
  {
   "cell_type": "markdown",
   "id": "bdf6702c",
   "metadata": {},
   "source": [
    "## 7. Полный пошаговый пайплайн работы с текстом\n",
    "\n",
    "Основой для этого раздела послужила одна из домашних работ, посвященная классификации текстов. Необходимо простроить модель классификации эмоциональной окраски твитов про коронавирус.\n",
    "\n",
    "Датасет англоязычный с твитами про короновирус и разметкой на эмоциональную окраску. \n",
    "\n",
    "Так как за основу взял одну из домашних работ, то я посчитал нужным оставлять и формулировки заданий, которые были поэтапно реализованы."
   ]
  },
  {
   "cell_type": "markdown",
   "id": "de7fcf4b",
   "metadata": {},
   "source": [
    "#### Шаг 0. Загрузка данных"
   ]
  },
  {
   "cell_type": "code",
   "execution_count": 92,
   "id": "49836cbc",
   "metadata": {},
   "outputs": [
    {
     "name": "stdout",
     "output_type": "stream",
     "text": [
      "Collecting seaborn\n",
      "  Downloading seaborn-0.13.2-py3-none-any.whl.metadata (5.4 kB)\n",
      "Requirement already satisfied: numpy!=1.24.0,>=1.20 in /Users/denisvisneveckii/Desktop/Ноутбуки для работы/iad-intro-ds/2025/venv/lib/python3.9/site-packages (from seaborn) (2.0.2)\n",
      "Requirement already satisfied: pandas>=1.2 in /Users/denisvisneveckii/Desktop/Ноутбуки для работы/iad-intro-ds/2025/venv/lib/python3.9/site-packages (from seaborn) (2.3.2)\n",
      "Requirement already satisfied: matplotlib!=3.6.1,>=3.4 in /Users/denisvisneveckii/Desktop/Ноутбуки для работы/iad-intro-ds/2025/venv/lib/python3.9/site-packages (from seaborn) (3.9.4)\n",
      "Requirement already satisfied: contourpy>=1.0.1 in /Users/denisvisneveckii/Desktop/Ноутбуки для работы/iad-intro-ds/2025/venv/lib/python3.9/site-packages (from matplotlib!=3.6.1,>=3.4->seaborn) (1.3.0)\n",
      "Requirement already satisfied: cycler>=0.10 in /Users/denisvisneveckii/Desktop/Ноутбуки для работы/iad-intro-ds/2025/venv/lib/python3.9/site-packages (from matplotlib!=3.6.1,>=3.4->seaborn) (0.12.1)\n",
      "Requirement already satisfied: fonttools>=4.22.0 in /Users/denisvisneveckii/Desktop/Ноутбуки для работы/iad-intro-ds/2025/venv/lib/python3.9/site-packages (from matplotlib!=3.6.1,>=3.4->seaborn) (4.59.1)\n",
      "Requirement already satisfied: kiwisolver>=1.3.1 in /Users/denisvisneveckii/Desktop/Ноутбуки для работы/iad-intro-ds/2025/venv/lib/python3.9/site-packages (from matplotlib!=3.6.1,>=3.4->seaborn) (1.4.7)\n",
      "Requirement already satisfied: packaging>=20.0 in /Users/denisvisneveckii/Desktop/Ноутбуки для работы/iad-intro-ds/2025/venv/lib/python3.9/site-packages (from matplotlib!=3.6.1,>=3.4->seaborn) (25.0)\n",
      "Requirement already satisfied: pillow>=8 in /Users/denisvisneveckii/Desktop/Ноутбуки для работы/iad-intro-ds/2025/venv/lib/python3.9/site-packages (from matplotlib!=3.6.1,>=3.4->seaborn) (11.3.0)\n",
      "Requirement already satisfied: pyparsing>=2.3.1 in /Users/denisvisneveckii/Desktop/Ноутбуки для работы/iad-intro-ds/2025/venv/lib/python3.9/site-packages (from matplotlib!=3.6.1,>=3.4->seaborn) (3.2.3)\n",
      "Requirement already satisfied: python-dateutil>=2.7 in /Users/denisvisneveckii/Desktop/Ноутбуки для работы/iad-intro-ds/2025/venv/lib/python3.9/site-packages (from matplotlib!=3.6.1,>=3.4->seaborn) (2.9.0.post0)\n",
      "Requirement already satisfied: importlib-resources>=3.2.0 in /Users/denisvisneveckii/Desktop/Ноутбуки для работы/iad-intro-ds/2025/venv/lib/python3.9/site-packages (from matplotlib!=3.6.1,>=3.4->seaborn) (6.5.2)\n",
      "Requirement already satisfied: zipp>=3.1.0 in /Users/denisvisneveckii/Desktop/Ноутбуки для работы/iad-intro-ds/2025/venv/lib/python3.9/site-packages (from importlib-resources>=3.2.0->matplotlib!=3.6.1,>=3.4->seaborn) (3.23.0)\n",
      "Requirement already satisfied: pytz>=2020.1 in /Users/denisvisneveckii/Desktop/Ноутбуки для работы/iad-intro-ds/2025/venv/lib/python3.9/site-packages (from pandas>=1.2->seaborn) (2025.2)\n",
      "Requirement already satisfied: tzdata>=2022.7 in /Users/denisvisneveckii/Desktop/Ноутбуки для работы/iad-intro-ds/2025/venv/lib/python3.9/site-packages (from pandas>=1.2->seaborn) (2025.2)\n",
      "Requirement already satisfied: six>=1.5 in /Users/denisvisneveckii/Desktop/Ноутбуки для работы/iad-intro-ds/2025/venv/lib/python3.9/site-packages (from python-dateutil>=2.7->matplotlib!=3.6.1,>=3.4->seaborn) (1.17.0)\n",
      "Downloading seaborn-0.13.2-py3-none-any.whl (294 kB)\n",
      "Installing collected packages: seaborn\n",
      "Successfully installed seaborn-0.13.2\n"
     ]
    }
   ],
   "source": [
    "!pip install seaborn"
   ]
  },
  {
   "cell_type": "code",
   "execution_count": 94,
   "id": "b9094625",
   "metadata": {},
   "outputs": [],
   "source": [
    "#Делаем необходимые импорты\n",
    "import numpy as np\n",
    "import pandas as pd\n",
    "from typing import  List\n",
    "import matplotlib.pyplot as plt\n",
    "import seaborn as sns\n",
    "from string import punctuation\n",
    "\n",
    "import warnings\n",
    "warnings.filterwarnings('ignore')"
   ]
  },
  {
   "cell_type": "code",
   "execution_count": 106,
   "id": "b72a16cd",
   "metadata": {},
   "outputs": [
    {
     "data": {
      "text/html": [
       "<div>\n",
       "<style scoped>\n",
       "    .dataframe tbody tr th:only-of-type {\n",
       "        vertical-align: middle;\n",
       "    }\n",
       "\n",
       "    .dataframe tbody tr th {\n",
       "        vertical-align: top;\n",
       "    }\n",
       "\n",
       "    .dataframe thead th {\n",
       "        text-align: right;\n",
       "    }\n",
       "</style>\n",
       "<table border=\"1\" class=\"dataframe\">\n",
       "  <thead>\n",
       "    <tr style=\"text-align: right;\">\n",
       "      <th></th>\n",
       "      <th>UserName</th>\n",
       "      <th>ScreenName</th>\n",
       "      <th>Location</th>\n",
       "      <th>TweetAt</th>\n",
       "      <th>OriginalTweet</th>\n",
       "      <th>Sentiment</th>\n",
       "    </tr>\n",
       "  </thead>\n",
       "  <tbody>\n",
       "    <tr>\n",
       "      <th>12991</th>\n",
       "      <td>19555</td>\n",
       "      <td>64507</td>\n",
       "      <td>England, United Kingdom</td>\n",
       "      <td>22-03-2020</td>\n",
       "      <td>Thing is - without formal rationing formalitie...</td>\n",
       "      <td>Negative</td>\n",
       "    </tr>\n",
       "    <tr>\n",
       "      <th>23070</th>\n",
       "      <td>31980</td>\n",
       "      <td>76932</td>\n",
       "      <td>NaN</td>\n",
       "      <td>04-04-2020</td>\n",
       "      <td>@fordnation So why are dairy farmers having to...</td>\n",
       "      <td>Negative</td>\n",
       "    </tr>\n",
       "    <tr>\n",
       "      <th>17963</th>\n",
       "      <td>25651</td>\n",
       "      <td>70603</td>\n",
       "      <td>Kuala Lumpur</td>\n",
       "      <td>25-03-2020</td>\n",
       "      <td>MovementControlOrder to extend until April 14....</td>\n",
       "      <td>Extremely Positive</td>\n",
       "    </tr>\n",
       "    <tr>\n",
       "      <th>28970</th>\n",
       "      <td>39339</td>\n",
       "      <td>84291</td>\n",
       "      <td>Jersey Shore</td>\n",
       "      <td>09-04-2020</td>\n",
       "      <td>Im not afraid of the grocery store.  But I was...</td>\n",
       "      <td>Negative</td>\n",
       "    </tr>\n",
       "  </tbody>\n",
       "</table>\n",
       "</div>"
      ],
      "text/plain": [
       "       UserName  ScreenName                 Location     TweetAt  \\\n",
       "12991     19555       64507  England, United Kingdom  22-03-2020   \n",
       "23070     31980       76932                      NaN  04-04-2020   \n",
       "17963     25651       70603             Kuala Lumpur  25-03-2020   \n",
       "28970     39339       84291             Jersey Shore  09-04-2020   \n",
       "\n",
       "                                           OriginalTweet           Sentiment  \n",
       "12991  Thing is - without formal rationing formalitie...            Negative  \n",
       "23070  @fordnation So why are dairy farmers having to...            Negative  \n",
       "17963  MovementControlOrder to extend until April 14....  Extremely Positive  \n",
       "28970  Im not afraid of the grocery store.  But I was...            Negative  "
      ]
     },
     "execution_count": 106,
     "metadata": {},
     "output_type": "execute_result"
    }
   ],
   "source": [
    "#Загрузка датасета\n",
    "df = pd.read_csv('tweets_coronavirus.csv', encoding='latin-1')\n",
    "df.sample(4)"
   ]
  },
  {
   "cell_type": "markdown",
   "id": "bbb25830",
   "metadata": {},
   "source": [
    "Для каждого твитта указано:\n",
    "\n",
    "\n",
    "*   UserName - имя пользователя, заменено на целое число для анонимности\n",
    "*   ScreenName - отображающееся имя пользователя, заменено на целое число для анонимности\n",
    "*   Location - местоположение\n",
    "*   TweetAt - дата создания твитта\n",
    "*   OriginalTweet - текст твитта\n",
    "*   Sentiment - эмоциональная окраска твитта (целевая переменная)"
   ]
  },
  {
   "cell_type": "markdown",
   "id": "17fe4208",
   "metadata": {},
   "source": [
    "#### Шаг 1. Подготовка\n",
    "\n",
    "Целевая переменная находится в колонке `Sentiment`.  Преобразуем ее таким образом, чтобы она стала бинарной: \n",
    "* 1 - если у твитта положительная или очень положительная эмоциональная окраска\n",
    "* 0 - если отрицательная или очень отрицательная."
   ]
  },
  {
   "cell_type": "code",
   "execution_count": 107,
   "id": "2e879627",
   "metadata": {},
   "outputs": [
    {
     "data": {
      "text/plain": [
       "Sentiment\n",
       "Positive              11422\n",
       "Negative               9917\n",
       "Extremely Positive     6624\n",
       "Extremely Negative     5481\n",
       "Name: count, dtype: int64"
      ]
     },
     "execution_count": 107,
     "metadata": {},
     "output_type": "execute_result"
    }
   ],
   "source": [
    "df['Sentiment'].value_counts()"
   ]
  },
  {
   "cell_type": "code",
   "execution_count": 108,
   "id": "9465d803",
   "metadata": {},
   "outputs": [],
   "source": [
    "# Ставим метку 1 у положительных твитов и 0 у негативных\n",
    "df['Sentiment_binary'] = df['Sentiment'].apply(\n",
    "    lambda x: 1 if x in ['Positive', 'Extremely Positive'] else 0 if x in ['Negative', 'Extremely Negative'] else None)\n",
    "\n",
    "df['Sentiment_binary'] = df['Sentiment_binary'].astype(int)"
   ]
  },
  {
   "cell_type": "code",
   "execution_count": 109,
   "id": "041fe2ca",
   "metadata": {},
   "outputs": [
    {
     "data": {
      "text/plain": [
       "Sentiment_binary\n",
       "1    18046\n",
       "0    15398\n",
       "Name: count, dtype: int64"
      ]
     },
     "execution_count": 109,
     "metadata": {},
     "output_type": "execute_result"
    }
   ],
   "source": [
    "df['Sentiment_binary'].value_counts()"
   ]
  },
  {
   "cell_type": "code",
   "execution_count": 110,
   "id": "ee02c952",
   "metadata": {},
   "outputs": [
    {
     "name": "stdout",
     "output_type": "stream",
     "text": [
      "Sentiment_binary\n",
      "1    53.958857\n",
      "0    46.041143\n",
      "Name: proportion, dtype: float64\n"
     ]
    }
   ],
   "source": [
    "print(df['Sentiment_binary'].value_counts(normalize=True)*100)"
   ]
  },
  {
   "cell_type": "markdown",
   "id": "2d77f34d",
   "metadata": {},
   "source": [
    "Видим что классы получились сбалансированными. % у каждого класса практически одинаковый.\n",
    "\n",
    "**PS.** для задач, связанных с методами машинного обучения, баланс классов может быть важен. При обычном анализе не всегда нужно как-то бороться с дисбалансом или обращать на это внимание, хотя это в любом случае помогает составить какое-то предстовление об датасете."
   ]
  },
  {
   "cell_type": "markdown",
   "id": "5b5ae68e",
   "metadata": {},
   "source": [
    "Посмотрим информацию о пропусках в данных. Если пропуски присутствуют заполним их строкой 'Unknown'."
   ]
  },
  {
   "cell_type": "code",
   "execution_count": 111,
   "id": "0dced36e",
   "metadata": {},
   "outputs": [
    {
     "name": "stdout",
     "output_type": "stream",
     "text": [
      "До заполнения пропусков:\n",
      " UserName               0\n",
      "ScreenName             0\n",
      "Location            7049\n",
      "TweetAt                0\n",
      "OriginalTweet          0\n",
      "Sentiment              0\n",
      "Sentiment_binary       0\n",
      "dtype: int64 \n",
      "\n",
      "После заполнения пропусков:\n",
      " UserName            0\n",
      "ScreenName          0\n",
      "Location            0\n",
      "TweetAt             0\n",
      "OriginalTweet       0\n",
      "Sentiment           0\n",
      "Sentiment_binary    0\n",
      "dtype: int64\n"
     ]
    }
   ],
   "source": [
    "print('До заполнения пропусков:\\n', \\\n",
    "      df.isnull().sum(), '\\n')\n",
    "df = df.fillna('Unknown')\n",
    "print('После заполнения пропусков:\\n', \\\n",
    "       df.isnull().sum())"
   ]
  },
  {
   "cell_type": "markdown",
   "id": "8ee337c7",
   "metadata": {},
   "source": [
    "Видим что пропуски были только в столбце `Location`"
   ]
  },
  {
   "cell_type": "markdown",
   "id": "e95e8ae0",
   "metadata": {},
   "source": [
    "Разделим данные на обучающую и тестовую выборки в соотношении 7 : 3 и для воспроизводимости результатов укажем `random_state=0`"
   ]
  },
  {
   "cell_type": "code",
   "execution_count": 116,
   "id": "166d6899",
   "metadata": {},
   "outputs": [
    {
     "name": "stdout",
     "output_type": "stream",
     "text": [
      "Размер исходного датасета 100.0%\n",
      "Размер обучающего датасета 69.998%\n",
      "Размер тестового датасета 30.002%\n"
     ]
    }
   ],
   "source": [
    "from sklearn.model_selection import train_test_split\n",
    "\n",
    "train, test =  train_test_split(\n",
    "    df, test_size=0.3, random_state=0 #задали размер тестовой выборки в 30% -> обучающая 70%\n",
    ")\n",
    "\n",
    "train.reset_index(inplace=True)\n",
    "test.reset_index(inplace=True)\n",
    "print('Размер исходного датасета', f'{(df.shape[0]/df.shape[0])*100 :.5}%')\n",
    "print('Размер обучающего датасета', f'{(train.shape[0]/df.shape[0])*100 :.5}%')\n",
    "print('Размер тестового датасета', f'{(test.shape[0]/df.shape[0])*100 :.5}%')"
   ]
  },
  {
   "cell_type": "markdown",
   "id": "8addca69",
   "metadata": {},
   "source": [
    "#### Шаг 2. Токенизация\n",
    "\n",
    "Построим словарь на основе обучающей выборки и посчитаем количество встреч каждого токена с использованием самой простой токенизации - деления текстов по пробельным символам и приведения токенов в нижний регистр."
   ]
  },
  {
   "cell_type": "code",
   "execution_count": 117,
   "id": "c56f8cc6",
   "metadata": {},
   "outputs": [
    {
     "name": "stdout",
     "output_type": "stream",
     "text": [
      "[('the', 26815), ('to', 23373), ('and', 14684), ('of', 13012), ('a', 11737), ('in', 11198), ('for', 8566), ('#coronavirus', 8223), ('is', 7383), ('are', 7050)]\n"
     ]
    }
   ],
   "source": [
    "from collections import Counter\n",
    "\n",
    "tokens = []\n",
    "for text in train['OriginalTweet']:\n",
    "    tokens.extend(word.lower() for word in text.split())\n",
    "\n",
    "token_counts = Counter(tokens)\n",
    "\n",
    "print(token_counts.most_common(10))"
   ]
  },
  {
   "cell_type": "code",
   "execution_count": null,
   "id": "dcf8b153",
   "metadata": {},
   "outputs": [
    {
     "name": "stdout",
     "output_type": "stream",
     "text": [
      "79755\n"
     ]
    }
   ],
   "source": [
    "#Размер словаря\n",
    "print(len(token_counts))"
   ]
  },
  {
   "cell_type": "code",
   "execution_count": 119,
   "id": "9e4751c8",
   "metadata": {},
   "outputs": [
    {
     "name": "stdout",
     "output_type": "stream",
     "text": [
      "the: 26815\n",
      "to: 23373\n",
      "and: 14684\n",
      "of: 13012\n",
      "a: 11737\n",
      "in: 11198\n",
      "for: 8566\n",
      "#coronavirus: 8223\n",
      "is: 7383\n",
      "are: 7050\n"
     ]
    }
   ],
   "source": [
    "#Топ 10 популярых токенов\n",
    "top10 = token_counts.most_common(10)\n",
    "for token, count in top10:\n",
    "    print(f\"{token}: {count}\")"
   ]
  },
  {
   "cell_type": "markdown",
   "id": "d127532c",
   "metadata": {},
   "source": [
    "При самой базовой токенизации на обучающей выборки мы получили словарь в 79755 токенов. Заметим что топ 10 наиболее часто встречающихся токенов в основном состоят из различных предлогов и служебных слов, которые не несут никакой конкретной смысловой нагрузки. \n",
    "\n",
    "Давайте удалим из получившегося словаря токенов стоп-слова и посмотрим снова на топ 10 токенов"
   ]
  },
  {
   "cell_type": "code",
   "execution_count": 120,
   "id": "f467ff40",
   "metadata": {},
   "outputs": [],
   "source": [
    "#Воспльзуемся списком английских стоп-слов из раздела 2\n",
    "eng_stop_words_list = ['a', 'about', 'above', 'after', 'again', 'against', 'ain', 'all', 'am', 'an', 'and', 'any', 'are', 'aren', \"aren't\", 'as',\n",
    "                        'at', 'be', 'because', 'been', 'before', 'being', 'below', 'between', 'both', 'but', 'by', 'can', 'couldn', \"couldn't\", 'd',\n",
    "                        'did', 'didn', \"didn't\", 'do', 'does', 'doesn', \"doesn't\", 'doing', 'don', \"don't\", 'down', 'during', 'each', 'few', 'for', \n",
    "                        'from', 'further', 'had', 'hadn', \"hadn't\", 'has', 'hasn', \"hasn't\", 'have', 'haven', \"haven't\", 'having', 'he', \"he'd\", \"he'll\",\n",
    "                        'her', 'here', 'hers', 'herself', \"he's\", 'him', 'himself', 'his', 'how', 'i', \"i'd\", 'if', \"i'll\", \"i'm\", 'in', 'into', 'is', \n",
    "                        'isn', \"isn't\", 'it', \"it'd\", \"it'll\", \"it's\", 'its', 'itself', \"i've\", 'just', 'll', 'm', 'ma', 'me', 'mightn', \"mightn't\", 'more',\n",
    "                        'most', 'mustn', \"mustn't\", 'my', 'myself', 'needn', \"needn't\", 'no', 'nor', 'not', 'now', 'o', 'of', 'off', 'on', 'once', 'only',\n",
    "                        'or', 'other', 'our', 'ours', 'ourselves', 'out', 'over', 'own', 're', 's', 'same', 'shan', \"shan't\", 'she', \"she'd\", \"she'll\", \n",
    "                        \"she's\", 'should', 'shouldn', \"shouldn't\", \"should've\", 'so', 'some', 'such', 't', 'than', 'that', \"that'll\", 'the', 'their', \n",
    "                        'theirs', 'them', 'themselves', 'then', 'there', 'these', 'they', \"they'd\", \"they'll\", \"they're\", \"they've\", 'this', 'those', \n",
    "                        'through', 'to', 'too', 'under', 'until', 'up', 've', 'very', 'was', 'wasn', \"wasn't\", 'we', \"we'd\", \"we'll\", \"we're\", 'were', \n",
    "                        'weren', \"weren't\", \"we've\", 'what', 'when', 'where', 'which', 'while', 'who', 'whom', 'why', 'will', 'with', 'won', \"won't\", \n",
    "                        'wouldn', \"wouldn't\", 'y', 'you', \"you'd\", \"you'll\", 'your', \"you're\", 'yours', 'yourself', 'yourselves', \"you've\"]"
   ]
  },
  {
   "cell_type": "code",
   "execution_count": 121,
   "id": "03dfb71c",
   "metadata": {},
   "outputs": [
    {
     "name": "stdout",
     "output_type": "stream",
     "text": [
      "#coronavirus: 8223\n",
      "prices: 3891\n",
      "food: 3820\n",
      "grocery: 3469\n",
      "supermarket: 3288\n",
      "people: 3175\n",
      "covid-19: 3173\n",
      "store: 3155\n",
      "#covid19: 2471\n",
      "&amp;: 2314\n"
     ]
    }
   ],
   "source": [
    "token_counts_no_stop = Counter({token: count for token, count in token_counts.items()\n",
    "                                if token not in eng_stop_words_list})\n",
    "\n",
    "top10_no_stop = token_counts_no_stop.most_common(10)\n",
    "for token, count in top10_no_stop:\n",
    "    print(f\"{token}: {count}\")"
   ]
  },
  {
   "cell_type": "markdown",
   "id": "0741913e",
   "metadata": {},
   "source": [
    "Видим что список топ токенов уже стал более менее чем-то осмысленном и уже можно сделать какой-то вывод о том, что большинство твитов затрагивали тематику продовольствия в время короновируса.\n",
    "\n",
    "Так же глянем на самые не популярные токены"
   ]
  },
  {
   "cell_type": "code",
   "execution_count": 122,
   "id": "d94a2333",
   "metadata": {},
   "outputs": [
    {
     "name": "stdout",
     "output_type": "stream",
     "text": [
      "https://t.co/7j2y3rsld9: 1\n",
      "@680news: 1\n",
      "@torontopearson: 1\n",
      "nothing...: 1\n",
      "flew: 1\n",
      "wage!: 1\n",
      "renewing: 1\n",
      "playersãâ: 1\n",
      "subsidise: 1\n",
      "non-playing: 1\n",
      "premiership: 1\n",
      "https://t.co/iaek4fwsgz: 1\n",
      "@srinivasiyc: 1\n",
      "https://t.co/zjcl195vqs: 1\n",
      "#southkerry: 1\n",
      "#skelligcoast2kms: 1\n",
      "@skelligsix18: 1\n",
      "closer!): 1\n",
      "coast!: 1\n",
      "skellig: 1\n"
     ]
    }
   ],
   "source": [
    "least_common_20 = token_counts_no_stop.most_common()[::-1][:20]\n",
    "for token, count in least_common_20:\n",
    "    print(f\"{token}: {count}\")"
   ]
  },
  {
   "cell_type": "markdown",
   "id": "1e2afa95",
   "metadata": {},
   "source": [
    "Эти токены соержат странные символы, а так же знаки препинания и служебные символы. Да, кажется что было бы неплохо очистить токены от лишних символов"
   ]
  },
  {
   "cell_type": "markdown",
   "id": "109aaf38",
   "metadata": {},
   "source": [
    "Теперь воспользуемся токенайзером получше - который мы написали в разделе 1, добавим в него так же паттерн для распознания хэштегов и имен вида @name, которые не являются email-ами. Применим его и посмотрим на топ-10 популярных слов."
   ]
  },
  {
   "cell_type": "code",
   "execution_count": 168,
   "id": "bc908320",
   "metadata": {},
   "outputs": [],
   "source": [
    "def tokenize_advanced(text):\n",
    "    pattern = ( \n",
    "    \"(?:@[a-zA-Zа-яА-ЯёЁ0-9\\w]+)|\" # @name\n",
    "    r\"(?:#[a-zA-Zа-яА-ЯёЁ0-9\\w]+)|\" # хэштег\n",
    "    r\"(?:https?://\\S+)|\"       # URL\n",
    "    r\"(?:\\w+@\\w+\\.\\w+)|\"       # Email\n",
    "    r\"(?:\\d{1,3}(?:[.,]\\d{3})*(?:[.,]\\d+)?)|\"  # числа\n",
    "    r\"(?:[a-zA-Zа-яА-ЯёЁ0-9]+(?:[-'][a-zA-Zа-яА-ЯёЁ0-9]+)*)|\"\n",
    "    r\"(?:[\\U0001F600-\\U0001F64F])|\"    # эмодзи из диапазона Unicode\n",
    "    r\"[^\\w\\s]\"                      # знаки препинания\n",
    ")\n",
    "    \n",
    "    return re.findall(pattern, text, re.UNICODE)"
   ]
  },
  {
   "cell_type": "code",
   "execution_count": 169,
   "id": "3c1bfca8",
   "metadata": {},
   "outputs": [
    {
     "name": "stdout",
     "output_type": "stream",
     "text": [
      ".: 31045\n",
      "the: 27023\n",
      "to: 23486\n",
      ",: 17561\n",
      "and: 14834\n",
      "of: 13049\n",
      "a: 11897\n",
      "in: 11355\n",
      "?: 11005\n",
      "#coronavirus: 8835\n"
     ]
    }
   ],
   "source": [
    "tokenizer_2 = tokenize_advanced\n",
    "\n",
    "all_tokens = []\n",
    "for text in train['OriginalTweet']:\n",
    "    tokens = tokenizer_2(text.lower())\n",
    "    tokens = [token for token in tokens]\n",
    "    all_tokens.extend(tokens)\n",
    "\n",
    "token_counts_tt = Counter(all_tokens)\n",
    "top10_tt = token_counts_tt.most_common(10)\n",
    "for token, count in top10_tt:\n",
    "    print(f\"{token}: {count}\")"
   ]
  },
  {
   "cell_type": "markdown",
   "id": "c8b05bce",
   "metadata": {},
   "source": [
    "Так же очистим эти токены от стоп-слов и знаков пунктуации"
   ]
  },
  {
   "cell_type": "code",
   "execution_count": 170,
   "id": "6ca3f88d",
   "metadata": {},
   "outputs": [
    {
     "name": "stdout",
     "output_type": "stream",
     "text": [
      "#coronavirus: 8835\n",
      ": 7311\n",
      "prices: 4618\n",
      "covid-19: 4388\n",
      "food: 4374\n",
      ": 4372\n",
      "store: 3886\n",
      "supermarket: 3820\n",
      "grocery: 3523\n",
      "people: 3501\n"
     ]
    }
   ],
   "source": [
    "punct = set(punctuation)\n",
    "\n",
    "all_tokens = []\n",
    "for text in train['OriginalTweet']:\n",
    "    tokens = tokenizer_2(text.lower())\n",
    "    tokens = [token for token in tokens if token not in eng_stop_words_list and token not in punct]\n",
    "    all_tokens.extend(tokens)\n",
    "\n",
    "counter = Counter(all_tokens)\n",
    "top10 = counter.most_common(10)\n",
    "\n",
    "for word, cnt in top10:\n",
    "    print(f\"{word}: {cnt}\")"
   ]
  },
  {
   "cell_type": "markdown",
   "id": "ce1c924e",
   "metadata": {},
   "source": [
    "Стало лучше, но все равно остались некоторые странные символы.\n",
    "\n",
    "Скорее всего в некоторых топах были неотображаемые символы или отдельные буквы не латинского алфавита. Уберем их: удалим из словаря токены из одного символа, позиция которого в таблице Unicode 128 и более (`ord(x) >= 128`)\n",
    "\n",
    "Выведем топ-10 самых популярных и топ-20 непопулярных слов."
   ]
  },
  {
   "cell_type": "code",
   "execution_count": 171,
   "id": "7ac3b5a0",
   "metadata": {},
   "outputs": [],
   "source": [
    "def is_good_token(token):\n",
    "    if token in eng_stop_words_list or token in punct:\n",
    "        return False\n",
    "    if len(token) == 1 and ord(token) >= 128:\n",
    "        return False\n",
    "    return True\n",
    "\n",
    "punct = set(punctuation)\n",
    "\n",
    "all_tokens = []\n",
    "for text in train['OriginalTweet']:\n",
    "    tokens = tokenizer_2(text.lower())\n",
    "    tokens = [token for token in tokens if is_good_token(token)]\n",
    "    all_tokens.extend(tokens)\n",
    "\n",
    "counter = Counter(all_tokens)\n",
    "top10 = counter.most_common(10)\n",
    "bottom20 = counter.most_common()[-20:]"
   ]
  },
  {
   "cell_type": "code",
   "execution_count": 172,
   "id": "12c298b0",
   "metadata": {},
   "outputs": [
    {
     "name": "stdout",
     "output_type": "stream",
     "text": [
      "Топ 10 самых популярных слов:\n",
      "#coronavirus: 8835\n",
      "prices: 4618\n",
      "covid-19: 4388\n",
      "food: 4374\n",
      "store: 3886\n",
      "supermarket: 3820\n",
      "grocery: 3523\n",
      "people: 3501\n",
      "amp: 3342\n",
      "19: 2995\n"
     ]
    }
   ],
   "source": [
    "print('Топ 10 самых популярных слов:')\n",
    "for word, cnt in top10:\n",
    "    print(f\"{word}: {cnt}\")"
   ]
  },
  {
   "cell_type": "code",
   "execution_count": 173,
   "id": "54ef279d",
   "metadata": {},
   "outputs": [
    {
     "name": "stdout",
     "output_type": "stream",
     "text": [
      "Топ20 наименее популярных слов:\n",
      "https://t.co/2s1aljdwdd: 1\n",
      "https://t.co/pd6ual9yfi: 1\n",
      "https://t.co/lw1r0rm7xs: 1\n",
      "https://t.co/5cbliqzx7l: 1\n",
      "milion: 1\n",
      "skellig: 1\n",
      "@skelligsix18: 1\n",
      "#skelligcoast2kms: 1\n",
      "#southkerry: 1\n",
      "https://t.co/zjcl195vqs: 1\n",
      "@srinivasiyc: 1\n",
      "https://t.co/iaek4fwsgz: 1\n",
      "premiership: 1\n",
      "non-playing: 1\n",
      "subsidise: 1\n",
      "renewing: 1\n",
      "flew: 1\n",
      "@torontopearson: 1\n",
      "@680news: 1\n",
      "https://t.co/7j2y3rsld9: 1\n"
     ]
    }
   ],
   "source": [
    "print('Топ20 наименее популярных слов:')\n",
    "for word, cnt in bottom20:\n",
    "    print(f\"{word}: {cnt}\")"
   ]
  },
  {
   "cell_type": "markdown",
   "id": "a32e4fd2",
   "metadata": {},
   "source": [
    "Топ слов выглядит уже более менее чисто и прилично, однако знаки @, # и ссылки кажется что тоже стоит очищать\n",
    "\n",
    "Посомтрим на топ-10 хэштегов"
   ]
  },
  {
   "cell_type": "code",
   "execution_count": 174,
   "id": "f52b1ca2",
   "metadata": {},
   "outputs": [
    {
     "data": {
      "text/plain": [
       "[('#coronavirus', 8835),\n",
       " ('#covid19', 2593),\n",
       " ('#covid_19', 1735),\n",
       " ('#covid2019', 946),\n",
       " ('#covid', 863),\n",
       " ('#toiletpaper', 744),\n",
       " ('#socialdistancing', 465),\n",
       " ('#coronacrisis', 448),\n",
       " ('#pandemic', 257),\n",
       " ('#coronaviruspandemic', 249)]"
      ]
     },
     "execution_count": 174,
     "metadata": {},
     "output_type": "execute_result"
    }
   ],
   "source": [
    "hashtags = [token for token in all_tokens if token.startswith(\"#\")]\n",
    "hashtag_counter = Counter(hashtags)\n",
    "top10_hashtags = hashtag_counter.most_common(10)\n",
    "\n",
    "top10_hashtags"
   ]
  },
  {
   "cell_type": "markdown",
   "id": "ba59776c",
   "metadata": {},
   "source": [
    "8 из 10 хештегов относится к теме коронавируса, одна все они записаны по разному, без единой стандартизации"
   ]
  },
  {
   "cell_type": "markdown",
   "id": "e59a812a",
   "metadata": {},
   "source": [
    "Используем опыт предыдущих экспериментов и напишем собственный токенайзер, улучшив tokenize_advanced. Функция tokenize должна:\n",
    "\n",
    "*   Привести текст в нижний регистр\n",
    "*   Применить tokenize_advanced для  выделения токенов\n",
    "*   Удалить стоп-слова, пунктуацию, токены из одного символа с позицией в таблице Unicode 128 и более,  ссылки на t.co"
   ]
  },
  {
   "cell_type": "code",
   "execution_count": 175,
   "id": "3180bb08",
   "metadata": {},
   "outputs": [],
   "source": [
    "def custom_tokenizer(text, punct=punctuation, stop_words=eng_stop_words_list):\n",
    "\n",
    "    text = text.lower()\n",
    "\n",
    "    tokenizer = tokenize_advanced\n",
    "    tokens = tokenizer(text)\n",
    "\n",
    "    filtered_tokens = []\n",
    "    for token in tokens:\n",
    "        if token in stop_words:\n",
    "            continue\n",
    "\n",
    "        if all(char in punctuation for char in token):\n",
    "            continue\n",
    "\n",
    "        if len(token) == 1 and ord(token) >= 128:\n",
    "            continue\n",
    "\n",
    "        if token.startswith('https://t.co'):\n",
    "            continue\n",
    "        filtered_tokens.append(token)\n",
    "\n",
    "    return filtered_tokens\n"
   ]
  },
  {
   "cell_type": "code",
   "execution_count": 176,
   "id": "b1b1cb68",
   "metadata": {},
   "outputs": [
    {
     "data": {
      "text/plain": [
       "['sample', 'text', '@sample_text', '#sampletext']"
      ]
     },
     "execution_count": 176,
     "metadata": {},
     "output_type": "execute_result"
    }
   ],
   "source": [
    "custom_tokenizer('This is sample text!!!! @Sample_text I, \\x92\\x92 https://t.co/sample  #sampletext')"
   ]
  },
  {
   "cell_type": "markdown",
   "id": "9ed2eeef",
   "metadata": {},
   "source": [
    "#### Шаг 3. Векторизация текстов\n",
    "\n",
    "Обучим CountVectorizer с использованием custom_tokenizer в качестве токенайзера"
   ]
  },
  {
   "cell_type": "code",
   "execution_count": 177,
   "id": "e21e8998",
   "metadata": {},
   "outputs": [
    {
     "name": "stdout",
     "output_type": "stream",
     "text": [
      "43537\n"
     ]
    }
   ],
   "source": [
    "from sklearn.feature_extraction.text import CountVectorizer\n",
    "\n",
    "cv = CountVectorizer(tokenizer=custom_tokenizer)\n",
    "\n",
    "cv.fit_transform(train['OriginalTweet'])\n",
    "\n",
    "print(len(cv.vocabulary_))"
   ]
  },
  {
   "cell_type": "markdown",
   "id": "fe2f83d6",
   "metadata": {},
   "source": [
    "Размер словаря примерно в 2 раза меньше чем тот, что получался у нас при токенезации с помощью  split"
   ]
  },
  {
   "cell_type": "markdown",
   "id": "61a85101",
   "metadata": {},
   "source": [
    "Посмотрим на какой-ннибудь конкретный твит"
   ]
  },
  {
   "cell_type": "code",
   "execution_count": 178,
   "id": "4aef5b3e",
   "metadata": {},
   "outputs": [
    {
     "data": {
      "text/plain": [
       "('Nice one @SkyNews lets not panic but show ppl in france queueing for food!!! #CoronavirusOutbreak #COVID2019 brainless!! Ffs',\n",
       " 'Negative')"
      ]
     },
     "execution_count": 178,
     "metadata": {},
     "output_type": "execute_result"
    }
   ],
   "source": [
    "ind = 9023\n",
    "train.iloc[ind]['OriginalTweet'], train.iloc[ind]['Sentiment']"
   ]
  },
  {
   "cell_type": "markdown",
   "id": "0463d055",
   "metadata": {},
   "source": [
    "Автор твитта не доволен ситуацией с едой во Франции и текст имеет резко негативную окраску.\n",
    "\n",
    "Применим обученный CountVectorizer для векторизации данного текста, и попытаемся определить самый важный токен и самый неважный токен (токен, компонента которого в векторе максимальна/минимальна, без учета 0)."
   ]
  },
  {
   "cell_type": "code",
   "execution_count": 179,
   "id": "d3570161",
   "metadata": {},
   "outputs": [
    {
     "name": "stdout",
     "output_type": "stream",
     "text": [
      "Самый важный токен (встречается чаще всего): #coronavirusoutbreak\n",
      "Самый неважный токен (встречается только 1 раз): #coronavirusoutbreak\n"
     ]
    }
   ],
   "source": [
    "vec = cv.transform([train.iloc[ind]['OriginalTweet']])\n",
    "vec_array = vec.toarray()[0]\n",
    "nonzero = np.where(vec_array > 0)[0]\n",
    "max_idx = nonzero[np.argmax(vec_array[nonzero])]\n",
    "min_idx = nonzero[np.argmin(vec_array[nonzero])]\n",
    "\n",
    "reverse_vocab = {v: k for k, v in cv.vocabulary_.items()}\n",
    "most_important_token = reverse_vocab[max_idx]\n",
    "least_important_token = reverse_vocab[min_idx]\n",
    "\n",
    "print(\"Самый важный токен (встречается чаще всего):\", most_important_token)\n",
    "print(\"Самый неважный токен (встречается только 1 раз):\", least_important_token)"
   ]
  },
  {
   "cell_type": "markdown",
   "id": "71640deb",
   "metadata": {},
   "source": [
    "Самый важный токен и неважный оказались одинаковыми. Кажется что смотреть количество вхождений слова в текст - не самый надежный фактор важности.\n",
    "\n",
    "Посмотрим как спрпавится TfidfVectorizer."
   ]
  },
  {
   "cell_type": "code",
   "execution_count": 180,
   "id": "f46b7860",
   "metadata": {},
   "outputs": [
    {
     "name": "stdout",
     "output_type": "stream",
     "text": [
      "Самый важный токен TF-IDF: brainless\n",
      "Самый неважный токен TF: food\n"
     ]
    }
   ],
   "source": [
    "from sklearn.feature_extraction.text import TfidfVectorizer\n",
    "\n",
    "tfidf = TfidfVectorizer(tokenizer=custom_tokenizer)\n",
    "\n",
    "tfidf.fit(train['OriginalTweet'])\n",
    "tfidf_vec = tfidf.transform([train.iloc[ind]['OriginalTweet']])\n",
    "tfidf_arr = tfidf_vec.toarray()[0]\n",
    "\n",
    "nonzero = np.where(tfidf_arr > 0)[0]\n",
    "max_idx = nonzero[np.argmax(tfidf_arr[nonzero])]\n",
    "min_idx = nonzero[np.argmin(tfidf_arr[nonzero])]\n",
    "\n",
    "reverse_vocab = {v: k for k, v in tfidf.vocabulary_.items()}\n",
    "most_important_token = reverse_vocab[max_idx]\n",
    "least_important_token = reverse_vocab[min_idx]\n",
    "\n",
    "print(f'Самый важный токен TF-IDF: {most_important_token}')\n",
    "print(f'Самый неважный токен TF: {least_important_token}')"
   ]
  },
  {
   "cell_type": "markdown",
   "id": "9249a427",
   "metadata": {},
   "source": [
    "Тут уже слова определяются лучше. Так как ориентируемся не только на количество попадания слова в данный текст, но и во все текста из обучающего датасета"
   ]
  },
  {
   "cell_type": "markdown",
   "id": "61d43ee9",
   "metadata": {},
   "source": [
    "Найдем какой-нибудь положительно окрашенный твитт, где TfidfVectorizer хорошо (полезно для определения окраски) выделяет важный токен.\n",
    "\n",
    "*Подсказка:* явно положительные твитты можно искать при помощи положительных слов (good, great, amazing и т. д.)"
   ]
  },
  {
   "cell_type": "code",
   "execution_count": 181,
   "id": "70ccc6cc",
   "metadata": {},
   "outputs": [
    {
     "data": {
      "text/html": [
       "<div>\n",
       "<style scoped>\n",
       "    .dataframe tbody tr th:only-of-type {\n",
       "        vertical-align: middle;\n",
       "    }\n",
       "\n",
       "    .dataframe tbody tr th {\n",
       "        vertical-align: top;\n",
       "    }\n",
       "\n",
       "    .dataframe thead th {\n",
       "        text-align: right;\n",
       "    }\n",
       "</style>\n",
       "<table border=\"1\" class=\"dataframe\">\n",
       "  <thead>\n",
       "    <tr style=\"text-align: right;\">\n",
       "      <th></th>\n",
       "      <th>index</th>\n",
       "      <th>UserName</th>\n",
       "      <th>ScreenName</th>\n",
       "      <th>Location</th>\n",
       "      <th>TweetAt</th>\n",
       "      <th>OriginalTweet</th>\n",
       "      <th>Sentiment</th>\n",
       "      <th>Sentiment_binary</th>\n",
       "    </tr>\n",
       "  </thead>\n",
       "  <tbody>\n",
       "    <tr>\n",
       "      <th>2</th>\n",
       "      <td>28899</td>\n",
       "      <td>39249</td>\n",
       "      <td>84201</td>\n",
       "      <td>India</td>\n",
       "      <td>09-04-2020</td>\n",
       "      <td>@Canon_India I am very happy.. Great job by @C...</td>\n",
       "      <td>Extremely Positive</td>\n",
       "      <td>1</td>\n",
       "    </tr>\n",
       "    <tr>\n",
       "      <th>764</th>\n",
       "      <td>24206</td>\n",
       "      <td>33394</td>\n",
       "      <td>78346</td>\n",
       "      <td>Hanau, Deutschland</td>\n",
       "      <td>05-04-2020</td>\n",
       "      <td>Lately been happy with the crispr cas9 thing t...</td>\n",
       "      <td>Positive</td>\n",
       "      <td>1</td>\n",
       "    </tr>\n",
       "    <tr>\n",
       "      <th>2484</th>\n",
       "      <td>25561</td>\n",
       "      <td>35102</td>\n",
       "      <td>80054</td>\n",
       "      <td>United Kingdom</td>\n",
       "      <td>06-04-2020</td>\n",
       "      <td>@Kal_Ajimal Hi Kal, if you have a booking and ...</td>\n",
       "      <td>Extremely Positive</td>\n",
       "      <td>1</td>\n",
       "    </tr>\n",
       "    <tr>\n",
       "      <th>3089</th>\n",
       "      <td>25085</td>\n",
       "      <td>34517</td>\n",
       "      <td>79469</td>\n",
       "      <td>United States</td>\n",
       "      <td>06-04-2020</td>\n",
       "      <td>Are u up for the challenge? LetÃÂs do this. ...</td>\n",
       "      <td>Positive</td>\n",
       "      <td>1</td>\n",
       "    </tr>\n",
       "    <tr>\n",
       "      <th>3106</th>\n",
       "      <td>31956</td>\n",
       "      <td>43106</td>\n",
       "      <td>88058</td>\n",
       "      <td>Oconto Falls, WI</td>\n",
       "      <td>12-04-2020</td>\n",
       "      <td>Got this sticker with my @ZaturalHemp order of...</td>\n",
       "      <td>Extremely Positive</td>\n",
       "      <td>1</td>\n",
       "    </tr>\n",
       "    <tr>\n",
       "      <th>...</th>\n",
       "      <td>...</td>\n",
       "      <td>...</td>\n",
       "      <td>...</td>\n",
       "      <td>...</td>\n",
       "      <td>...</td>\n",
       "      <td>...</td>\n",
       "      <td>...</td>\n",
       "      <td>...</td>\n",
       "    </tr>\n",
       "    <tr>\n",
       "      <th>22132</th>\n",
       "      <td>12629</td>\n",
       "      <td>19108</td>\n",
       "      <td>64060</td>\n",
       "      <td>Unknown</td>\n",
       "      <td>22-03-2020</td>\n",
       "      <td>So many clients happy they can go basically bu...</td>\n",
       "      <td>Extremely Positive</td>\n",
       "      <td>1</td>\n",
       "    </tr>\n",
       "    <tr>\n",
       "      <th>22799</th>\n",
       "      <td>29459</td>\n",
       "      <td>39962</td>\n",
       "      <td>84914</td>\n",
       "      <td>Shenzhen</td>\n",
       "      <td>09-04-2020</td>\n",
       "      <td>#covid19 #coronavirus  prevention 75% Alcohol ...</td>\n",
       "      <td>Extremely Positive</td>\n",
       "      <td>1</td>\n",
       "    </tr>\n",
       "    <tr>\n",
       "      <th>22858</th>\n",
       "      <td>31311</td>\n",
       "      <td>42319</td>\n",
       "      <td>87271</td>\n",
       "      <td>USA</td>\n",
       "      <td>11-04-2020</td>\n",
       "      <td>We are happy to announce that SwabTek has part...</td>\n",
       "      <td>Extremely Positive</td>\n",
       "      <td>1</td>\n",
       "    </tr>\n",
       "    <tr>\n",
       "      <th>23201</th>\n",
       "      <td>16363</td>\n",
       "      <td>23724</td>\n",
       "      <td>68676</td>\n",
       "      <td>Phoenix, AZ</td>\n",
       "      <td>24-03-2020</td>\n",
       "      <td>We have made every effort to stay prepared! Ch...</td>\n",
       "      <td>Extremely Positive</td>\n",
       "      <td>1</td>\n",
       "    </tr>\n",
       "    <tr>\n",
       "      <th>23241</th>\n",
       "      <td>11042</td>\n",
       "      <td>17199</td>\n",
       "      <td>62151</td>\n",
       "      <td>Barcelona, Spain</td>\n",
       "      <td>21-03-2020</td>\n",
       "      <td>I cannot even see the supermarket door and IÃ...</td>\n",
       "      <td>Extremely Positive</td>\n",
       "      <td>1</td>\n",
       "    </tr>\n",
       "  </tbody>\n",
       "</table>\n",
       "<p>64 rows × 8 columns</p>\n",
       "</div>"
      ],
      "text/plain": [
       "       index  UserName  ScreenName            Location     TweetAt  \\\n",
       "2      28899     39249       84201               India  09-04-2020   \n",
       "764    24206     33394       78346  Hanau, Deutschland  05-04-2020   \n",
       "2484   25561     35102       80054      United Kingdom  06-04-2020   \n",
       "3089   25085     34517       79469       United States  06-04-2020   \n",
       "3106   31956     43106       88058    Oconto Falls, WI  12-04-2020   \n",
       "...      ...       ...         ...                 ...         ...   \n",
       "22132  12629     19108       64060             Unknown  22-03-2020   \n",
       "22799  29459     39962       84914            Shenzhen  09-04-2020   \n",
       "22858  31311     42319       87271                 USA  11-04-2020   \n",
       "23201  16363     23724       68676         Phoenix, AZ  24-03-2020   \n",
       "23241  11042     17199       62151    Barcelona, Spain  21-03-2020   \n",
       "\n",
       "                                           OriginalTweet           Sentiment  \\\n",
       "2      @Canon_India I am very happy.. Great job by @C...  Extremely Positive   \n",
       "764    Lately been happy with the crispr cas9 thing t...            Positive   \n",
       "2484   @Kal_Ajimal Hi Kal, if you have a booking and ...  Extremely Positive   \n",
       "3089   Are u up for the challenge? LetÃÂs do this. ...            Positive   \n",
       "3106   Got this sticker with my @ZaturalHemp order of...  Extremely Positive   \n",
       "...                                                  ...                 ...   \n",
       "22132  So many clients happy they can go basically bu...  Extremely Positive   \n",
       "22799  #covid19 #coronavirus  prevention 75% Alcohol ...  Extremely Positive   \n",
       "22858  We are happy to announce that SwabTek has part...  Extremely Positive   \n",
       "23201  We have made every effort to stay prepared! Ch...  Extremely Positive   \n",
       "23241  I cannot even see the supermarket door and IÃ...  Extremely Positive   \n",
       "\n",
       "       Sentiment_binary  \n",
       "2                     1  \n",
       "764                   1  \n",
       "2484                  1  \n",
       "3089                  1  \n",
       "3106                  1  \n",
       "...                 ...  \n",
       "22132                 1  \n",
       "22799                 1  \n",
       "22858                 1  \n",
       "23201                 1  \n",
       "23241                 1  \n",
       "\n",
       "[64 rows x 8 columns]"
      ]
     },
     "execution_count": 181,
     "metadata": {},
     "output_type": "execute_result"
    }
   ],
   "source": [
    "train[train['OriginalTweet'].apply(lambda x: 'happy' in x) & (train['Sentiment_binary'] == 1)]"
   ]
  },
  {
   "cell_type": "code",
   "execution_count": 182,
   "id": "a37a03d8",
   "metadata": {},
   "outputs": [
    {
     "data": {
      "text/plain": [
       "'I cannot even see the supermarket door and IÃ\\x82Â\\x92m happy for it. I couldnÃ\\x82Â\\x92t imagine that 3 weeks ago, how the things change... How this #Covid_19 is going to change the society I donÃ\\x82Â\\x92t know, but I beleive weÃ\\x82Â\\x92ll be better human beings ? https://t.co/DyWjgfngut'"
      ]
     },
     "execution_count": 182,
     "metadata": {},
     "output_type": "execute_result"
    }
   ],
   "source": [
    "train.iloc[23241]['OriginalTweet']"
   ]
  },
  {
   "cell_type": "code",
   "execution_count": 183,
   "id": "741d6a6e",
   "metadata": {},
   "outputs": [
    {
     "name": "stdout",
     "output_type": "stream",
     "text": [
      "Самый важный токен TF-IDF: change\n",
      "Самый неважный токен TF: supermarket\n"
     ]
    }
   ],
   "source": [
    "tfidf_vec = tfidf.transform([train.iloc[23241]['OriginalTweet']])\n",
    "tfidf_arr = tfidf_vec.toarray()[0]\n",
    "\n",
    "nonzero = np.where(tfidf_arr > 0)[0]\n",
    "max_idx = nonzero[np.argmax(tfidf_arr[nonzero])]\n",
    "min_idx = nonzero[np.argmin(tfidf_arr[nonzero])]\n",
    "\n",
    "reverse_vocab = {v: k for k, v in tfidf.vocabulary_.items()}\n",
    "most_important_token = reverse_vocab[max_idx]\n",
    "least_important_token = reverse_vocab[min_idx]\n",
    "\n",
    "print(f'Самый важный токен TF-IDF: {most_important_token}')\n",
    "print(f'Самый неважный токен TF: {least_important_token}')"
   ]
  },
  {
   "cell_type": "markdown",
   "id": "2b07d37a",
   "metadata": {},
   "source": [
    "Человек рассуждает об тех изменениях, что ковид превнес в нашу жизнь... то что он смотрит на дверь супермаркета - действительно кажется не основной частью текста)\n",
    "\n",
    "Кажется что TD-IDF неплохо справляется с определением важности токенов"
   ]
  },
  {
   "cell_type": "markdown",
   "id": "3b920017",
   "metadata": {},
   "source": [
    "#### Шаг 4. Обучение первых моделей\n",
    "\n",
    "Применим оба векторайзера для получения матриц с признаками текстов. Выделим целевую переменную."
   ]
  },
  {
   "cell_type": "code",
   "execution_count": 184,
   "id": "495a72fe",
   "metadata": {},
   "outputs": [],
   "source": [
    "vec_train = cv.fit_transform(train['OriginalTweet'])\n",
    "vec_test = cv.transform(test['OriginalTweet'])\n",
    "\n",
    "tfidf_vec_train = tfidf.fit_transform(train['OriginalTweet'])\n",
    "tfidf_vec_test = tfidf.transform(test['OriginalTweet'])\n",
    "\n",
    "target = ['Sentiment_binary']"
   ]
  },
  {
   "cell_type": "markdown",
   "id": "60faa3ba",
   "metadata": {},
   "source": [
    "Обучим логистическую регрессию на векторах из обоих векторайзеров. Посчитаем долю правильных ответов на обучающих и тестовых данных.\n",
    "\n",
    "Будем используйте `sparse` матрицы (после векторизации), не превращая их в `numpy.ndarray` или `pd.DataFrame` - может не хватить памяти."
   ]
  },
  {
   "cell_type": "code",
   "execution_count": 190,
   "id": "36627393",
   "metadata": {},
   "outputs": [
    {
     "name": "stdout",
     "output_type": "stream",
     "text": [
      "Векторизация с помощью Bag-of-words\n",
      "               precision    recall  f1-score   support\n",
      "\n",
      "           0       0.86      0.85      0.86      4552\n",
      "           1       0.88      0.89      0.88      5482\n",
      "\n",
      "    accuracy                           0.87     10034\n",
      "   macro avg       0.87      0.87      0.87     10034\n",
      "weighted avg       0.87      0.87      0.87     10034\n",
      "\n",
      "\n",
      "\n",
      "Векторизация с помощью TF-IDF\n",
      "               precision    recall  f1-score   support\n",
      "\n",
      "           0       0.85      0.82      0.84      4552\n",
      "           1       0.85      0.88      0.87      5482\n",
      "\n",
      "    accuracy                           0.85     10034\n",
      "   macro avg       0.85      0.85      0.85     10034\n",
      "weighted avg       0.85      0.85      0.85     10034\n",
      "\n"
     ]
    }
   ],
   "source": [
    "from sklearn.linear_model import LogisticRegression\n",
    "from sklearn.metrics import accuracy_score\n",
    "\n",
    "lr_1 = LogisticRegression(random_state=42, solver='liblinear', multi_class='ovr')\n",
    "\n",
    "lr_1.fit(vec_train, train[target])\n",
    "train_pred_count = lr_1.predict(vec_train)\n",
    "test_pred_count = lr_1.predict(vec_test)\n",
    "acc_train_count = accuracy_score(train[target], train_pred_count)\n",
    "acc_test_count = accuracy_score(test[target], test_pred_count)\n",
    "print('Векторизация с помощью Bag-of-words\\n', classification_report(test[target], test_pred_count))\n",
    "\n",
    "print('\\n')\n",
    "\n",
    "lr_2 = LogisticRegression(random_state=42, solver='liblinear', multi_class='ovr')\n",
    "lr_2.fit(tfidf_vec_train, train[target])\n",
    "train_pred_tfidf = lr_2.predict(tfidf_vec_train)\n",
    "test_pred_tfidf = lr_2.predict(tfidf_vec_test)\n",
    "acc_train_tfidf = accuracy_score(train[target], train_pred_tfidf)\n",
    "acc_test_tfidf = accuracy_score(test[target], test_pred_tfidf)\n",
    "print('Векторизация с помощью TF-IDF\\n', classification_report(test[target], test_pred_tfidf))"
   ]
  },
  {
   "cell_type": "markdown",
   "id": "66458f72",
   "metadata": {},
   "source": [
    "Кажется `CountVectorizer` показал себя немного лучше на тестовой выборке, чем `TFIDFVectorizer`.\n",
    "\n",
    "Посмотрим так же на качество на обучающей выборке."
   ]
  },
  {
   "cell_type": "code",
   "execution_count": 189,
   "id": "8b221c80",
   "metadata": {},
   "outputs": [
    {
     "name": "stdout",
     "output_type": "stream",
     "text": [
      "CountVectorizer:   Train accuracy = 0.9838103374626228, Test accuracy = 0.8696432130755432\n",
      "TFIDFVectorizer:   Train accuracy = 0.9255019222554464, Test accuracy = 0.8540960733506079\n"
     ]
    }
   ],
   "source": [
    "print(f'CountVectorizer:   Train accuracy = {acc_train_count}, Test accuracy = {acc_test_count}')\n",
    "print(f'TFIDFVectorizer:   Train accuracy = {acc_train_tfidf}, Test accuracy = {acc_test_tfidf}')"
   ]
  },
  {
   "cell_type": "markdown",
   "id": "52f6d590",
   "metadata": {},
   "source": [
    "`CountVectorizer` дает прирост к качеству относительно `TFIDFVectorizer`. Также видно что мы получили переобучение из за того что есть разница в точности между обучающей и тестовой выборке, но она не сильно критична, однако `CountVectorizer` помимо лучшего качества, так же и переобучился сильнее."
   ]
  },
  {
   "cell_type": "markdown",
   "id": "1e8e3887",
   "metadata": {},
   "source": [
    "### Шаг 5. Стемминг\n",
    "\n",
    "Для уменьшения словаря можно использовать стемминг.\n",
    "\n",
    "Модифицируйем написанный токенайзер, добавив в него стемминг с использованием SnowballStemmer. Обучим Count- и Tfidf- векторайзеры."
   ]
  },
  {
   "cell_type": "code",
   "execution_count": 193,
   "id": "ba8e2f79",
   "metadata": {},
   "outputs": [],
   "source": [
    "from nltk.stem.snowball import SnowballStemmer\n",
    "\n",
    "stemmer = SnowballStemmer(\"english\")\n",
    "\n",
    "def custom_stem_tokenizer(text, punct=punctuation, stop_words=eng_stop_words_list, stemmer=stemmer):\n",
    "\n",
    "    text = text.lower()\n",
    "\n",
    "    tokenizer = tokenize_advanced\n",
    "    tokens = tokenizer(text)\n",
    "\n",
    "    filtered_tokens = []\n",
    "    for token in tokens:\n",
    "        if token in stop_words:\n",
    "            continue\n",
    "\n",
    "        if all(char in punctuation for char in token):\n",
    "            continue\n",
    "\n",
    "        if len(token) == 1 and ord(token) >= 128:\n",
    "            continue\n",
    "\n",
    "        if token.startswith('https://t.co'):\n",
    "            continue\n",
    "\n",
    "        token = stemmer.stem(token)\n",
    "        filtered_tokens.append(token)\n",
    "\n",
    "    return filtered_tokens\n"
   ]
  },
  {
   "cell_type": "code",
   "execution_count": 194,
   "id": "1db15c0a",
   "metadata": {},
   "outputs": [
    {
     "data": {
      "text/plain": [
       "['sampl', 'text', '@sample_text', '#sampletext', 'ad', 'word', 'check', 'stem']"
      ]
     },
     "execution_count": 194,
     "metadata": {},
     "output_type": "execute_result"
    }
   ],
   "source": [
    "custom_stem_tokenizer('This is sample text!!!! @Sample_text I, \\x92\\x92 https://t.co/sample  #sampletext adding more words to check stemming')"
   ]
  },
  {
   "cell_type": "code",
   "execution_count": 195,
   "id": "7f66139c",
   "metadata": {},
   "outputs": [
    {
     "name": "stdout",
     "output_type": "stream",
     "text": [
      "34873\n"
     ]
    }
   ],
   "source": [
    "cv = CountVectorizer(tokenizer=custom_stem_tokenizer)\n",
    "\n",
    "cv.fit_transform(train['OriginalTweet'])\n",
    "\n",
    "print(len(cv.vocabulary_))"
   ]
  },
  {
   "cell_type": "markdown",
   "id": "d8bbcf7a",
   "metadata": {},
   "source": [
    "Словарь токенов уменьшился еще примерно на 25%"
   ]
  },
  {
   "cell_type": "markdown",
   "id": "b709b9f7",
   "metadata": {},
   "source": [
    "Обучим логистическую регрессию с использованием обоих векторайзеров"
   ]
  },
  {
   "cell_type": "code",
   "execution_count": 196,
   "id": "db67d858",
   "metadata": {},
   "outputs": [
    {
     "name": "stdout",
     "output_type": "stream",
     "text": [
      "34873\n"
     ]
    }
   ],
   "source": [
    "tfidf = TfidfVectorizer(tokenizer=custom_tokenizer)\n",
    "\n",
    "tfidf.fit_transform(train['OriginalTweet'])\n",
    "\n",
    "print(len(tfidf.vocabulary_))"
   ]
  },
  {
   "cell_type": "code",
   "execution_count": 197,
   "id": "9d1c14d0",
   "metadata": {},
   "outputs": [],
   "source": [
    "vec_train = cv.fit_transform(train['OriginalTweet'])\n",
    "vec_test = cv.transform(test['OriginalTweet'])\n",
    "\n",
    "tfidf_vec_train = tfidf.fit_transform(train['OriginalTweet'])\n",
    "tfidf_vec_test = tfidf.transform(test['OriginalTweet'])\n",
    "\n",
    "target = ['Sentiment_binary']"
   ]
  },
  {
   "cell_type": "code",
   "execution_count": 198,
   "id": "aaf8e509",
   "metadata": {},
   "outputs": [
    {
     "name": "stdout",
     "output_type": "stream",
     "text": [
      "Векторизация с помощью Bag-of-words\n",
      "               precision    recall  f1-score   support\n",
      "\n",
      "           0       0.87      0.84      0.86      4552\n",
      "           1       0.87      0.89      0.88      5482\n",
      "\n",
      "    accuracy                           0.87     10034\n",
      "   macro avg       0.87      0.87      0.87     10034\n",
      "weighted avg       0.87      0.87      0.87     10034\n",
      "\n",
      "\n",
      "\n",
      "Векторизация с помощью TF-IDF\n",
      "               precision    recall  f1-score   support\n",
      "\n",
      "           0       0.86      0.82      0.84      4552\n",
      "           1       0.85      0.89      0.87      5482\n",
      "\n",
      "    accuracy                           0.86     10034\n",
      "   macro avg       0.86      0.85      0.86     10034\n",
      "weighted avg       0.86      0.86      0.86     10034\n",
      "\n"
     ]
    }
   ],
   "source": [
    "from sklearn.linear_model import LogisticRegression\n",
    "from sklearn.metrics import accuracy_score\n",
    "\n",
    "lr_1 = LogisticRegression(random_state=42, solver='liblinear', multi_class='ovr')\n",
    "\n",
    "lr_1.fit(vec_train, train[target])\n",
    "train_pred_count = lr_1.predict(vec_train)\n",
    "test_pred_count = lr_1.predict(vec_test)\n",
    "acc_train_count = accuracy_score(train[target], train_pred_count)\n",
    "acc_test_count = accuracy_score(test[target], test_pred_count)\n",
    "print('Векторизация с помощью Bag-of-words\\n', classification_report(test[target], test_pred_count))\n",
    "\n",
    "print('\\n')\n",
    "\n",
    "lr_2 = LogisticRegression(random_state=42, solver='liblinear', multi_class='ovr')\n",
    "\n",
    "lr_2.fit(tfidf_vec_train, train[target])\n",
    "train_pred_tfidf = lr_2.predict(tfidf_vec_train)\n",
    "test_pred_tfidf = lr_2.predict(tfidf_vec_test)\n",
    "acc_train_tfidf = accuracy_score(train[target], train_pred_tfidf)\n",
    "acc_test_tfidf = accuracy_score(test[target], test_pred_tfidf)\n",
    "print('Векторизация с помощью TF-IDF\\n', classification_report(test[target], test_pred_tfidf))"
   ]
  },
  {
   "cell_type": "code",
   "execution_count": 199,
   "id": "e7c28ee9",
   "metadata": {},
   "outputs": [
    {
     "name": "stdout",
     "output_type": "stream",
     "text": [
      "CountVectorizer:   Train accuracy = 0.9709098675779582, Test accuracy = 0.8701415188359577\n",
      "TFIDFVectorizer:   Train accuracy = 0.9158906450234943, Test accuracy = 0.8572852302172613\n"
     ]
    }
   ],
   "source": [
    "print(f\"CountVectorizer:   Train accuracy = {acc_train_count}, Test accuracy = {acc_test_count}\")\n",
    "print(f\"TFIDFVectorizer:   Train accuracy = {acc_train_tfidf}, Test accuracy = {acc_test_tfidf}\")"
   ]
  },
  {
   "cell_type": "markdown",
   "id": "14e74f59",
   "metadata": {},
   "source": [
    "Видим что качество увеличилось совсем незначительно, а так же уменьшилось немного переобучение.\n",
    "`CountVectorizer` по прежнему показывает более лучшую точность относительно `TFIDFVectorizer`.\n",
    "\n",
    "**Вывод:** В данном случае стемминг можно использовать для уменьшения размерности, без вреда для качества."
   ]
  },
  {
   "cell_type": "markdown",
   "id": "b53dd550",
   "metadata": {},
   "source": [
    "##### n-gramms (доп)\n",
    "\n",
    "Посмотрим помогут ли нам чем-то n-gramm-ы. Так как у нас `CountVectorizer` везде показывает качество лучше чем `TFIDFVectorizer`, то посомотрим только на него"
   ]
  },
  {
   "cell_type": "code",
   "execution_count": 200,
   "id": "1fb35d10",
   "metadata": {},
   "outputs": [
    {
     "name": "stdout",
     "output_type": "stream",
     "text": [
      "              precision    recall  f1-score   support\n",
      "\n",
      "           0       0.87      0.84      0.86      4552\n",
      "           1       0.87      0.89      0.88      5482\n",
      "\n",
      "    accuracy                           0.87     10034\n",
      "   macro avg       0.87      0.87      0.87     10034\n",
      "weighted avg       0.87      0.87      0.87     10034\n",
      "\n"
     ]
    }
   ],
   "source": [
    "cv1_1 = CountVectorizer(tokenizer=custom_stem_tokenizer, ngram_range=(1,1))\n",
    "cv1_1.fit_transform(train['OriginalTweet'])\n",
    "\n",
    "vec_train = cv1_1.fit_transform(train['OriginalTweet'])\n",
    "vec_test = cv1_1.transform(test['OriginalTweet'])\n",
    "target = ['Sentiment_binary']\n",
    "\n",
    "lr = LogisticRegression(random_state=42, solver='liblinear', multi_class='ovr')\n",
    "\n",
    "lr.fit(vec_train, train[target])\n",
    "train_pred_count = lr.predict(vec_train)\n",
    "test_pred_count = lr.predict(vec_test)\n",
    "acc_train_count = accuracy_score(train[target], train_pred_count)\n",
    "acc_test_count = accuracy_score(test[target], test_pred_count)\n",
    "print(classification_report(test[target], test_pred_count))"
   ]
  },
  {
   "cell_type": "code",
   "execution_count": 201,
   "id": "8f893c4d",
   "metadata": {},
   "outputs": [
    {
     "name": "stdout",
     "output_type": "stream",
     "text": [
      "CountVectorizer:   Train accuracy = 0.9709098675779582, Test accuracy = 0.8701415188359577\n"
     ]
    }
   ],
   "source": [
    "print(f\"CountVectorizer:   Train accuracy = {acc_train_count}, Test accuracy = {acc_test_count}\")"
   ]
  },
  {
   "cell_type": "code",
   "execution_count": 202,
   "id": "236d693f",
   "metadata": {},
   "outputs": [
    {
     "name": "stdout",
     "output_type": "stream",
     "text": [
      "              precision    recall  f1-score   support\n",
      "\n",
      "           0       0.71      0.65      0.68      4552\n",
      "           1       0.73      0.78      0.75      5482\n",
      "\n",
      "    accuracy                           0.72     10034\n",
      "   macro avg       0.72      0.71      0.72     10034\n",
      "weighted avg       0.72      0.72      0.72     10034\n",
      "\n"
     ]
    }
   ],
   "source": [
    "cv2_2 = CountVectorizer(tokenizer=custom_stem_tokenizer, ngram_range=(2,2))\n",
    "cv2_2.fit_transform(train['OriginalTweet'])\n",
    "\n",
    "vec_train = cv2_2.fit_transform(train['OriginalTweet'])\n",
    "vec_test = cv2_2.transform(test['OriginalTweet'])\n",
    "target = ['Sentiment_binary']\n",
    "\n",
    "lr = LogisticRegression(random_state=42, solver='liblinear', multi_class='ovr')\n",
    "\n",
    "lr.fit(vec_train, train[target])\n",
    "train_pred_count = lr.predict(vec_train)\n",
    "test_pred_count = lr.predict(vec_test)\n",
    "acc_train_count = accuracy_score(train[target], train_pred_count)\n",
    "acc_test_count = accuracy_score(test[target], test_pred_count)\n",
    "print(classification_report(test[target], test_pred_count))"
   ]
  },
  {
   "cell_type": "code",
   "execution_count": 203,
   "id": "1f9822e0",
   "metadata": {},
   "outputs": [
    {
     "name": "stdout",
     "output_type": "stream",
     "text": [
      "CountVectorizer:   Train accuracy = 0.999316531396839, Test accuracy = 0.7204504684074148\n"
     ]
    }
   ],
   "source": [
    "print(f\"CountVectorizer:   Train accuracy = {acc_train_count}, Test accuracy = {acc_test_count}\")"
   ]
  },
  {
   "cell_type": "code",
   "execution_count": 204,
   "id": "1cd65055",
   "metadata": {},
   "outputs": [
    {
     "name": "stdout",
     "output_type": "stream",
     "text": [
      "              precision    recall  f1-score   support\n",
      "\n",
      "           0       0.72      0.34      0.46      4552\n",
      "           1       0.62      0.89      0.73      5482\n",
      "\n",
      "    accuracy                           0.64     10034\n",
      "   macro avg       0.67      0.61      0.60     10034\n",
      "weighted avg       0.66      0.64      0.61     10034\n",
      "\n"
     ]
    }
   ],
   "source": [
    "cv3_3 = CountVectorizer(tokenizer=custom_stem_tokenizer, ngram_range=(3,3))\n",
    "cv3_3.fit_transform(train['OriginalTweet'])\n",
    "\n",
    "vec_train = cv3_3.fit_transform(train['OriginalTweet'])\n",
    "vec_test = cv3_3.transform(test['OriginalTweet'])\n",
    "target = ['Sentiment_binary']\n",
    "\n",
    "lr = LogisticRegression(random_state=42, solver='liblinear', multi_class='ovr')\n",
    "\n",
    "lr.fit(vec_train, train[target])\n",
    "train_pred_count = lr.predict(vec_train)\n",
    "test_pred_count = lr.predict(vec_test)\n",
    "acc_train_count = accuracy_score(train[target], train_pred_count)\n",
    "acc_test_count = accuracy_score(test[target], test_pred_count)\n",
    "print(classification_report(test[target], test_pred_count))"
   ]
  },
  {
   "cell_type": "code",
   "execution_count": 205,
   "id": "340a2079",
   "metadata": {},
   "outputs": [
    {
     "name": "stdout",
     "output_type": "stream",
     "text": [
      "CountVectorizer:   Train accuracy = 0.9994019649722341, Test accuracy = 0.6395256129160853\n"
     ]
    }
   ],
   "source": [
    "print(f\"CountVectorizer:   Train accuracy = {acc_train_count}, Test accuracy = {acc_test_count}\")"
   ]
  },
  {
   "cell_type": "markdown",
   "id": "97f2910f",
   "metadata": {},
   "source": [
    "Использование n-gramm привело к сильному переобучению."
   ]
  },
  {
   "cell_type": "markdown",
   "id": "c36852a9",
   "metadata": {},
   "source": [
    "#### Шаг 6. Работа с частотами\n",
    "\n",
    "Еще один способ уменьшить количество признаков - это использовать параметры min_df и max_df при построении векторайзера  эти параметры помогают ограничить требуемую частоту встречаемости токена в документах.\n",
    "\n",
    "По умолчанию берутся все токены, которые встретились хотя бы один раз."
   ]
  },
  {
   "cell_type": "code",
   "execution_count": 206,
   "id": "39cda44a",
   "metadata": {},
   "outputs": [],
   "source": [
    "df_counts = np.asarray((cv.fit_transform(train['OriginalTweet']) > 0).sum(axis=0)).ravel()\n",
    "num_docs = cv.fit_transform(train['OriginalTweet']).shape[0]"
   ]
  },
  {
   "cell_type": "code",
   "execution_count": 207,
   "id": "2af3d833",
   "metadata": {},
   "outputs": [],
   "source": [
    "sorted_df = np.sort(df_counts)\n",
    "cutoff_df = sorted_df[-2]\n",
    "max_df = cutoff_df / num_docs"
   ]
  },
  {
   "cell_type": "code",
   "execution_count": 208,
   "id": "2e75a2a4",
   "metadata": {},
   "outputs": [
    {
     "name": "stdout",
     "output_type": "stream",
     "text": [
      "34872\n"
     ]
    }
   ],
   "source": [
    "cv_df = CountVectorizer(tokenizer=custom_stem_tokenizer, max_df=max_df).fit(train['OriginalTweet'])\n",
    "print(len(cv_df.vocabulary_))"
   ]
  },
  {
   "cell_type": "code",
   "execution_count": 209,
   "id": "7d067146",
   "metadata": {},
   "outputs": [
    {
     "data": {
      "text/plain": [
       "np.float64(0.19628363947031183)"
      ]
     },
     "execution_count": 209,
     "metadata": {},
     "output_type": "execute_result"
    }
   ],
   "source": [
    "max_df"
   ]
  },
  {
   "cell_type": "markdown",
   "id": "ec8c95ad",
   "metadata": {},
   "source": [
    "Значение 0.196 означает, что мы исключаем токены, которые встречаются в более чем в примерно 20% документов. Это связано с тем, что у нас почти нет токенов, которые встречаются более чем в четверти документов"
   ]
  },
  {
   "cell_type": "code",
   "execution_count": 211,
   "id": "7372c419",
   "metadata": {},
   "outputs": [],
   "source": [
    "sorted_df = np.sort(df_counts)\n",
    "min_df= sorted_df[-3680] / num_docs"
   ]
  },
  {
   "cell_type": "code",
   "execution_count": 212,
   "id": "61aaaaab",
   "metadata": {},
   "outputs": [
    {
     "data": {
      "text/plain": [
       "np.float64(0.00042716787697565144)"
      ]
     },
     "execution_count": 212,
     "metadata": {},
     "output_type": "execute_result"
    }
   ],
   "source": [
    "min_df"
   ]
  },
  {
   "cell_type": "code",
   "execution_count": 213,
   "id": "6081d124",
   "metadata": {},
   "outputs": [
    {
     "name": "stdout",
     "output_type": "stream",
     "text": [
      "3862\n"
     ]
    }
   ],
   "source": [
    "cv_df = CountVectorizer(tokenizer=custom_stem_tokenizer, min_df=min_df).fit(train['OriginalTweet'])\n",
    "print(len(cv_df.vocabulary_))"
   ]
  },
  {
   "cell_type": "code",
   "execution_count": 214,
   "id": "eb02a15b",
   "metadata": {},
   "outputs": [
    {
     "name": "stdout",
     "output_type": "stream",
     "text": [
      "              precision    recall  f1-score   support\n",
      "\n",
      "           0       0.86      0.85      0.86      4552\n",
      "           1       0.88      0.89      0.88      5482\n",
      "\n",
      "    accuracy                           0.87     10034\n",
      "   macro avg       0.87      0.87      0.87     10034\n",
      "weighted avg       0.87      0.87      0.87     10034\n",
      "\n"
     ]
    }
   ],
   "source": [
    "vec_train = cv_df.fit_transform(train['OriginalTweet'])\n",
    "vec_test = cv_df.transform(test['OriginalTweet'])\n",
    "\n",
    "target = ['Sentiment_binary']\n",
    "\n",
    "lr_1 = LogisticRegression(random_state=42, solver='liblinear', multi_class='ovr')\n",
    "\n",
    "lr_1.fit(vec_train, train[target])\n",
    "train_pred_count = lr_1.predict(vec_train)\n",
    "test_pred_count = lr_1.predict(vec_test)\n",
    "acc_train_count = accuracy_score(train[target], train_pred_count)\n",
    "acc_test_count = accuracy_score(test[target], test_pred_count)\n",
    "print(classification_report(test[target], test_pred_count))"
   ]
  },
  {
   "cell_type": "code",
   "execution_count": 215,
   "id": "13d3f8b9",
   "metadata": {},
   "outputs": [
    {
     "name": "stdout",
     "output_type": "stream",
     "text": [
      "CountVectorizer:   Train accuracy = 0.9311832550192225, Test accuracy = 0.8706398245963723\n"
     ]
    }
   ],
   "source": [
    "print(f\"CountVectorizer:   Train accuracy = {acc_train_count}, Test accuracy = {acc_test_count}\")"
   ]
  },
  {
   "cell_type": "markdown",
   "id": "eec7471b",
   "metadata": {},
   "source": [
    "Размерность уменьшилась, а качество сохранилось - хорошо."
   ]
  },
  {
   "cell_type": "markdown",
   "id": "1f384134",
   "metadata": {},
   "source": [
    "В предыдущих шагах мы не скалировали признаки. Отскалируем данные (при словаре размера 3.8 тыс, векторизованные CountVectorizer), обучим логистическую регрессию, посмотрим качество и выведем `barplot`, содержащий по 10 токенов, с наибольшим по модулю положительными/отрицательными весами."
   ]
  },
  {
   "cell_type": "code",
   "execution_count": 216,
   "id": "d184dbca",
   "metadata": {},
   "outputs": [
    {
     "name": "stdout",
     "output_type": "stream",
     "text": [
      "              precision    recall  f1-score   support\n",
      "\n",
      "           0       0.84      0.83      0.83      4552\n",
      "           1       0.86      0.86      0.86      5482\n",
      "\n",
      "    accuracy                           0.85     10034\n",
      "   macro avg       0.85      0.85      0.85     10034\n",
      "weighted avg       0.85      0.85      0.85     10034\n",
      "\n"
     ]
    }
   ],
   "source": [
    "from sklearn.preprocessing import StandardScaler\n",
    "\n",
    "scaler = StandardScaler(with_mean=False)\n",
    "vec_train_scaled = scaler.fit_transform(vec_train)\n",
    "vec_test_scaled = scaler.transform(vec_test)\n",
    "\n",
    "lr_scaled = LogisticRegression(random_state=42, solver='liblinear', multi_class='ovr')\n",
    "\n",
    "lr_scaled.fit(vec_train_scaled, train[target])\n",
    "train_pred_count = lr_scaled.predict(vec_train_scaled)\n",
    "test_pred_count = lr_scaled.predict(vec_test_scaled)\n",
    "acc_train_count = accuracy_score(train[target], train_pred_count)\n",
    "acc_test_count = accuracy_score(test[target], test_pred_count)\n",
    "print(classification_report(test[target], test_pred_count))"
   ]
  },
  {
   "cell_type": "code",
   "execution_count": 217,
   "id": "151db4dc",
   "metadata": {},
   "outputs": [
    {
     "name": "stdout",
     "output_type": "stream",
     "text": [
      "CountVectorizer:   Train accuracy = 0.9471593336181119, Test accuracy = 0.8473191150089695\n"
     ]
    }
   ],
   "source": [
    "print(f\"CountVectorizer:   Train accuracy = {acc_train_count}, Test accuracy = {acc_test_count}\")"
   ]
  },
  {
   "cell_type": "code",
   "execution_count": 218,
   "id": "5a29fce5",
   "metadata": {},
   "outputs": [
    {
     "data": {
      "image/png": "[encoded data removed]",
      "text/plain": [
       "<Figure size 1200x600 with 1 Axes>"
      ]
     },
     "metadata": {},
     "output_type": "display_data"
    }
   ],
   "source": [
    "feature_names = np.array(cv_df.get_feature_names_out())\n",
    "coef = lr_scaled.coef_.flatten()\n",
    "\n",
    "top_pos_indices = np.argsort(coef)[-10:]\n",
    "top_neg_indices = np.argsort(coef)[:10]\n",
    "\n",
    "top_tokens = np.concatenate([feature_names[top_neg_indices], feature_names[top_pos_indices]])\n",
    "top_weights = np.concatenate([coef[top_neg_indices], coef[top_pos_indices]])\n",
    "\n",
    "plt.figure(figsize=(12, 6))\n",
    "sns.barplot(x=top_tokens, y=top_weights, palette=[\"red\"]*10 + [\"green\"]*10)\n",
    "plt.title(\"Top 10 Negative and Positive Tokens by Logistic Regression Coefficient\")\n",
    "plt.xticks(rotation=45)\n",
    "plt.ylabel(\"Weight (coefficient)\")\n",
    "plt.grid(True)\n",
    "plt.tight_layout()\n",
    "plt.show()"
   ]
  },
  {
   "cell_type": "markdown",
   "id": "9b2fbc20",
   "metadata": {},
   "source": [
    "Сами токены (слова) довольно логично вписываются в контекст соответствующего сентимента, например для негативных (kill, scam, panic, etc.). Качество с заскейленными признаками немного падает на трейне и на тесте"
   ]
  },
  {
   "cell_type": "markdown",
   "id": "f229a033",
   "metadata": {},
   "source": [
    "#### Шаг 7. Другие признаки\n",
    "\n",
    "Мы были сконцентрированы на работе с текстами твиттов и не использовали другие признаки - имена пользователя, дату и местоположение"
   ]
  },
  {
   "cell_type": "markdown",
   "id": "3014e75b",
   "metadata": {},
   "source": [
    "Изучим признаки UserName и ScreenName. полезны ли они? Если полезны, то закодируем их, добавив к матрице с отскалированными признаками, обучим логистическую регрессию, замерим качество."
   ]
  },
  {
   "cell_type": "code",
   "execution_count": 219,
   "id": "7fa492cd",
   "metadata": {},
   "outputs": [
    {
     "data": {
      "text/html": [
       "<div>\n",
       "<style scoped>\n",
       "    .dataframe tbody tr th:only-of-type {\n",
       "        vertical-align: middle;\n",
       "    }\n",
       "\n",
       "    .dataframe tbody tr th {\n",
       "        vertical-align: top;\n",
       "    }\n",
       "\n",
       "    .dataframe thead th {\n",
       "        text-align: right;\n",
       "    }\n",
       "</style>\n",
       "<table border=\"1\" class=\"dataframe\">\n",
       "  <thead>\n",
       "    <tr style=\"text-align: right;\">\n",
       "      <th></th>\n",
       "      <th>UserName</th>\n",
       "      <th>ScreenName</th>\n",
       "      <th>Location</th>\n",
       "      <th>TweetAt</th>\n",
       "      <th>OriginalTweet</th>\n",
       "      <th>Sentiment</th>\n",
       "      <th>Sentiment_binary</th>\n",
       "    </tr>\n",
       "  </thead>\n",
       "  <tbody>\n",
       "    <tr>\n",
       "      <th>0</th>\n",
       "      <td>3800</td>\n",
       "      <td>48752</td>\n",
       "      <td>UK</td>\n",
       "      <td>16-03-2020</td>\n",
       "      <td>advice Talk to your neighbours family to excha...</td>\n",
       "      <td>Positive</td>\n",
       "      <td>1</td>\n",
       "    </tr>\n",
       "    <tr>\n",
       "      <th>1</th>\n",
       "      <td>3801</td>\n",
       "      <td>48753</td>\n",
       "      <td>Vagabonds</td>\n",
       "      <td>16-03-2020</td>\n",
       "      <td>Coronavirus Australia: Woolworths to give elde...</td>\n",
       "      <td>Positive</td>\n",
       "      <td>1</td>\n",
       "    </tr>\n",
       "    <tr>\n",
       "      <th>2</th>\n",
       "      <td>3802</td>\n",
       "      <td>48754</td>\n",
       "      <td>Unknown</td>\n",
       "      <td>16-03-2020</td>\n",
       "      <td>My food stock is not the only one which is emp...</td>\n",
       "      <td>Positive</td>\n",
       "      <td>1</td>\n",
       "    </tr>\n",
       "  </tbody>\n",
       "</table>\n",
       "</div>"
      ],
      "text/plain": [
       "   UserName  ScreenName   Location     TweetAt  \\\n",
       "0      3800       48752         UK  16-03-2020   \n",
       "1      3801       48753  Vagabonds  16-03-2020   \n",
       "2      3802       48754    Unknown  16-03-2020   \n",
       "\n",
       "                                       OriginalTweet Sentiment  \\\n",
       "0  advice Talk to your neighbours family to excha...  Positive   \n",
       "1  Coronavirus Australia: Woolworths to give elde...  Positive   \n",
       "2  My food stock is not the only one which is emp...  Positive   \n",
       "\n",
       "   Sentiment_binary  \n",
       "0                 1  \n",
       "1                 1  \n",
       "2                 1  "
      ]
     },
     "execution_count": 219,
     "metadata": {},
     "output_type": "execute_result"
    }
   ],
   "source": [
    "df.head(3)"
   ]
  },
  {
   "cell_type": "code",
   "execution_count": 220,
   "id": "2ffa96ef",
   "metadata": {},
   "outputs": [
    {
     "name": "stdout",
     "output_type": "stream",
     "text": [
      "UserName уникальных: 33444\n",
      "ScreenName уникальных: 33444\n",
      "Размер датасета: 33444\n"
     ]
    }
   ],
   "source": [
    "print('UserName уникальных:', df['UserName'].nunique())\n",
    "print('ScreenName уникальных:', df['ScreenName'].nunique())\n",
    "print('Размер датасета:', len(df))"
   ]
  },
  {
   "cell_type": "markdown",
   "id": "8ce52177",
   "metadata": {},
   "source": [
    "Все значения уникальны -> неинформативны -> нет смысла кодировать"
   ]
  },
  {
   "cell_type": "markdown",
   "id": "745173c4",
   "metadata": {},
   "source": [
    "Изучим признак TweetAt в обучающей выборке: преобразуем его к типу datetime и нарисуем его гистограмму с разделением по цвету на основе целевой переменной. Полезен ли он? Если полезен, то закодируем его, добавим к матрице с отскалированными признаками, обучим логистическую регрессию, замерим качество."
   ]
  },
  {
   "cell_type": "code",
   "execution_count": 221,
   "id": "9e1c2b9f",
   "metadata": {},
   "outputs": [
    {
     "data": {
      "text/plain": [
       "<Figure size 1200x600 with 0 Axes>"
      ]
     },
     "metadata": {},
     "output_type": "display_data"
    },
    {
     "data": {
      "image/png": "[encoded data removed]",
      "text/plain": [
       "<Figure size 1600x600 with 1 Axes>"
      ]
     },
     "metadata": {},
     "output_type": "display_data"
    }
   ],
   "source": [
    "train['TweetAt'] = pd.to_datetime(train['TweetAt'], dayfirst=True)\n",
    "test['TweetAt'] = pd.to_datetime(test['TweetAt'], dayfirst=True)\n",
    "\n",
    "plt.figure(figsize=(12, 6))\n",
    "train.groupby(['TweetAt', 'Sentiment_binary']).size().unstack().plot(kind='bar', stacked=True, figsize=(16, 6), colormap='coolwarm')\n",
    "plt.title('Распределение твитов по дате и метке Sentiment_binary')\n",
    "plt.xlabel('Дата')\n",
    "plt.ylabel('Количество твитов')\n",
    "plt.tight_layout()\n",
    "plt.show()"
   ]
  },
  {
   "cell_type": "code",
   "execution_count": 222,
   "id": "09911aab",
   "metadata": {},
   "outputs": [],
   "source": [
    "train['date_ord'] = train['TweetAt'].map(lambda x: x.toordinal())\n",
    "test['date_ord'] = test['TweetAt'].map(lambda x: x.toordinal())"
   ]
  },
  {
   "cell_type": "code",
   "execution_count": 224,
   "id": "a86bcb7e",
   "metadata": {},
   "outputs": [],
   "source": [
    "from scipy.sparse import hstack\n",
    "\n",
    "scaler_date = StandardScaler()\n",
    "train_date_scaled = scaler_date.fit_transform(train[['date_ord']])\n",
    "test_date_scaled = scaler_date.transform(test[['date_ord']])\n",
    "\n",
    "X_train = hstack([vec_train_scaled, train_date_scaled])\n",
    "X_test = hstack([vec_test_scaled, test_date_scaled])"
   ]
  },
  {
   "cell_type": "code",
   "execution_count": 225,
   "id": "d2931869",
   "metadata": {},
   "outputs": [
    {
     "name": "stdout",
     "output_type": "stream",
     "text": [
      "              precision    recall  f1-score   support\n",
      "\n",
      "           0       0.84      0.83      0.83      4552\n",
      "           1       0.86      0.87      0.86      5482\n",
      "\n",
      "    accuracy                           0.85     10034\n",
      "   macro avg       0.85      0.85      0.85     10034\n",
      "weighted avg       0.85      0.85      0.85     10034\n",
      "\n"
     ]
    }
   ],
   "source": [
    "lr_scaled_wide = LogisticRegression(random_state=42, solver='liblinear', multi_class='ovr')\n",
    "lr_scaled_wide.fit(X_train, train['Sentiment_binary'])\n",
    "\n",
    "\n",
    "train_pred_count = lr_scaled_wide.predict(X_train)\n",
    "test_pred_count = lr_scaled_wide.predict(X_test)\n",
    "acc_train_count = accuracy_score(train[target], train_pred_count)\n",
    "acc_test_count = accuracy_score(test[target], test_pred_count)\n",
    "print(classification_report(test[target], test_pred_count))"
   ]
  },
  {
   "cell_type": "code",
   "execution_count": 226,
   "id": "c920617d",
   "metadata": {},
   "outputs": [
    {
     "name": "stdout",
     "output_type": "stream",
     "text": [
      "Train Accuracy: 0.9472020504058095\n",
      "Test Accuracy: 0.8477177596173012\n"
     ]
    }
   ],
   "source": [
    "print('Train Accuracy:', acc_train_count)\n",
    "print('Test Accuracy:', acc_test_count)"
   ]
  },
  {
   "cell_type": "markdown",
   "id": "f801e634",
   "metadata": {},
   "source": [
    "Качество не сильно изменилось, но это логично, т.к. в целом кол-во позитивных и негативных твитов одинаково сбалансировано почти по всем дням"
   ]
  },
  {
   "cell_type": "markdown",
   "id": "b092bd7d",
   "metadata": {},
   "source": [
    "Посмотрим так же на признак Location"
   ]
  },
  {
   "cell_type": "code",
   "execution_count": 227,
   "id": "1183f931",
   "metadata": {},
   "outputs": [
    {
     "name": "stdout",
     "output_type": "stream",
     "text": [
      "Уникальных значений в Location: 7949\n"
     ]
    }
   ],
   "source": [
    "print('Уникальных значений в Location:', train['Location'].nunique())"
   ]
  },
  {
   "cell_type": "code",
   "execution_count": 228,
   "id": "a60bba1a",
   "metadata": {},
   "outputs": [
    {
     "data": {
      "image/png": "[encoded data removed]",
      "text/plain": [
       "<Figure size 1000x600 with 1 Axes>"
      ]
     },
     "metadata": {},
     "output_type": "display_data"
    }
   ],
   "source": [
    "location_counts = train[train['Location'] != 'Unknown']['Location'].value_counts().head(10)\n",
    "\n",
    "plt.figure(figsize=(10, 6))\n",
    "sns.barplot(x=location_counts.values, y=location_counts.index, palette=\"viridis\")\n",
    "plt.title(\"Топ10 самых популярных локаций (без 'Unknown')\")\n",
    "plt.xlabel(\"Количество твитов\")\n",
    "plt.ylabel(\"Локация\")\n",
    "plt.tight_layout()\n",
    "plt.show()"
   ]
  },
  {
   "cell_type": "markdown",
   "id": "40c17fa3",
   "metadata": {},
   "source": [
    "Видно, что многие местоположения включают в себя более точное название места, чем другие (Например, у некоторых стоит London, UK; а у некоторых просто UK или United Kingdom).\n",
    "\n",
    "Создадим новый признак WiderLocation, который содержит самое широкое местоположение (например, из London, UK должно получиться UK). Сколько уникальных категорий теперь? Построим аналогичную гистограмму."
   ]
  },
  {
   "cell_type": "code",
   "execution_count": 229,
   "id": "6bb296f9",
   "metadata": {},
   "outputs": [
    {
     "name": "stdout",
     "output_type": "stream",
     "text": [
      "Уникальных WiderLocation: 4631\n"
     ]
    }
   ],
   "source": [
    "train['WiderLocation'] = (train['Location'].fillna('Unknown').apply(lambda x: x.split(',')[-1].strip() if x != 'Unknown' else 'Unknown'))\n",
    "test['WiderLocation'] = (test['Location'].fillna('Unknown').apply(lambda x: x.split(',')[-1].strip() if x != 'Unknown' else 'Unknown'))\n",
    "\n",
    "print('Уникальных WiderLocation:', train['WiderLocation'].nunique())"
   ]
  },
  {
   "cell_type": "code",
   "execution_count": null,
   "id": "165bcb2f",
   "metadata": {},
   "outputs": [
    {
     "data": {
      "image/png": "[encoded data removed]",
      "text/plain": [
       "<Figure size 1000x600 with 1 Axes>"
      ]
     },
     "metadata": {},
     "output_type": "display_data"
    }
   ],
   "source": [
    "top_wider_locations = (train[train['WiderLocation'] != 'Unknown']['WiderLocation'].value_counts().head(10))\n",
    "\n",
    "plt.figure(figsize=(10, 6))\n",
    "sns.barplot(x=top_wider_locations.values, y=top_wider_locations.index, palette=\"mako\")\n",
    "plt.title(\"Топ10 самых популярных WiderLocation (без 'Unknown')\")\n",
    "plt.xlabel(\"Количество твитов\")\n",
    "plt.ylabel(\"WiderLocation\")\n",
    "plt.tight_layout()\n",
    "plt.show()"
   ]
  },
  {
   "cell_type": "markdown",
   "id": "6033d178",
   "metadata": {},
   "source": [
    "Закодируем признак WiderLocation с помощью OHE таким образом, чтобы создались только столбцы для местоположений, которые встречаются более одного раза. Сколько таких значений?\n"
   ]
  },
  {
   "cell_type": "code",
   "execution_count": 232,
   "id": "5342a961",
   "metadata": {},
   "outputs": [
    {
     "name": "stdout",
     "output_type": "stream",
     "text": [
      "Уникальных WiderLocation с частотой > 1 (OHE): 989\n"
     ]
    }
   ],
   "source": [
    "from sklearn.preprocessing import OneHotEncoder\n",
    "\n",
    "counts = train['WiderLocation'].value_counts()\n",
    "frequent_locations = counts[counts > 1].index.tolist()\n",
    "\n",
    "train['WiderLocation_filtered'] = train['WiderLocation'].where(train['WiderLocation'].isin(frequent_locations))\n",
    "\n",
    "\n",
    "ohe = OneHotEncoder(handle_unknown='ignore')\n",
    "wl_ohe = ohe.fit_transform(train[['WiderLocation_filtered']])\n",
    "\n",
    "print(f'Уникальных WiderLocation с частотой > 1 (OHE): {wl_ohe.shape[1]}')"
   ]
  },
  {
   "cell_type": "markdown",
   "id": "9153b5c2",
   "metadata": {},
   "source": [
    "Добавим этот признак к матрице отскалированных текстовых признаков, обучим логистическую регрессию, замерим качество. Как оно изменилось? Оказался ли признак полезным?\n",
    "\n",
    "\n",
    "*Подсказка:* используйте параметр `categories` в энкодере."
   ]
  },
  {
   "cell_type": "code",
   "execution_count": 233,
   "id": "ecd55266",
   "metadata": {},
   "outputs": [
    {
     "name": "stdout",
     "output_type": "stream",
     "text": [
      "              precision    recall  f1-score   support\n",
      "\n",
      "           0       0.84      0.83      0.83      4552\n",
      "           1       0.86      0.87      0.86      5482\n",
      "\n",
      "    accuracy                           0.85     10034\n",
      "   macro avg       0.85      0.85      0.85     10034\n",
      "weighted avg       0.85      0.85      0.85     10034\n",
      "\n"
     ]
    }
   ],
   "source": [
    "counts = train['WiderLocation'].value_counts()\n",
    "frequent_locations = counts[counts > 1].index.tolist()\n",
    "\n",
    "train['WiderLocation_filtered'] = train['WiderLocation'].where(train['WiderLocation'].isin(frequent_locations))\n",
    "test['WiderLocation_filtered'] = test['WiderLocation'].where(test['WiderLocation'].isin(frequent_locations))\n",
    "\n",
    "ohe = OneHotEncoder(categories=[frequent_locations], handle_unknown='ignore')\n",
    "\n",
    "wl_ohe_train = ohe.fit_transform(train[['WiderLocation_filtered']])\n",
    "wl_ohe_test = ohe.transform(test[['WiderLocation_filtered']])\n",
    "\n",
    "X_train = hstack([vec_train, wl_ohe_train])\n",
    "X_test = hstack([vec_test, wl_ohe_test])\n",
    "\n",
    "lr_wl = LogisticRegression(random_state=42, solver='liblinear', multi_class='ovr')\n",
    "lr_wl.fit(X_train, train[target])\n",
    "\n",
    "train_pred = lr_wl.predict(X_train)\n",
    "test_pred = lr_wl.predict(X_test)\n",
    "\n",
    "acc_train = accuracy_score(train[target], train_pred)\n",
    "acc_test = accuracy_score(test[target], test_pred)\n",
    "print(classification_report(test[target], test_pred_count))"
   ]
  },
  {
   "cell_type": "code",
   "execution_count": 234,
   "id": "af17a4f6",
   "metadata": {},
   "outputs": [
    {
     "name": "stdout",
     "output_type": "stream",
     "text": [
      "Train accuracy с WiderLocation OHE: 0.9346860316104229\n",
      "Test accuracy с WiderLocation OHE: 0.8677496511859677\n"
     ]
    }
   ],
   "source": [
    "print(f\"Train accuracy с WiderLocation OHE: {acc_train}\")\n",
    "print(f\"Test accuracy с WiderLocation OHE: {acc_test}\")"
   ]
  },
  {
   "cell_type": "markdown",
   "id": "f3cf1ecd",
   "metadata": {},
   "source": [
    "Качество слегка выросло, это говорит о том, что признак локации добавляет модели обобщающие способности."
   ]
  },
  {
   "cell_type": "markdown",
   "id": "433a00db",
   "metadata": {},
   "source": [
    "**ИТОГ:**\n",
    "\n",
    "- Мы пошагово организовали пайплайн работы с текстами и решения задачи классификации твитов о коронавирусе на позитивные и негативные. \n",
    "- Написали и усовершенствовали собственный токенайзер, добавив в него очистку стоп-слов, спец символов, а так же стемминг.\n",
    "- Посмотрели на векторизацию с помощью Bag-of-words и TF-IDF\n",
    "- Посмотрели на качество логистической регресии при различных подходах к токенизации и векторизации, а так же при масштабировании и добавлении дополнительных признаков"
   ]
  }
 ],
 "metadata": {
  "kernelspec": {
   "display_name": "venv",
   "language": "python",
   "name": "python3"
  },
  "language_info": {
   "codemirror_mode": {
    "name": "ipython",
    "version": 3
   },
   "file_extension": ".py",
   "mimetype": "text/x-python",
   "name": "python",
   "nbconvert_exporter": "python",
   "pygments_lexer": "ipython3",
   "version": "3.9.6"
  }
 },
 "nbformat": 4,
 "nbformat_minor": 5
}
