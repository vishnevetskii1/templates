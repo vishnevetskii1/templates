{
  "cells": [
    {
      "cell_type": "markdown",
      "metadata": {
        "id": "Ffq6A2-ifzAA"
      },
      "source": [
        "# Интеллектуальный анализ данных – весна 2025\n",
        "# Домашнее задание 6: классификация текстов"
      ]
    },
    {
      "cell_type": "markdown",
      "metadata": {
        "id": "EPcxtekTA1Sm"
      },
      "source": [
        "Правила:\n",
        "\n",
        "\n",
        "\n",
        "*   Домашнее задание оценивается в 10 баллов.\n",
        "*   Можно использовать без доказательства любые результаты, встречавшиеся на лекциях или семинарах по курсу, если получение этих результатов не является вопросом задания.\n",
        "*  Можно использовать любые свободные источники с *обязательным* указанием ссылки на них.\n",
        "*  Плагиат не допускается. При обнаружении случаев списывания, 0 за работу выставляется всем участникам нарушения, даже если можно установить, кто у кого списал.\n",
        "*  Старайтесь сделать код как можно более оптимальным. В частности, будет штрафоваться использование циклов в тех случаях, когда операцию можно совершить при помощи инструментов библиотек, о которых рассказывалось в курсе.\n",
        "* Если в задании есть вопрос на рассуждение, то за отсутствие ответа на него балл за задание будет снижен вполовину."
      ]
    },
    {
      "cell_type": "markdown",
      "metadata": {
        "id": "itRtFtrOf0_b"
      },
      "source": [
        "В этом домашнем задании вам предстоит построить классификатор текстов.\n",
        "\n",
        "Будем предсказывать эмоциональную окраску твиттов о коронавирусе.\n",
        "\n"
      ]
    },
    {
      "cell_type": "code",
      "execution_count": 2,
      "metadata": {
        "id": "tNGRVO7_g9mz"
      },
      "outputs": [],
      "source": [
        "import numpy as np\n",
        "import pandas as pd\n",
        "from typing import  List\n",
        "import matplotlib.pyplot as plt\n",
        "import seaborn as sns\n",
        "from string import punctuation\n",
        "\n",
        "import warnings\n",
        "warnings.filterwarnings('ignore')"
      ]
    },
    {
      "cell_type": "code",
      "execution_count": 3,
      "metadata": {
        "colab": {
          "base_uri": "https://localhost:8080/",
          "height": 236
        },
        "id": "zOy8iHJQg_Ss",
        "outputId": "8e65ac00-d76d-4786-90f6-57306b777131"
      },
      "outputs": [
        {
          "output_type": "execute_result",
          "data": {
            "text/plain": [
              "       UserName  ScreenName Location     TweetAt  \\\n",
              "10214     16197       61149      NaN  21-03-2020   \n",
              "793        4751       49703      NaN  17-03-2020   \n",
              "18410     26197       71149      NaN  25-03-2020   \n",
              "32386     43635       88587      NaN  13-04-2020   \n",
              "\n",
              "                                           OriginalTweet           Sentiment  \n",
              "10214  Missouri woman gives birth in the #toiletpaper...  Extremely Positive  \n",
              "793    AR #COVID19 LATEST:\\r\\r\\n@AsaHutchinson : Food...            Negative  \n",
              "18410  Are you looking to stock up your stores or ref...  Extremely Positive  \n",
              "32386  The average price of regular gas fell 14 cents...            Negative  "
            ],
            "text/html": [
              "\n",
              "  <div id=\"df-658694d7-c777-446f-b9a6-d26224702afd\" class=\"colab-df-container\">\n",
              "    <div>\n",
              "<style scoped>\n",
              "    .dataframe tbody tr th:only-of-type {\n",
              "        vertical-align: middle;\n",
              "    }\n",
              "\n",
              "    .dataframe tbody tr th {\n",
              "        vertical-align: top;\n",
              "    }\n",
              "\n",
              "    .dataframe thead th {\n",
              "        text-align: right;\n",
              "    }\n",
              "</style>\n",
              "<table border=\"1\" class=\"dataframe\">\n",
              "  <thead>\n",
              "    <tr style=\"text-align: right;\">\n",
              "      <th></th>\n",
              "      <th>UserName</th>\n",
              "      <th>ScreenName</th>\n",
              "      <th>Location</th>\n",
              "      <th>TweetAt</th>\n",
              "      <th>OriginalTweet</th>\n",
              "      <th>Sentiment</th>\n",
              "    </tr>\n",
              "  </thead>\n",
              "  <tbody>\n",
              "    <tr>\n",
              "      <th>10214</th>\n",
              "      <td>16197</td>\n",
              "      <td>61149</td>\n",
              "      <td>NaN</td>\n",
              "      <td>21-03-2020</td>\n",
              "      <td>Missouri woman gives birth in the #toiletpaper...</td>\n",
              "      <td>Extremely Positive</td>\n",
              "    </tr>\n",
              "    <tr>\n",
              "      <th>793</th>\n",
              "      <td>4751</td>\n",
              "      <td>49703</td>\n",
              "      <td>NaN</td>\n",
              "      <td>17-03-2020</td>\n",
              "      <td>AR #COVID19 LATEST:\\r\\r\\n@AsaHutchinson : Food...</td>\n",
              "      <td>Negative</td>\n",
              "    </tr>\n",
              "    <tr>\n",
              "      <th>18410</th>\n",
              "      <td>26197</td>\n",
              "      <td>71149</td>\n",
              "      <td>NaN</td>\n",
              "      <td>25-03-2020</td>\n",
              "      <td>Are you looking to stock up your stores or ref...</td>\n",
              "      <td>Extremely Positive</td>\n",
              "    </tr>\n",
              "    <tr>\n",
              "      <th>32386</th>\n",
              "      <td>43635</td>\n",
              "      <td>88587</td>\n",
              "      <td>NaN</td>\n",
              "      <td>13-04-2020</td>\n",
              "      <td>The average price of regular gas fell 14 cents...</td>\n",
              "      <td>Negative</td>\n",
              "    </tr>\n",
              "  </tbody>\n",
              "</table>\n",
              "</div>\n",
              "    <div class=\"colab-df-buttons\">\n",
              "\n",
              "  <div class=\"colab-df-container\">\n",
              "    <button class=\"colab-df-convert\" onclick=\"convertToInteractive('df-658694d7-c777-446f-b9a6-d26224702afd')\"\n",
              "            title=\"Convert this dataframe to an interactive table.\"\n",
              "            style=\"display:none;\">\n",
              "\n",
              "  <svg xmlns=\"http://www.w3.org/2000/svg\" height=\"24px\" viewBox=\"0 -960 960 960\">\n",
              "    <path d=\"M120-120v-720h720v720H120Zm60-500h600v-160H180v160Zm220 220h160v-160H400v160Zm0 220h160v-160H400v160ZM180-400h160v-160H180v160Zm440 0h160v-160H620v160ZM180-180h160v-160H180v160Zm440 0h160v-160H620v160Z\"/>\n",
              "  </svg>\n",
              "    </button>\n",
              "\n",
              "  <style>\n",
              "    .colab-df-container {\n",
              "      display:flex;\n",
              "      gap: 12px;\n",
              "    }\n",
              "\n",
              "    .colab-df-convert {\n",
              "      background-color: #E8F0FE;\n",
              "      border: none;\n",
              "      border-radius: 50%;\n",
              "      cursor: pointer;\n",
              "      display: none;\n",
              "      fill: #1967D2;\n",
              "      height: 32px;\n",
              "      padding: 0 0 0 0;\n",
              "      width: 32px;\n",
              "    }\n",
              "\n",
              "    .colab-df-convert:hover {\n",
              "      background-color: #E2EBFA;\n",
              "      box-shadow: 0px 1px 2px rgba(60, 64, 67, 0.3), 0px 1px 3px 1px rgba(60, 64, 67, 0.15);\n",
              "      fill: #174EA6;\n",
              "    }\n",
              "\n",
              "    .colab-df-buttons div {\n",
              "      margin-bottom: 4px;\n",
              "    }\n",
              "\n",
              "    [theme=dark] .colab-df-convert {\n",
              "      background-color: #3B4455;\n",
              "      fill: #D2E3FC;\n",
              "    }\n",
              "\n",
              "    [theme=dark] .colab-df-convert:hover {\n",
              "      background-color: #434B5C;\n",
              "      box-shadow: 0px 1px 3px 1px rgba(0, 0, 0, 0.15);\n",
              "      filter: drop-shadow(0px 1px 2px rgba(0, 0, 0, 0.3));\n",
              "      fill: #FFFFFF;\n",
              "    }\n",
              "  </style>\n",
              "\n",
              "    <script>\n",
              "      const buttonEl =\n",
              "        document.querySelector('#df-658694d7-c777-446f-b9a6-d26224702afd button.colab-df-convert');\n",
              "      buttonEl.style.display =\n",
              "        google.colab.kernel.accessAllowed ? 'block' : 'none';\n",
              "\n",
              "      async function convertToInteractive(key) {\n",
              "        const element = document.querySelector('#df-658694d7-c777-446f-b9a6-d26224702afd');\n",
              "        const dataTable =\n",
              "          await google.colab.kernel.invokeFunction('convertToInteractive',\n",
              "                                                    [key], {});\n",
              "        if (!dataTable) return;\n",
              "\n",
              "        const docLinkHtml = 'Like what you see? Visit the ' +\n",
              "          '<a target=\"_blank\" href=https://colab.research.google.com/notebooks/data_table.ipynb>data table notebook</a>'\n",
              "          + ' to learn more about interactive tables.';\n",
              "        element.innerHTML = '';\n",
              "        dataTable['output_type'] = 'display_data';\n",
              "        await google.colab.output.renderOutput(dataTable, element);\n",
              "        const docLink = document.createElement('div');\n",
              "        docLink.innerHTML = docLinkHtml;\n",
              "        element.appendChild(docLink);\n",
              "      }\n",
              "    </script>\n",
              "  </div>\n",
              "\n",
              "\n",
              "    <div id=\"df-78b35d16-06a9-413f-ab67-d6e55119a789\">\n",
              "      <button class=\"colab-df-quickchart\" onclick=\"quickchart('df-78b35d16-06a9-413f-ab67-d6e55119a789')\"\n",
              "                title=\"Suggest charts\"\n",
              "                style=\"display:none;\">\n",
              "\n",
              "<svg xmlns=\"http://www.w3.org/2000/svg\" height=\"24px\"viewBox=\"0 0 24 24\"\n",
              "     width=\"24px\">\n",
              "    <g>\n",
              "        <path d=\"M19 3H5c-1.1 0-2 .9-2 2v14c0 1.1.9 2 2 2h14c1.1 0 2-.9 2-2V5c0-1.1-.9-2-2-2zM9 17H7v-7h2v7zm4 0h-2V7h2v10zm4 0h-2v-4h2v4z\"/>\n",
              "    </g>\n",
              "</svg>\n",
              "      </button>\n",
              "\n",
              "<style>\n",
              "  .colab-df-quickchart {\n",
              "      --bg-color: #E8F0FE;\n",
              "      --fill-color: #1967D2;\n",
              "      --hover-bg-color: #E2EBFA;\n",
              "      --hover-fill-color: #174EA6;\n",
              "      --disabled-fill-color: #AAA;\n",
              "      --disabled-bg-color: #DDD;\n",
              "  }\n",
              "\n",
              "  [theme=dark] .colab-df-quickchart {\n",
              "      --bg-color: #3B4455;\n",
              "      --fill-color: #D2E3FC;\n",
              "      --hover-bg-color: #434B5C;\n",
              "      --hover-fill-color: #FFFFFF;\n",
              "      --disabled-bg-color: #3B4455;\n",
              "      --disabled-fill-color: #666;\n",
              "  }\n",
              "\n",
              "  .colab-df-quickchart {\n",
              "    background-color: var(--bg-color);\n",
              "    border: none;\n",
              "    border-radius: 50%;\n",
              "    cursor: pointer;\n",
              "    display: none;\n",
              "    fill: var(--fill-color);\n",
              "    height: 32px;\n",
              "    padding: 0;\n",
              "    width: 32px;\n",
              "  }\n",
              "\n",
              "  .colab-df-quickchart:hover {\n",
              "    background-color: var(--hover-bg-color);\n",
              "    box-shadow: 0 1px 2px rgba(60, 64, 67, 0.3), 0 1px 3px 1px rgba(60, 64, 67, 0.15);\n",
              "    fill: var(--button-hover-fill-color);\n",
              "  }\n",
              "\n",
              "  .colab-df-quickchart-complete:disabled,\n",
              "  .colab-df-quickchart-complete:disabled:hover {\n",
              "    background-color: var(--disabled-bg-color);\n",
              "    fill: var(--disabled-fill-color);\n",
              "    box-shadow: none;\n",
              "  }\n",
              "\n",
              "  .colab-df-spinner {\n",
              "    border: 2px solid var(--fill-color);\n",
              "    border-color: transparent;\n",
              "    border-bottom-color: var(--fill-color);\n",
              "    animation:\n",
              "      spin 1s steps(1) infinite;\n",
              "  }\n",
              "\n",
              "  @keyframes spin {\n",
              "    0% {\n",
              "      border-color: transparent;\n",
              "      border-bottom-color: var(--fill-color);\n",
              "      border-left-color: var(--fill-color);\n",
              "    }\n",
              "    20% {\n",
              "      border-color: transparent;\n",
              "      border-left-color: var(--fill-color);\n",
              "      border-top-color: var(--fill-color);\n",
              "    }\n",
              "    30% {\n",
              "      border-color: transparent;\n",
              "      border-left-color: var(--fill-color);\n",
              "      border-top-color: var(--fill-color);\n",
              "      border-right-color: var(--fill-color);\n",
              "    }\n",
              "    40% {\n",
              "      border-color: transparent;\n",
              "      border-right-color: var(--fill-color);\n",
              "      border-top-color: var(--fill-color);\n",
              "    }\n",
              "    60% {\n",
              "      border-color: transparent;\n",
              "      border-right-color: var(--fill-color);\n",
              "    }\n",
              "    80% {\n",
              "      border-color: transparent;\n",
              "      border-right-color: var(--fill-color);\n",
              "      border-bottom-color: var(--fill-color);\n",
              "    }\n",
              "    90% {\n",
              "      border-color: transparent;\n",
              "      border-bottom-color: var(--fill-color);\n",
              "    }\n",
              "  }\n",
              "</style>\n",
              "\n",
              "      <script>\n",
              "        async function quickchart(key) {\n",
              "          const quickchartButtonEl =\n",
              "            document.querySelector('#' + key + ' button');\n",
              "          quickchartButtonEl.disabled = true;  // To prevent multiple clicks.\n",
              "          quickchartButtonEl.classList.add('colab-df-spinner');\n",
              "          try {\n",
              "            const charts = await google.colab.kernel.invokeFunction(\n",
              "                'suggestCharts', [key], {});\n",
              "          } catch (error) {\n",
              "            console.error('Error during call to suggestCharts:', error);\n",
              "          }\n",
              "          quickchartButtonEl.classList.remove('colab-df-spinner');\n",
              "          quickchartButtonEl.classList.add('colab-df-quickchart-complete');\n",
              "        }\n",
              "        (() => {\n",
              "          let quickchartButtonEl =\n",
              "            document.querySelector('#df-78b35d16-06a9-413f-ab67-d6e55119a789 button');\n",
              "          quickchartButtonEl.style.display =\n",
              "            google.colab.kernel.accessAllowed ? 'block' : 'none';\n",
              "        })();\n",
              "      </script>\n",
              "    </div>\n",
              "    </div>\n",
              "  </div>\n"
            ],
            "application/vnd.google.colaboratory.intrinsic+json": {
              "type": "dataframe",
              "repr_error": "0"
            }
          },
          "metadata": {},
          "execution_count": 3
        }
      ],
      "source": [
        "df = pd.read_csv('tweets_coronavirus.csv', encoding='latin-1')\n",
        "df.sample(4)"
      ]
    },
    {
      "cell_type": "markdown",
      "metadata": {
        "id": "m2OiDog9ZBlS"
      },
      "source": [
        "Для каждого твитта указано:\n",
        "\n",
        "\n",
        "*   UserName - имя пользователя, заменено на целое число для анонимности\n",
        "*   ScreenName - отображающееся имя пользователя, заменено на целое число для анонимности\n",
        "*   Location - местоположение\n",
        "*   TweetAt - дата создания твитта\n",
        "*   OriginalTweet - текст твитта\n",
        "*   Sentiment - эмоциональная окраска твитта (целевая переменная)\n",
        "\n"
      ]
    },
    {
      "cell_type": "markdown",
      "metadata": {
        "id": "pZTMseDkhTC7"
      },
      "source": [
        "## Задание 1 Подготовка (0.5 балла)"
      ]
    },
    {
      "cell_type": "markdown",
      "metadata": {
        "id": "Xx2-odn9hdAW"
      },
      "source": [
        "Целевая переменная находится в колонке `Sentiment`.  Преобразуйте ее таким образом, чтобы она стала бинарной: 1 - если у твитта положительная или очень положительная эмоциональная окраска и 0 - если отрицательная или очень отрицательная."
      ]
    },
    {
      "cell_type": "code",
      "execution_count": 4,
      "metadata": {
        "colab": {
          "base_uri": "https://localhost:8080/",
          "height": 234
        },
        "id": "8YGn8LjrapQV",
        "outputId": "cd9fdd87-1e3a-4526-be59-091353f8dfd6"
      },
      "outputs": [
        {
          "output_type": "execute_result",
          "data": {
            "text/plain": [
              "Sentiment\n",
              "Positive              11422\n",
              "Negative               9917\n",
              "Extremely Positive     6624\n",
              "Extremely Negative     5481\n",
              "Name: count, dtype: int64"
            ],
            "text/html": [
              "<div>\n",
              "<style scoped>\n",
              "    .dataframe tbody tr th:only-of-type {\n",
              "        vertical-align: middle;\n",
              "    }\n",
              "\n",
              "    .dataframe tbody tr th {\n",
              "        vertical-align: top;\n",
              "    }\n",
              "\n",
              "    .dataframe thead th {\n",
              "        text-align: right;\n",
              "    }\n",
              "</style>\n",
              "<table border=\"1\" class=\"dataframe\">\n",
              "  <thead>\n",
              "    <tr style=\"text-align: right;\">\n",
              "      <th></th>\n",
              "      <th>count</th>\n",
              "    </tr>\n",
              "    <tr>\n",
              "      <th>Sentiment</th>\n",
              "      <th></th>\n",
              "    </tr>\n",
              "  </thead>\n",
              "  <tbody>\n",
              "    <tr>\n",
              "      <th>Positive</th>\n",
              "      <td>11422</td>\n",
              "    </tr>\n",
              "    <tr>\n",
              "      <th>Negative</th>\n",
              "      <td>9917</td>\n",
              "    </tr>\n",
              "    <tr>\n",
              "      <th>Extremely Positive</th>\n",
              "      <td>6624</td>\n",
              "    </tr>\n",
              "    <tr>\n",
              "      <th>Extremely Negative</th>\n",
              "      <td>5481</td>\n",
              "    </tr>\n",
              "  </tbody>\n",
              "</table>\n",
              "</div><br><label><b>dtype:</b> int64</label>"
            ]
          },
          "metadata": {},
          "execution_count": 4
        }
      ],
      "source": [
        "df['Sentiment'].value_counts()"
      ]
    },
    {
      "cell_type": "code",
      "execution_count": 6,
      "metadata": {
        "id": "ZaQKQ1zEjP15"
      },
      "outputs": [],
      "source": [
        "df['Sentiment_binary'] = df['Sentiment'].apply(\n",
        "    lambda x: 1 if x in ['Positive', 'Extremely Positive'] else 0 if x in ['Negative', 'Extremely Negative'] else None)\n",
        "\n",
        "df['Sentiment_binary'] = df['Sentiment_binary'].astype(int)"
      ]
    },
    {
      "cell_type": "markdown",
      "metadata": {
        "id": "pGq1FxJ-kBo5"
      },
      "source": [
        "Сбалансированы ли классы?"
      ]
    },
    {
      "cell_type": "code",
      "execution_count": 7,
      "metadata": {
        "colab": {
          "base_uri": "https://localhost:8080/"
        },
        "id": "a7gdNtxckK5V",
        "outputId": "5f36a89c-633c-4678-a5d2-c10e827a0704"
      },
      "outputs": [
        {
          "output_type": "stream",
          "name": "stdout",
          "text": [
            "Sentiment_binary\n",
            "1    53.958857\n",
            "0    46.041143\n",
            "Name: proportion, dtype: float64\n"
          ]
        }
      ],
      "source": [
        "df['Sentiment_binary'].value_counts()\n",
        "print(df['Sentiment_binary'].value_counts(normalize=True)*100)"
      ]
    },
    {
      "cell_type": "markdown",
      "metadata": {
        "id": "Ng8BCelMkWb0"
      },
      "source": [
        "**Ответ:**\n",
        "классы сбалансированы, %-ое соотношение практически одинаковое"
      ]
    },
    {
      "cell_type": "markdown",
      "metadata": {
        "id": "qmSIBSsLk5Zz"
      },
      "source": [
        "Выведете на экран информацию о пропусках в данных. Если пропуски присутствуют заполните их строкой 'Unknown'."
      ]
    },
    {
      "cell_type": "code",
      "execution_count": 8,
      "metadata": {
        "colab": {
          "base_uri": "https://localhost:8080/"
        },
        "id": "UhUVRkR5kxa7",
        "outputId": "c7469324-9348-40e2-adc0-1b6c94184cd0"
      },
      "outputs": [
        {
          "output_type": "stream",
          "name": "stdout",
          "text": [
            "UserName               0\n",
            "ScreenName             0\n",
            "Location            7049\n",
            "TweetAt                0\n",
            "OriginalTweet          0\n",
            "Sentiment              0\n",
            "Sentiment_binary       0\n",
            "dtype: int64\n",
            "\n",
            " UserName            0\n",
            "ScreenName          0\n",
            "Location            0\n",
            "TweetAt             0\n",
            "OriginalTweet       0\n",
            "Sentiment           0\n",
            "Sentiment_binary    0\n",
            "dtype: int64\n"
          ]
        }
      ],
      "source": [
        "print(df.isnull().sum())\n",
        "df = df.fillna('Unknown')\n",
        "print('\\n', df.isnull().sum())"
      ]
    },
    {
      "cell_type": "markdown",
      "metadata": {
        "id": "1tzt27tfjUpq"
      },
      "source": [
        "Разделите данные на обучающие и тестовые в соотношении 7 : 3 и укажите `random_state=0`"
      ]
    },
    {
      "cell_type": "code",
      "execution_count": 9,
      "metadata": {
        "id": "xSLOA9tIj9Z6"
      },
      "outputs": [],
      "source": [
        "from sklearn.model_selection import train_test_split\n",
        "\n",
        "train, test =  train_test_split(\n",
        "    df, test_size=0.3, random_state=0\n",
        ")\n",
        "\n",
        "train.reset_index(inplace=True)\n",
        "test.reset_index(inplace=True)"
      ]
    },
    {
      "cell_type": "markdown",
      "metadata": {
        "id": "J9RrPUsJlL60"
      },
      "source": [
        "## Задание 2 Токенизация (3 балла)"
      ]
    },
    {
      "cell_type": "markdown",
      "metadata": {
        "id": "2Dz_b7Xopc_R"
      },
      "source": [
        "Постройте словарь на основе обучающей выборки и посчитайте количество встреч каждого токена с использованием самой простой токенизации - деления текстов по пробельным символам и приведения токенов в нижний регистр."
      ]
    },
    {
      "cell_type": "code",
      "execution_count": 10,
      "metadata": {
        "colab": {
          "base_uri": "https://localhost:8080/"
        },
        "id": "SFr67WOJphny",
        "outputId": "4d971b15-0c7e-4c7a-dd59-0cf486fc4893"
      },
      "outputs": [
        {
          "output_type": "stream",
          "name": "stdout",
          "text": [
            "[('the', 26815), ('to', 23373), ('and', 14684), ('of', 13012), ('a', 11737), ('in', 11198), ('for', 8566), ('#coronavirus', 8223), ('is', 7383), ('are', 7050)]\n"
          ]
        }
      ],
      "source": [
        "from collections import Counter\n",
        "\n",
        "tokens = []\n",
        "for text in train['OriginalTweet']:\n",
        "    tokens.extend(word.lower() for word in text.split())\n",
        "\n",
        "token_counts = Counter(tokens)\n",
        "\n",
        "print(token_counts.most_common(10))"
      ]
    },
    {
      "cell_type": "markdown",
      "metadata": {
        "id": "Pe0h2Jqkpnao"
      },
      "source": [
        "Какой размер словаря получился?"
      ]
    },
    {
      "cell_type": "code",
      "execution_count": 11,
      "metadata": {
        "colab": {
          "base_uri": "https://localhost:8080/"
        },
        "id": "umyENA7EpokD",
        "outputId": "fb0a972c-37c2-4fd8-a511-9dc7b8225508"
      },
      "outputs": [
        {
          "output_type": "stream",
          "name": "stdout",
          "text": [
            "79755\n"
          ]
        }
      ],
      "source": [
        "print(len(token_counts))"
      ]
    },
    {
      "cell_type": "markdown",
      "metadata": {
        "id": "0d2G1Z-Qpqkd"
      },
      "source": [
        "Выведите 10 самых популярных токенов с количеством встреч каждого из них. Объясните, почему именно эти токены в топе."
      ]
    },
    {
      "cell_type": "code",
      "execution_count": 12,
      "metadata": {
        "colab": {
          "base_uri": "https://localhost:8080/"
        },
        "id": "Impi32a_pssg",
        "outputId": "09d26f6f-e09e-473f-de87-142f1b6b9240"
      },
      "outputs": [
        {
          "output_type": "stream",
          "name": "stdout",
          "text": [
            "the: 26815\n",
            "to: 23373\n",
            "and: 14684\n",
            "of: 13012\n",
            "a: 11737\n",
            "in: 11198\n",
            "for: 8566\n",
            "#coronavirus: 8223\n",
            "is: 7383\n",
            "are: 7050\n"
          ]
        }
      ],
      "source": [
        "top10 = token_counts.most_common(10)\n",
        "for token, count in top10:\n",
        "    print(f\"{token}: {count}\")"
      ]
    },
    {
      "cell_type": "markdown",
      "metadata": {
        "id": "ZtuJCD0ApuFd"
      },
      "source": [
        "**Ответ:**\n",
        "самые частые слова — это функциональные словая, которые встречаются практически в каждом предложении. Они необходимы для построения конструкции предложений, а не для выражения основной смысловой нагрузки."
      ]
    },
    {
      "cell_type": "markdown",
      "metadata": {
        "id": "T7DTQDkWsVYp"
      },
      "source": [
        "Удалите стоп-слова из словаря и выведите новый топ-10 токенов (и количество встреч) по популярности.  Что можно сказать  о нем?"
      ]
    },
    {
      "cell_type": "code",
      "execution_count": 13,
      "metadata": {
        "colab": {
          "base_uri": "https://localhost:8080/"
        },
        "id": "8csSAdgTsnFx",
        "outputId": "ebba5c05-14d5-43c4-8fee-87d29eb51137"
      },
      "outputs": [
        {
          "output_type": "stream",
          "name": "stdout",
          "text": [
            "#coronavirus: 8223\n",
            "prices: 3891\n",
            "food: 3820\n",
            "grocery: 3469\n",
            "supermarket: 3288\n",
            "people: 3175\n",
            "covid-19: 3173\n",
            "store: 3155\n",
            "#covid19: 2471\n",
            "&amp;: 2314\n"
          ]
        },
        {
          "output_type": "stream",
          "name": "stderr",
          "text": [
            "[nltk_data] Downloading package stopwords to /root/nltk_data...\n",
            "[nltk_data]   Unzipping corpora/stopwords.zip.\n"
          ]
        }
      ],
      "source": [
        "import nltk\n",
        "from nltk.corpus import stopwords\n",
        "nltk.download('stopwords')\n",
        "\n",
        "stop_words = set(stopwords.words('english'))\n",
        "\n",
        "token_counts_no_stop = Counter({token: count for token, count in token_counts.items()\n",
        "                                if token not in stop_words})\n",
        "\n",
        "top10_no_stop = token_counts_no_stop.most_common(10)\n",
        "for token, count in top10_no_stop:\n",
        "    print(f\"{token}: {count}\")"
      ]
    },
    {
      "cell_type": "markdown",
      "metadata": {
        "id": "LZH0x2Lzs-Dh"
      },
      "source": [
        "**Ответ:**  \n",
        "датасает характеризует тематику продовольствия (магазины, супермаркеты и продовольствие) в короновирусные времена"
      ]
    },
    {
      "cell_type": "markdown",
      "metadata": {
        "id": "TKSGRyI-uor0"
      },
      "source": [
        "Также выведите 20 самых непопулярных слов (если самых непопулярных слов больше, выведите любые 20 из них) Почему эти токены непопулярны, требуется ли как-то дополнительно работать с ними?"
      ]
    },
    {
      "cell_type": "code",
      "execution_count": 14,
      "metadata": {
        "colab": {
          "base_uri": "https://localhost:8080/"
        },
        "id": "moArbwfvun9t",
        "outputId": "3dcf953c-8926-4f39-dc6d-d915060a821f"
      },
      "outputs": [
        {
          "output_type": "stream",
          "name": "stdout",
          "text": [
            "https://t.co/7j2y3rsld9: 1\n",
            "@680news: 1\n",
            "@torontopearson: 1\n",
            "nothing...: 1\n",
            "flew: 1\n",
            "wage!: 1\n",
            "renewing: 1\n",
            "playersãâ: 1\n",
            "subsidise: 1\n",
            "non-playing: 1\n",
            "premiership: 1\n",
            "https://t.co/iaek4fwsgz: 1\n",
            "@srinivasiyc: 1\n",
            "https://t.co/zjcl195vqs: 1\n",
            "#southkerry: 1\n",
            "#skelligcoast2kms: 1\n",
            "@skelligsix18: 1\n",
            "closer!): 1\n",
            "coast!: 1\n",
            "skellig: 1\n"
          ]
        }
      ],
      "source": [
        "least_common_20 = token_counts_no_stop.most_common()[::-1][:20]\n",
        "for token, count in least_common_20:\n",
        "    print(f\"{token}: {count}\")"
      ]
    },
    {
      "cell_type": "markdown",
      "metadata": {
        "id": "uRp3J1gQunlR"
      },
      "source": [
        "**Ответ:**  эти токены соержат странные символы, а так же знаки препинания и служебные символы. Да, кажется что было бы неплохо очистить данные токены\n",
        "\n"
      ]
    },
    {
      "cell_type": "markdown",
      "metadata": {
        "id": "wx9LQOSPzvjV"
      },
      "source": [
        "Теперь воспользуемся токенайзером получше - TweetTokenizer из библиотеки nltk. Примените его и посмотрите на топ-10 популярных слов. Чем он отличается от топа, который получался раньше? Почему?"
      ]
    },
    {
      "cell_type": "code",
      "execution_count": 15,
      "metadata": {
        "colab": {
          "base_uri": "https://localhost:8080/"
        },
        "id": "2G1UkyVxzvFY",
        "outputId": "0deb40db-459c-48cb-a384-4d21299d3cab"
      },
      "outputs": [
        {
          "output_type": "stream",
          "name": "stdout",
          "text": [
            "the: 26993\n",
            ".: 24118\n",
            "to: 23478\n",
            ",: 17571\n",
            "and: 14825\n",
            "of: 13044\n",
            "a: 11891\n",
            "in: 11348\n",
            "?: 9524\n",
            "#coronavirus: 8808\n"
          ]
        }
      ],
      "source": [
        "from nltk.tokenize import TweetTokenizer\n",
        "\n",
        "# -- YOUR CODE HERE --\n",
        "tokenizer_2 = TweetTokenizer()\n",
        "\n",
        "all_tokens = []\n",
        "for text in train['OriginalTweet']:\n",
        "    tokens = tokenizer_2.tokenize(text.lower())\n",
        "    tokens = [token for token in tokens]\n",
        "    all_tokens.extend(tokens)\n",
        "\n",
        "token_counts_tt = Counter(all_tokens)\n",
        "top10_tt = token_counts_tt.most_common(10)\n",
        "for token, count in top10_tt:\n",
        "    print(f\"{token}: {count}\")"
      ]
    },
    {
      "cell_type": "markdown",
      "metadata": {
        "id": "50eVUnJN1Zxl"
      },
      "source": [
        "**Ответ:**  В топе так же частицы и предлоги, но стали так же появляться и знаки препинания"
      ]
    },
    {
      "cell_type": "markdown",
      "metadata": {
        "id": "1gqQgiMs11bs"
      },
      "source": [
        "Удалите из словаря стоп-слова и пунктуацию, посмотрите на новый топ-10 слов с количеством встреч, есть ли теперь в нем что-то не похожее на слова?"
      ]
    },
    {
      "cell_type": "code",
      "execution_count": 16,
      "metadata": {
        "colab": {
          "base_uri": "https://localhost:8080/"
        },
        "id": "0yHWdFrp0Mup",
        "outputId": "b623de6d-0b95-4948-e00e-5c0c9bcaa761"
      },
      "outputs": [
        {
          "output_type": "stream",
          "name": "stdout",
          "text": [
            "#coronavirus: 8808\n",
            "â: 7415\n",
            ": 7311\n",
            "19: 7167\n",
            "covid: 6253\n",
            "prices: 4601\n",
            ": 4372\n",
            "food: 4367\n",
            "store: 3877\n",
            "supermarket: 3805\n"
          ]
        }
      ],
      "source": [
        "punct = set(punctuation)\n",
        "\n",
        "all_tokens = []\n",
        "for text in train['OriginalTweet']:\n",
        "    tokens = tokenizer_2.tokenize(text.lower())\n",
        "    tokens = [token for token in tokens if token not in stop_words and token not in punct]\n",
        "    all_tokens.extend(tokens)\n",
        "\n",
        "counter = Counter(all_tokens)\n",
        "top10 = counter.most_common(10)\n",
        "\n",
        "for word, cnt in top10:\n",
        "    print(f\"{word}: {cnt}\")"
      ]
    },
    {
      "cell_type": "markdown",
      "metadata": {
        "id": "8ZJqXELP_Yxy"
      },
      "source": [
        "**Ответ:** Предлоги очистились, но все равно есть символы пунктуации и странные символы"
      ]
    },
    {
      "cell_type": "markdown",
      "metadata": {
        "id": "rzXjMsSB_kXB"
      },
      "source": [
        "Скорее всего в некоторых топах были неотображаемые символы или отдельные буквы не латинского алфавита. Уберем их: удалите из словаря токены из одного символа, позиция которого в таблице Unicode 128 и более (`ord(x) >= 128`)\n",
        "\n",
        "Выведите топ-10 самых популярных и топ-20 непопулярных слов. Чем полученные топы отличаются от итоговых топов, полученных при использовании токенизации по пробелам? Что теперь лучше, а что хуже?"
      ]
    },
    {
      "cell_type": "code",
      "execution_count": 17,
      "metadata": {
        "id": "1695hlkS_1-J"
      },
      "outputs": [],
      "source": [
        "def is_good_token(token):\n",
        "    if token in stop_words or token in punct:\n",
        "        return False\n",
        "    if len(token) == 1 and ord(token) >= 128:\n",
        "        return False\n",
        "    return True\n",
        "\n",
        "punct = set(punctuation)\n",
        "\n",
        "all_tokens = []\n",
        "for text in train['OriginalTweet']:\n",
        "    tokens = tokenizer_2.tokenize(text.lower())\n",
        "    tokens = [token for token in tokens if is_good_token(token)]\n",
        "    all_tokens.extend(tokens)\n",
        "\n",
        "counter = Counter(all_tokens)\n",
        "top10 = counter.most_common(10)\n",
        "bottom20 = counter.most_common()[-20:]"
      ]
    },
    {
      "cell_type": "code",
      "execution_count": 18,
      "metadata": {
        "colab": {
          "base_uri": "https://localhost:8080/"
        },
        "id": "oKHumkWuke1I",
        "outputId": "a17ee2c8-74a7-49f9-897b-91982ede54e1"
      },
      "outputs": [
        {
          "output_type": "stream",
          "name": "stdout",
          "text": [
            "Топ 10 самых популярных слов:\n",
            "#coronavirus: 8808\n",
            "19: 7167\n",
            "covid: 6253\n",
            "prices: 4601\n",
            "food: 4367\n",
            "store: 3877\n",
            "supermarket: 3805\n",
            "grocery: 3523\n",
            "people: 3463\n",
            "#covid19: 2589\n"
          ]
        }
      ],
      "source": [
        "print('Топ 10 самых популярных слов:')\n",
        "for word, cnt in top10:\n",
        "    print(f\"{word}: {cnt}\")"
      ]
    },
    {
      "cell_type": "code",
      "execution_count": 19,
      "metadata": {
        "colab": {
          "base_uri": "https://localhost:8080/"
        },
        "id": "AABz0oatke1I",
        "outputId": "31a0c0a2-574b-4cb9-c3b3-1281b830584a"
      },
      "outputs": [
        {
          "output_type": "stream",
          "name": "stdout",
          "text": [
            "Топ20 наименее популярных слов:\n",
            "https://t.co/lw1r0rm7xs: 1\n",
            "https://t.co/5cbliqzx7l: 1\n",
            "now.when: 1\n",
            "milion: 1\n",
            "skellig: 1\n",
            "@skelligsix18: 1\n",
            "#skelligcoast2kms: 1\n",
            "#southkerry: 1\n",
            "https://t.co/zjcl195vqs: 1\n",
            "@srinivasiyc: 1\n",
            "https://t.co/iaek4fwsgz: 1\n",
            "premiership: 1\n",
            "non-playing: 1\n",
            "subsidise: 1\n",
            "playersã: 1\n",
            "renewing: 1\n",
            "flew: 1\n",
            "@torontopearson: 1\n",
            "@680news: 1\n",
            "https://t.co/7j2y3rsld9: 1\n"
          ]
        }
      ],
      "source": [
        "print('Топ20 наименее популярных слов:')\n",
        "for word, cnt in bottom20:\n",
        "    print(f\"{word}: {cnt}\")"
      ]
    },
    {
      "cell_type": "markdown",
      "metadata": {
        "id": "KzjHAKIlDvc6"
      },
      "source": [
        "**Ответ:**  Топ слов выглядит уже более менее чисто и прилично, однако знаки @, # и ссылки кажется что тоже стоит очищать"
      ]
    },
    {
      "cell_type": "markdown",
      "metadata": {
        "id": "EcDf9_6HB2zm"
      },
      "source": [
        "Выведите топ-10 популярных хештегов (токены, первые символы которых - #) с количеством встреч. Что можно сказать о них?"
      ]
    },
    {
      "cell_type": "code",
      "execution_count": 20,
      "metadata": {
        "id": "zk4fygCUBw3l"
      },
      "outputs": [],
      "source": [
        "hashtags = [token for token in all_tokens if token.startswith(\"#\")]\n",
        "hashtag_counter = Counter(hashtags)\n",
        "top10_hashtags = hashtag_counter.most_common(10)"
      ]
    },
    {
      "cell_type": "code",
      "execution_count": 21,
      "metadata": {
        "colab": {
          "base_uri": "https://localhost:8080/"
        },
        "id": "DRl8jzB0ke1J",
        "outputId": "2b7cef68-dd06-4b86-84e3-f76a7cfa534c"
      },
      "outputs": [
        {
          "output_type": "stream",
          "name": "stdout",
          "text": [
            "Топ10 популярных хештегов:\n",
            "#coronavirus: 8808\n",
            "#covid19: 2589\n",
            "#covid_19: 1734\n",
            "#covid2019: 946\n",
            "#toiletpaper: 744\n",
            "#covid: 641\n",
            "#socialdistancing: 465\n",
            "#coronacrisis: 448\n",
            "#pandemic: 257\n",
            "#coronaviruspandemic: 249\n"
          ]
        }
      ],
      "source": [
        "print('Топ10 популярных хештегов:')\n",
        "for tag, count in top10_hashtags:\n",
        "    print(f\"{tag}: {count}\")"
      ]
    },
    {
      "cell_type": "markdown",
      "metadata": {
        "id": "-6NeNWBkDxM7"
      },
      "source": [
        "**Ответ:** 8 из 10 хештегов относится к теме коронавируса, одна все они записаны по разному, без единой стандартизации"
      ]
    },
    {
      "cell_type": "markdown",
      "metadata": {
        "id": "LLYBg7caD5GA"
      },
      "source": [
        "То же самое проделайте для ссылок на сайт https://t.co Сравнима ли популярность ссылок с популярностью хештегов? Будет ли информация о ссылке на конкретную страницу полезна?"
      ]
    },
    {
      "cell_type": "code",
      "execution_count": 22,
      "metadata": {
        "id": "MXbm1oeaCK9S"
      },
      "outputs": [],
      "source": [
        "tco_links = [token for token in all_tokens if token.startswith(\"https://t.co\")]\n",
        "tco_counter = Counter(tco_links)\n",
        "top10_tco = tco_counter.most_common(10)"
      ]
    },
    {
      "cell_type": "code",
      "execution_count": 23,
      "metadata": {
        "colab": {
          "base_uri": "https://localhost:8080/"
        },
        "id": "neWwHTlKke1J",
        "outputId": "941eee3e-4d8a-45b6-b89c-86f6d20b6fa1"
      },
      "outputs": [
        {
          "output_type": "stream",
          "name": "stdout",
          "text": [
            "Топ 10 ссылок на https://t.co:\n",
            "https://t.co/oxa7swtond: 5\n",
            "https://t.co/gp3eusapl8: 4\n",
            "https://t.co/deftrui1pfãâ: 3\n",
            "https://t.co/wrlhyzizaa: 3\n",
            "https://t.co/kuwipf1kqw: 3\n",
            "https://t.co/zjnrx6dkkn: 3\n",
            "https://t.co/3gbbdpdjat: 3\n",
            "https://t.co/e2znxajpre: 3\n",
            "https://t.co/catkegayoy: 3\n",
            "https://t.co/g63rp042ho: 3\n"
          ]
        }
      ],
      "source": [
        "print('Топ 10 ссылок на https://t.co:')\n",
        "for link, count in top10_tco:\n",
        "    print(f\"{link}: {count}\")"
      ]
    },
    {
      "cell_type": "markdown",
      "metadata": {
        "id": "at6lRYZ8A07N"
      },
      "source": [
        "**Ответ:** Популярность ссылок значительно ниже, чем у топовых хештегов. Информация о ссылке на конкретную страницу могла бы быть полезна, если бы их популярность была выше."
      ]
    },
    {
      "cell_type": "markdown",
      "metadata": {
        "id": "IOGdUU1kBU1D"
      },
      "source": [
        "Используем опыт предыдущих экспериментов и напишем собственный токенайзер, улучшив TweetTokenizer. Функция tokenize должна:\n",
        "\n",
        "\n",
        "\n",
        "*   Привести текст в нижний регистр\n",
        "*   Применить TweetTokenizer для  выделения токенов\n",
        "*   Удалить стоп-слова, пунктуацию, токены из одного символа с позицией в таблице Unicode 128 и более,  ссылки на t.co\n",
        "\n"
      ]
    },
    {
      "cell_type": "code",
      "execution_count": 24,
      "metadata": {
        "id": "ctEsB6xkFrrK"
      },
      "outputs": [],
      "source": [
        "def custom_tokenizer(text, punct=punctuation, stop_words=stop_words):\n",
        "\n",
        "    text = text.lower()\n",
        "\n",
        "    tokenizer = TweetTokenizer()\n",
        "    tokens = tokenizer.tokenize(text)\n",
        "\n",
        "    filtered_tokens = []\n",
        "    for token in tokens:\n",
        "        if token in stop_words:\n",
        "            continue\n",
        "\n",
        "        if all(char in punctuation for char in token):\n",
        "            continue\n",
        "\n",
        "        if len(token) == 1 and ord(token) >= 128:\n",
        "            continue\n",
        "\n",
        "        if token.startswith('https://t.co'):\n",
        "            continue\n",
        "        filtered_tokens.append(token)\n",
        "\n",
        "    return filtered_tokens\n"
      ]
    },
    {
      "cell_type": "code",
      "execution_count": 25,
      "metadata": {
        "colab": {
          "base_uri": "https://localhost:8080/"
        },
        "id": "gQZ9MmHXm5Kb",
        "outputId": "7e704071-da0d-4c2d-a317-57ab8efbc819"
      },
      "outputs": [
        {
          "output_type": "execute_result",
          "data": {
            "text/plain": [
              "['sample', 'text', '@sample_text', '#sampletext']"
            ]
          },
          "metadata": {},
          "execution_count": 25
        }
      ],
      "source": [
        "custom_tokenizer('This is sample text!!!! @Sample_text I, \\x92\\x92 https://t.co/sample  #sampletext')"
      ]
    },
    {
      "cell_type": "markdown",
      "metadata": {
        "id": "wURVABmXHk97"
      },
      "source": [
        "## Задание 3 Векторизация текстов (2 балла)"
      ]
    },
    {
      "cell_type": "markdown",
      "metadata": {
        "id": "H44iXkoHIQfN"
      },
      "source": [
        "Обучите CountVectorizer с использованием custom_tokenizer в качестве токенайзера. Как размер полученного словаря соотносится с размером изначального словаря из начала задания 2?"
      ]
    },
    {
      "cell_type": "code",
      "execution_count": 26,
      "metadata": {
        "colab": {
          "base_uri": "https://localhost:8080/"
        },
        "id": "gHn_limQl3BI",
        "outputId": "71a44c8f-ff7e-444d-d543-c4c269daeeb4"
      },
      "outputs": [
        {
          "output_type": "stream",
          "name": "stdout",
          "text": [
            "45268\n"
          ]
        }
      ],
      "source": [
        "from sklearn.feature_extraction.text import CountVectorizer\n",
        "\n",
        "cv = CountVectorizer(tokenizer=custom_tokenizer)\n",
        "\n",
        "cv.fit_transform(train['OriginalTweet'])\n",
        "\n",
        "print(len(cv.vocabulary_))"
      ]
    },
    {
      "cell_type": "markdown",
      "metadata": {
        "id": "gsfmaSGoItUm"
      },
      "source": [
        "**Ответ:** Стал меньше примерно в 2 раза"
      ]
    },
    {
      "cell_type": "markdown",
      "metadata": {
        "id": "lm6UHNmqKZT0"
      },
      "source": [
        "Посмотрим на какой-нибудь конкретный твитт:"
      ]
    },
    {
      "cell_type": "code",
      "execution_count": 27,
      "metadata": {
        "colab": {
          "base_uri": "https://localhost:8080/"
        },
        "id": "aJVjjfqOJh8m",
        "outputId": "e7484a94-df8e-415c-bddf-d9ea5905c89e"
      },
      "outputs": [
        {
          "output_type": "execute_result",
          "data": {
            "text/plain": [
              "('Nice one @SkyNews lets not panic but show ppl in france queueing for food!!! #CoronavirusOutbreak #COVID2019 brainless!! Ffs',\n",
              " 'Negative')"
            ]
          },
          "metadata": {},
          "execution_count": 27
        }
      ],
      "source": [
        "ind = 9023\n",
        "train.iloc[ind]['OriginalTweet'], train.iloc[ind]['Sentiment']"
      ]
    },
    {
      "cell_type": "markdown",
      "metadata": {
        "id": "PBMIHBI5KdaS"
      },
      "source": [
        "Автор твитта не доволен ситуацией с едой во Франции и текст имеет резко негативную окраску.\n",
        "\n",
        "Примените обученный CountVectorizer для векторизации данного текста, и попытайтесь определить самый важный токен и самый неважный токен (токен, компонента которого в векторе максимальна/минимальна, без учета 0). Хорошо ли они определились, почему?"
      ]
    },
    {
      "cell_type": "code",
      "execution_count": 28,
      "metadata": {
        "colab": {
          "base_uri": "https://localhost:8080/"
        },
        "id": "7NcAllaEKsJj",
        "outputId": "8f16ac8b-890f-4116-f57c-a4ebc45a2071"
      },
      "outputs": [
        {
          "output_type": "stream",
          "name": "stdout",
          "text": [
            "Самый важный токен (встречается чаще всего): #coronavirusoutbreak\n",
            "Самый неважный токен (встречается только 1 раз): #coronavirusoutbreak\n"
          ]
        }
      ],
      "source": [
        "vec = cv.transform([train.iloc[ind]['OriginalTweet']])\n",
        "vec_array = vec.toarray()[0]\n",
        "nonzero = np.where(vec_array > 0)[0]\n",
        "max_idx = nonzero[np.argmax(vec_array[nonzero])]\n",
        "min_idx = nonzero[np.argmin(vec_array[nonzero])]\n",
        "\n",
        "reverse_vocab = {v: k for k, v in cv.vocabulary_.items()}\n",
        "most_important_token = reverse_vocab[max_idx]\n",
        "least_important_token = reverse_vocab[min_idx]\n",
        "\n",
        "print(\"Самый важный токен (встречается чаще всего):\", most_important_token)\n",
        "print(\"Самый неважный токен (встречается только 1 раз):\", least_important_token)"
      ]
    },
    {
      "cell_type": "markdown",
      "metadata": {
        "id": "TpEsl1k_NF4T"
      },
      "source": [
        "**Ответ:** Самый важный токен и неважный оказались одинаковыми. Кажется что смотреть количество вхождений слова в текст - не самый надежный фактор важности."
      ]
    },
    {
      "cell_type": "markdown",
      "metadata": {
        "id": "w4DsEQpLO3J6"
      },
      "source": [
        "Теперь примените TfidfVectorizer и  определите самый важный/неважный токены. Хорошо ли определились, почему?"
      ]
    },
    {
      "cell_type": "code",
      "execution_count": 29,
      "metadata": {
        "colab": {
          "base_uri": "https://localhost:8080/"
        },
        "id": "uSNzdK3ENGB3",
        "outputId": "d86d1dc6-9498-4b44-8e86-f00ba67215eb"
      },
      "outputs": [
        {
          "output_type": "stream",
          "name": "stdout",
          "text": [
            "Самый важный токен TF-IDF: brainless\n",
            "Самый неважный токен TF: food\n"
          ]
        }
      ],
      "source": [
        "from sklearn.feature_extraction.text import TfidfVectorizer\n",
        "\n",
        "tfidf = TfidfVectorizer(tokenizer=custom_tokenizer)\n",
        "\n",
        "tfidf.fit(train['OriginalTweet'])\n",
        "tfidf_vec = tfidf.transform([train.iloc[ind]['OriginalTweet']])\n",
        "tfidf_arr = tfidf_vec.toarray()[0]\n",
        "\n",
        "nonzero = np.where(tfidf_arr > 0)[0]\n",
        "max_idx = nonzero[np.argmax(tfidf_arr[nonzero])]\n",
        "min_idx = nonzero[np.argmin(tfidf_arr[nonzero])]\n",
        "\n",
        "reverse_vocab = {v: k for k, v in tfidf.vocabulary_.items()}\n",
        "most_important_token = reverse_vocab[max_idx]\n",
        "least_important_token = reverse_vocab[min_idx]\n",
        "\n",
        "print(f'Самый важный токен TF-IDF: {most_important_token}')\n",
        "print(f'Самый неважный токен TF: {least_important_token}')"
      ]
    },
    {
      "cell_type": "markdown",
      "metadata": {
        "id": "NYao_UhqQADm"
      },
      "source": [
        "**Ответ:**  Тут уже слова определяются лучше. Так как ориентируемся не только на количество попадания слова в данный текст, но и во все текста из обучающего датасета"
      ]
    },
    {
      "cell_type": "markdown",
      "metadata": {
        "id": "LGRJPqfWSesQ"
      },
      "source": [
        "Найдите какой-нибудь положительно окрашенный твитт, где TfidfVectorizer хорошо (полезно для определения окраски) выделяет важный токен, поясните пример.\n",
        "\n",
        "*Подсказка:* явно положительные твитты можно искать при помощи положительных слов (good, great, amazing и т. д.)"
      ]
    },
    {
      "cell_type": "code",
      "execution_count": 30,
      "metadata": {
        "colab": {
          "base_uri": "https://localhost:8080/",
          "height": 892
        },
        "id": "bRbQ2CHiSuJI",
        "outputId": "1e3a2a93-aca9-4922-e95b-fec1fa67ec29"
      },
      "outputs": [
        {
          "output_type": "execute_result",
          "data": {
            "text/plain": [
              "       index  UserName  ScreenName            Location     TweetAt  \\\n",
              "2      28899     39249       84201               India  09-04-2020   \n",
              "764    24206     33394       78346  Hanau, Deutschland  05-04-2020   \n",
              "2484   25561     35102       80054      United Kingdom  06-04-2020   \n",
              "3089   25085     34517       79469       United States  06-04-2020   \n",
              "3106   31956     43106       88058    Oconto Falls, WI  12-04-2020   \n",
              "...      ...       ...         ...                 ...         ...   \n",
              "22132  12629     19108       64060             Unknown  22-03-2020   \n",
              "22799  29459     39962       84914            Shenzhen  09-04-2020   \n",
              "22858  31311     42319       87271                 USA  11-04-2020   \n",
              "23201  16363     23724       68676         Phoenix, AZ  24-03-2020   \n",
              "23241  11042     17199       62151    Barcelona, Spain  21-03-2020   \n",
              "\n",
              "                                           OriginalTweet           Sentiment  \\\n",
              "2      @Canon_India I am very happy.. Great job by @C...  Extremely Positive   \n",
              "764    Lately been happy with the crispr cas9 thing t...            Positive   \n",
              "2484   @Kal_Ajimal Hi Kal, if you have a booking and ...  Extremely Positive   \n",
              "3089   Are u up for the challenge? LetÃÂs do this. ...            Positive   \n",
              "3106   Got this sticker with my @ZaturalHemp order of...  Extremely Positive   \n",
              "...                                                  ...                 ...   \n",
              "22132  So many clients happy they can go basically bu...  Extremely Positive   \n",
              "22799  #covid19 #coronavirus  prevention 75% Alcohol ...  Extremely Positive   \n",
              "22858  We are happy to announce that SwabTek has part...  Extremely Positive   \n",
              "23201  We have made every effort to stay prepared! Ch...  Extremely Positive   \n",
              "23241  I cannot even see the supermarket door and IÃ...  Extremely Positive   \n",
              "\n",
              "       Sentiment_binary  \n",
              "2                     1  \n",
              "764                   1  \n",
              "2484                  1  \n",
              "3089                  1  \n",
              "3106                  1  \n",
              "...                 ...  \n",
              "22132                 1  \n",
              "22799                 1  \n",
              "22858                 1  \n",
              "23201                 1  \n",
              "23241                 1  \n",
              "\n",
              "[64 rows x 8 columns]"
            ],
            "text/html": [
              "\n",
              "  <div id=\"df-396b8de6-235d-4234-9e95-c1c828fe3d42\" class=\"colab-df-container\">\n",
              "    <div>\n",
              "<style scoped>\n",
              "    .dataframe tbody tr th:only-of-type {\n",
              "        vertical-align: middle;\n",
              "    }\n",
              "\n",
              "    .dataframe tbody tr th {\n",
              "        vertical-align: top;\n",
              "    }\n",
              "\n",
              "    .dataframe thead th {\n",
              "        text-align: right;\n",
              "    }\n",
              "</style>\n",
              "<table border=\"1\" class=\"dataframe\">\n",
              "  <thead>\n",
              "    <tr style=\"text-align: right;\">\n",
              "      <th></th>\n",
              "      <th>index</th>\n",
              "      <th>UserName</th>\n",
              "      <th>ScreenName</th>\n",
              "      <th>Location</th>\n",
              "      <th>TweetAt</th>\n",
              "      <th>OriginalTweet</th>\n",
              "      <th>Sentiment</th>\n",
              "      <th>Sentiment_binary</th>\n",
              "    </tr>\n",
              "  </thead>\n",
              "  <tbody>\n",
              "    <tr>\n",
              "      <th>2</th>\n",
              "      <td>28899</td>\n",
              "      <td>39249</td>\n",
              "      <td>84201</td>\n",
              "      <td>India</td>\n",
              "      <td>09-04-2020</td>\n",
              "      <td>@Canon_India I am very happy.. Great job by @C...</td>\n",
              "      <td>Extremely Positive</td>\n",
              "      <td>1</td>\n",
              "    </tr>\n",
              "    <tr>\n",
              "      <th>764</th>\n",
              "      <td>24206</td>\n",
              "      <td>33394</td>\n",
              "      <td>78346</td>\n",
              "      <td>Hanau, Deutschland</td>\n",
              "      <td>05-04-2020</td>\n",
              "      <td>Lately been happy with the crispr cas9 thing t...</td>\n",
              "      <td>Positive</td>\n",
              "      <td>1</td>\n",
              "    </tr>\n",
              "    <tr>\n",
              "      <th>2484</th>\n",
              "      <td>25561</td>\n",
              "      <td>35102</td>\n",
              "      <td>80054</td>\n",
              "      <td>United Kingdom</td>\n",
              "      <td>06-04-2020</td>\n",
              "      <td>@Kal_Ajimal Hi Kal, if you have a booking and ...</td>\n",
              "      <td>Extremely Positive</td>\n",
              "      <td>1</td>\n",
              "    </tr>\n",
              "    <tr>\n",
              "      <th>3089</th>\n",
              "      <td>25085</td>\n",
              "      <td>34517</td>\n",
              "      <td>79469</td>\n",
              "      <td>United States</td>\n",
              "      <td>06-04-2020</td>\n",
              "      <td>Are u up for the challenge? LetÃÂs do this. ...</td>\n",
              "      <td>Positive</td>\n",
              "      <td>1</td>\n",
              "    </tr>\n",
              "    <tr>\n",
              "      <th>3106</th>\n",
              "      <td>31956</td>\n",
              "      <td>43106</td>\n",
              "      <td>88058</td>\n",
              "      <td>Oconto Falls, WI</td>\n",
              "      <td>12-04-2020</td>\n",
              "      <td>Got this sticker with my @ZaturalHemp order of...</td>\n",
              "      <td>Extremely Positive</td>\n",
              "      <td>1</td>\n",
              "    </tr>\n",
              "    <tr>\n",
              "      <th>...</th>\n",
              "      <td>...</td>\n",
              "      <td>...</td>\n",
              "      <td>...</td>\n",
              "      <td>...</td>\n",
              "      <td>...</td>\n",
              "      <td>...</td>\n",
              "      <td>...</td>\n",
              "      <td>...</td>\n",
              "    </tr>\n",
              "    <tr>\n",
              "      <th>22132</th>\n",
              "      <td>12629</td>\n",
              "      <td>19108</td>\n",
              "      <td>64060</td>\n",
              "      <td>Unknown</td>\n",
              "      <td>22-03-2020</td>\n",
              "      <td>So many clients happy they can go basically bu...</td>\n",
              "      <td>Extremely Positive</td>\n",
              "      <td>1</td>\n",
              "    </tr>\n",
              "    <tr>\n",
              "      <th>22799</th>\n",
              "      <td>29459</td>\n",
              "      <td>39962</td>\n",
              "      <td>84914</td>\n",
              "      <td>Shenzhen</td>\n",
              "      <td>09-04-2020</td>\n",
              "      <td>#covid19 #coronavirus  prevention 75% Alcohol ...</td>\n",
              "      <td>Extremely Positive</td>\n",
              "      <td>1</td>\n",
              "    </tr>\n",
              "    <tr>\n",
              "      <th>22858</th>\n",
              "      <td>31311</td>\n",
              "      <td>42319</td>\n",
              "      <td>87271</td>\n",
              "      <td>USA</td>\n",
              "      <td>11-04-2020</td>\n",
              "      <td>We are happy to announce that SwabTek has part...</td>\n",
              "      <td>Extremely Positive</td>\n",
              "      <td>1</td>\n",
              "    </tr>\n",
              "    <tr>\n",
              "      <th>23201</th>\n",
              "      <td>16363</td>\n",
              "      <td>23724</td>\n",
              "      <td>68676</td>\n",
              "      <td>Phoenix, AZ</td>\n",
              "      <td>24-03-2020</td>\n",
              "      <td>We have made every effort to stay prepared! Ch...</td>\n",
              "      <td>Extremely Positive</td>\n",
              "      <td>1</td>\n",
              "    </tr>\n",
              "    <tr>\n",
              "      <th>23241</th>\n",
              "      <td>11042</td>\n",
              "      <td>17199</td>\n",
              "      <td>62151</td>\n",
              "      <td>Barcelona, Spain</td>\n",
              "      <td>21-03-2020</td>\n",
              "      <td>I cannot even see the supermarket door and IÃ...</td>\n",
              "      <td>Extremely Positive</td>\n",
              "      <td>1</td>\n",
              "    </tr>\n",
              "  </tbody>\n",
              "</table>\n",
              "<p>64 rows × 8 columns</p>\n",
              "</div>\n",
              "    <div class=\"colab-df-buttons\">\n",
              "\n",
              "  <div class=\"colab-df-container\">\n",
              "    <button class=\"colab-df-convert\" onclick=\"convertToInteractive('df-396b8de6-235d-4234-9e95-c1c828fe3d42')\"\n",
              "            title=\"Convert this dataframe to an interactive table.\"\n",
              "            style=\"display:none;\">\n",
              "\n",
              "  <svg xmlns=\"http://www.w3.org/2000/svg\" height=\"24px\" viewBox=\"0 -960 960 960\">\n",
              "    <path d=\"M120-120v-720h720v720H120Zm60-500h600v-160H180v160Zm220 220h160v-160H400v160Zm0 220h160v-160H400v160ZM180-400h160v-160H180v160Zm440 0h160v-160H620v160ZM180-180h160v-160H180v160Zm440 0h160v-160H620v160Z\"/>\n",
              "  </svg>\n",
              "    </button>\n",
              "\n",
              "  <style>\n",
              "    .colab-df-container {\n",
              "      display:flex;\n",
              "      gap: 12px;\n",
              "    }\n",
              "\n",
              "    .colab-df-convert {\n",
              "      background-color: #E8F0FE;\n",
              "      border: none;\n",
              "      border-radius: 50%;\n",
              "      cursor: pointer;\n",
              "      display: none;\n",
              "      fill: #1967D2;\n",
              "      height: 32px;\n",
              "      padding: 0 0 0 0;\n",
              "      width: 32px;\n",
              "    }\n",
              "\n",
              "    .colab-df-convert:hover {\n",
              "      background-color: #E2EBFA;\n",
              "      box-shadow: 0px 1px 2px rgba(60, 64, 67, 0.3), 0px 1px 3px 1px rgba(60, 64, 67, 0.15);\n",
              "      fill: #174EA6;\n",
              "    }\n",
              "\n",
              "    .colab-df-buttons div {\n",
              "      margin-bottom: 4px;\n",
              "    }\n",
              "\n",
              "    [theme=dark] .colab-df-convert {\n",
              "      background-color: #3B4455;\n",
              "      fill: #D2E3FC;\n",
              "    }\n",
              "\n",
              "    [theme=dark] .colab-df-convert:hover {\n",
              "      background-color: #434B5C;\n",
              "      box-shadow: 0px 1px 3px 1px rgba(0, 0, 0, 0.15);\n",
              "      filter: drop-shadow(0px 1px 2px rgba(0, 0, 0, 0.3));\n",
              "      fill: #FFFFFF;\n",
              "    }\n",
              "  </style>\n",
              "\n",
              "    <script>\n",
              "      const buttonEl =\n",
              "        document.querySelector('#df-396b8de6-235d-4234-9e95-c1c828fe3d42 button.colab-df-convert');\n",
              "      buttonEl.style.display =\n",
              "        google.colab.kernel.accessAllowed ? 'block' : 'none';\n",
              "\n",
              "      async function convertToInteractive(key) {\n",
              "        const element = document.querySelector('#df-396b8de6-235d-4234-9e95-c1c828fe3d42');\n",
              "        const dataTable =\n",
              "          await google.colab.kernel.invokeFunction('convertToInteractive',\n",
              "                                                    [key], {});\n",
              "        if (!dataTable) return;\n",
              "\n",
              "        const docLinkHtml = 'Like what you see? Visit the ' +\n",
              "          '<a target=\"_blank\" href=https://colab.research.google.com/notebooks/data_table.ipynb>data table notebook</a>'\n",
              "          + ' to learn more about interactive tables.';\n",
              "        element.innerHTML = '';\n",
              "        dataTable['output_type'] = 'display_data';\n",
              "        await google.colab.output.renderOutput(dataTable, element);\n",
              "        const docLink = document.createElement('div');\n",
              "        docLink.innerHTML = docLinkHtml;\n",
              "        element.appendChild(docLink);\n",
              "      }\n",
              "    </script>\n",
              "  </div>\n",
              "\n",
              "\n",
              "    <div id=\"df-ca288c35-9009-4b89-8637-73ab87bd045d\">\n",
              "      <button class=\"colab-df-quickchart\" onclick=\"quickchart('df-ca288c35-9009-4b89-8637-73ab87bd045d')\"\n",
              "                title=\"Suggest charts\"\n",
              "                style=\"display:none;\">\n",
              "\n",
              "<svg xmlns=\"http://www.w3.org/2000/svg\" height=\"24px\"viewBox=\"0 0 24 24\"\n",
              "     width=\"24px\">\n",
              "    <g>\n",
              "        <path d=\"M19 3H5c-1.1 0-2 .9-2 2v14c0 1.1.9 2 2 2h14c1.1 0 2-.9 2-2V5c0-1.1-.9-2-2-2zM9 17H7v-7h2v7zm4 0h-2V7h2v10zm4 0h-2v-4h2v4z\"/>\n",
              "    </g>\n",
              "</svg>\n",
              "      </button>\n",
              "\n",
              "<style>\n",
              "  .colab-df-quickchart {\n",
              "      --bg-color: #E8F0FE;\n",
              "      --fill-color: #1967D2;\n",
              "      --hover-bg-color: #E2EBFA;\n",
              "      --hover-fill-color: #174EA6;\n",
              "      --disabled-fill-color: #AAA;\n",
              "      --disabled-bg-color: #DDD;\n",
              "  }\n",
              "\n",
              "  [theme=dark] .colab-df-quickchart {\n",
              "      --bg-color: #3B4455;\n",
              "      --fill-color: #D2E3FC;\n",
              "      --hover-bg-color: #434B5C;\n",
              "      --hover-fill-color: #FFFFFF;\n",
              "      --disabled-bg-color: #3B4455;\n",
              "      --disabled-fill-color: #666;\n",
              "  }\n",
              "\n",
              "  .colab-df-quickchart {\n",
              "    background-color: var(--bg-color);\n",
              "    border: none;\n",
              "    border-radius: 50%;\n",
              "    cursor: pointer;\n",
              "    display: none;\n",
              "    fill: var(--fill-color);\n",
              "    height: 32px;\n",
              "    padding: 0;\n",
              "    width: 32px;\n",
              "  }\n",
              "\n",
              "  .colab-df-quickchart:hover {\n",
              "    background-color: var(--hover-bg-color);\n",
              "    box-shadow: 0 1px 2px rgba(60, 64, 67, 0.3), 0 1px 3px 1px rgba(60, 64, 67, 0.15);\n",
              "    fill: var(--button-hover-fill-color);\n",
              "  }\n",
              "\n",
              "  .colab-df-quickchart-complete:disabled,\n",
              "  .colab-df-quickchart-complete:disabled:hover {\n",
              "    background-color: var(--disabled-bg-color);\n",
              "    fill: var(--disabled-fill-color);\n",
              "    box-shadow: none;\n",
              "  }\n",
              "\n",
              "  .colab-df-spinner {\n",
              "    border: 2px solid var(--fill-color);\n",
              "    border-color: transparent;\n",
              "    border-bottom-color: var(--fill-color);\n",
              "    animation:\n",
              "      spin 1s steps(1) infinite;\n",
              "  }\n",
              "\n",
              "  @keyframes spin {\n",
              "    0% {\n",
              "      border-color: transparent;\n",
              "      border-bottom-color: var(--fill-color);\n",
              "      border-left-color: var(--fill-color);\n",
              "    }\n",
              "    20% {\n",
              "      border-color: transparent;\n",
              "      border-left-color: var(--fill-color);\n",
              "      border-top-color: var(--fill-color);\n",
              "    }\n",
              "    30% {\n",
              "      border-color: transparent;\n",
              "      border-left-color: var(--fill-color);\n",
              "      border-top-color: var(--fill-color);\n",
              "      border-right-color: var(--fill-color);\n",
              "    }\n",
              "    40% {\n",
              "      border-color: transparent;\n",
              "      border-right-color: var(--fill-color);\n",
              "      border-top-color: var(--fill-color);\n",
              "    }\n",
              "    60% {\n",
              "      border-color: transparent;\n",
              "      border-right-color: var(--fill-color);\n",
              "    }\n",
              "    80% {\n",
              "      border-color: transparent;\n",
              "      border-right-color: var(--fill-color);\n",
              "      border-bottom-color: var(--fill-color);\n",
              "    }\n",
              "    90% {\n",
              "      border-color: transparent;\n",
              "      border-bottom-color: var(--fill-color);\n",
              "    }\n",
              "  }\n",
              "</style>\n",
              "\n",
              "      <script>\n",
              "        async function quickchart(key) {\n",
              "          const quickchartButtonEl =\n",
              "            document.querySelector('#' + key + ' button');\n",
              "          quickchartButtonEl.disabled = true;  // To prevent multiple clicks.\n",
              "          quickchartButtonEl.classList.add('colab-df-spinner');\n",
              "          try {\n",
              "            const charts = await google.colab.kernel.invokeFunction(\n",
              "                'suggestCharts', [key], {});\n",
              "          } catch (error) {\n",
              "            console.error('Error during call to suggestCharts:', error);\n",
              "          }\n",
              "          quickchartButtonEl.classList.remove('colab-df-spinner');\n",
              "          quickchartButtonEl.classList.add('colab-df-quickchart-complete');\n",
              "        }\n",
              "        (() => {\n",
              "          let quickchartButtonEl =\n",
              "            document.querySelector('#df-ca288c35-9009-4b89-8637-73ab87bd045d button');\n",
              "          quickchartButtonEl.style.display =\n",
              "            google.colab.kernel.accessAllowed ? 'block' : 'none';\n",
              "        })();\n",
              "      </script>\n",
              "    </div>\n",
              "    </div>\n",
              "  </div>\n"
            ],
            "application/vnd.google.colaboratory.intrinsic+json": {
              "type": "dataframe",
              "summary": "{\n  \"name\": \"train[train['OriginalTweet']\",\n  \"rows\": 64,\n  \"fields\": [\n    {\n      \"column\": \"index\",\n      \"properties\": {\n        \"dtype\": \"number\",\n        \"std\": 9158,\n        \"min\": 1031,\n        \"max\": 32840,\n        \"num_unique_values\": 64,\n        \"samples\": [\n          10816,\n          2430,\n          28899\n        ],\n        \"semantic_type\": \"\",\n        \"description\": \"\"\n      }\n    },\n    {\n      \"column\": \"UserName\",\n      \"properties\": {\n        \"dtype\": \"number\",\n        \"std\": 11277,\n        \"min\": 5050,\n        \"max\": 44188,\n        \"num_unique_values\": 64,\n        \"samples\": [\n          16924,\n          6749,\n          39249\n        ],\n        \"semantic_type\": \"\",\n        \"description\": \"\"\n      }\n    },\n    {\n      \"column\": \"ScreenName\",\n      \"properties\": {\n        \"dtype\": \"number\",\n        \"std\": 11277,\n        \"min\": 50002,\n        \"max\": 89140,\n        \"num_unique_values\": 64,\n        \"samples\": [\n          61876,\n          51701,\n          84201\n        ],\n        \"semantic_type\": \"\",\n        \"description\": \"\"\n      }\n    },\n    {\n      \"column\": \"Location\",\n      \"properties\": {\n        \"dtype\": \"string\",\n        \"num_unique_values\": 46,\n        \"samples\": [\n          \"Somewhere sanity prevails\",\n          \"Lewisham, London\",\n          \"Arlington, VA\"\n        ],\n        \"semantic_type\": \"\",\n        \"description\": \"\"\n      }\n    },\n    {\n      \"column\": \"TweetAt\",\n      \"properties\": {\n        \"dtype\": \"category\",\n        \"num_unique_values\": 21,\n        \"samples\": [\n          \"09-04-2020\",\n          \"10-04-2020\",\n          \"26-03-2020\"\n        ],\n        \"semantic_type\": \"\",\n        \"description\": \"\"\n      }\n    },\n    {\n      \"column\": \"OriginalTweet\",\n      \"properties\": {\n        \"dtype\": \"string\",\n        \"num_unique_values\": 64,\n        \"samples\": [\n          \"How lovely! Spotted this lovely drawing and message on the window of a house in #Gulval #Penzance today while driving to supermarket. #happy #coronavirus #WeWillFightCorona https://t.co/RI6cha0ze0\",\n          \"$5 a toilet roll? No thanks. Love the Aussies who are standing their ground &amp; NOT shopping from the \\u00c3\\u0082\\u00c2\\u0091sharks\\u00c3\\u0082\\u00c2\\u0092 selling #toiletpaper &amp; #handsanitiser at highly inflated prices. #nothappyJan #coronavirus  https://t.co/uyZdrM2csy\",\n          \"@Canon_India I am very happy.. Great job by @Canon_India #CanonForCommunity\\r\\r\\nhttps://t.co/Z0intkS34x\"\n        ],\n        \"semantic_type\": \"\",\n        \"description\": \"\"\n      }\n    },\n    {\n      \"column\": \"Sentiment\",\n      \"properties\": {\n        \"dtype\": \"category\",\n        \"num_unique_values\": 2,\n        \"samples\": [\n          \"Positive\",\n          \"Extremely Positive\"\n        ],\n        \"semantic_type\": \"\",\n        \"description\": \"\"\n      }\n    },\n    {\n      \"column\": \"Sentiment_binary\",\n      \"properties\": {\n        \"dtype\": \"number\",\n        \"std\": 0,\n        \"min\": 1,\n        \"max\": 1,\n        \"num_unique_values\": 1,\n        \"samples\": [\n          1\n        ],\n        \"semantic_type\": \"\",\n        \"description\": \"\"\n      }\n    }\n  ]\n}"
            }
          },
          "metadata": {},
          "execution_count": 30
        }
      ],
      "source": [
        "train[train['OriginalTweet'].apply(lambda x: 'happy' in x) & (train['Sentiment_binary'] == 1)]"
      ]
    },
    {
      "cell_type": "code",
      "execution_count": 31,
      "metadata": {
        "colab": {
          "base_uri": "https://localhost:8080/",
          "height": 83
        },
        "id": "sRpZ1iLZsU4i",
        "outputId": "5fa2f0d2-ca6d-48fe-9056-9283aa0ef7ca"
      },
      "outputs": [
        {
          "output_type": "execute_result",
          "data": {
            "text/plain": [
              "'I cannot even see the supermarket door and IÃ\\x82Â\\x92m happy for it. I couldnÃ\\x82Â\\x92t imagine that 3 weeks ago, how the things change... How this #Covid_19 is going to change the society I donÃ\\x82Â\\x92t know, but I beleive weÃ\\x82Â\\x92ll be better human beings ? https://t.co/DyWjgfngut'"
            ],
            "application/vnd.google.colaboratory.intrinsic+json": {
              "type": "string"
            }
          },
          "metadata": {},
          "execution_count": 31
        }
      ],
      "source": [
        "train.iloc[23241]['OriginalTweet']"
      ]
    },
    {
      "cell_type": "code",
      "execution_count": 32,
      "metadata": {
        "colab": {
          "base_uri": "https://localhost:8080/"
        },
        "id": "jSjbKPCWk87K",
        "outputId": "f30f1cea-fb2a-442e-d679-bffa3e484c07"
      },
      "outputs": [
        {
          "output_type": "stream",
          "name": "stdout",
          "text": [
            "Самый важный токен TF-IDF: change\n",
            "Самый неважный токен TF: supermarket\n"
          ]
        }
      ],
      "source": [
        "tfidf_vec = tfidf.transform([train.iloc[23241]['OriginalTweet']])\n",
        "tfidf_arr = tfidf_vec.toarray()[0]\n",
        "\n",
        "nonzero = np.where(tfidf_arr > 0)[0]\n",
        "max_idx = nonzero[np.argmax(tfidf_arr[nonzero])]\n",
        "min_idx = nonzero[np.argmin(tfidf_arr[nonzero])]\n",
        "\n",
        "reverse_vocab = {v: k for k, v in tfidf.vocabulary_.items()}\n",
        "most_important_token = reverse_vocab[max_idx]\n",
        "least_important_token = reverse_vocab[min_idx]\n",
        "\n",
        "print(f'Самый важный токен TF-IDF: {most_important_token}')\n",
        "print(f'Самый неважный токен TF: {least_important_token}')"
      ]
    },
    {
      "cell_type": "markdown",
      "metadata": {
        "id": "JTv9ST2_U6NA"
      },
      "source": [
        "**Ответ:**  Человек рассуждает об тех изменениях, что ковид превнес в нашу жизнь... то что он смотрит на дверь супермаркета - действительно кажется не основной частью текста)"
      ]
    },
    {
      "cell_type": "markdown",
      "metadata": {
        "id": "JVEuZm8BHms6"
      },
      "source": [
        "## Задание 4 Обучение первых моделей (1 балл)"
      ]
    },
    {
      "cell_type": "markdown",
      "metadata": {
        "id": "JADkO3sfXdOG"
      },
      "source": [
        "Примените оба векторайзера для получения матриц с признаками текстов.  Выделите целевую переменную."
      ]
    },
    {
      "cell_type": "code",
      "execution_count": 33,
      "metadata": {
        "id": "DguoiXhCX2oN"
      },
      "outputs": [],
      "source": [
        "vec_train = cv.fit_transform(train['OriginalTweet'])\n",
        "vec_test = cv.transform(test['OriginalTweet'])\n",
        "\n",
        "tfidf_vec_train = tfidf.fit_transform(train['OriginalTweet'])\n",
        "tfidf_vec_test = tfidf.transform(test['OriginalTweet'])\n",
        "\n",
        "target = ['Sentiment_binary']"
      ]
    },
    {
      "cell_type": "markdown",
      "metadata": {
        "id": "_FX1KSOfYSx4"
      },
      "source": [
        "Обучите логистическую регрессию на векторах из обоих векторайзеров. Посчитайте долю правильных ответов на обучающих и тестовых данных. Какой векторайзер показал лучший результат? Что можно сказать о моделях?\n",
        "\n",
        "Используйте `sparse` матрицы (после векторизации), не превращайте их в `numpy.ndarray` или `pd.DataFrame` - может не хватить памяти."
      ]
    },
    {
      "cell_type": "code",
      "execution_count": 34,
      "metadata": {
        "id": "-Tb3eh8UXJ6v"
      },
      "outputs": [],
      "source": [
        "from sklearn.linear_model import LogisticRegression\n",
        "from sklearn.metrics import accuracy_score\n",
        "\n",
        "lr_1 = LogisticRegression(random_state=42, solver='liblinear', multi_class='ovr')\n",
        "\n",
        "lr_1.fit(vec_train, train[target])\n",
        "train_pred_count = lr_1.predict(vec_train)\n",
        "test_pred_count = lr_1.predict(vec_test)\n",
        "acc_train_count = accuracy_score(train[target], train_pred_count)\n",
        "acc_test_count = accuracy_score(test[target], test_pred_count)\n",
        "\n",
        "\n",
        "lr_2 = LogisticRegression(random_state=42, solver='liblinear', multi_class='ovr')\n",
        "lr_2.fit(tfidf_vec_train, train[target])\n",
        "train_pred_tfidf = lr_2.predict(tfidf_vec_train)\n",
        "test_pred_tfidf = lr_2.predict(tfidf_vec_test)\n",
        "acc_train_tfidf = accuracy_score(train[target], train_pred_tfidf)\n",
        "acc_test_tfidf = accuracy_score(test[target], test_pred_tfidf)"
      ]
    },
    {
      "cell_type": "code",
      "execution_count": 35,
      "metadata": {
        "colab": {
          "base_uri": "https://localhost:8080/"
        },
        "id": "CxUw9Mewy7iP",
        "outputId": "7aed5ab0-c80e-492a-901c-1352db36c6ca"
      },
      "outputs": [
        {
          "output_type": "stream",
          "name": "stdout",
          "text": [
            "CountVectorizer:   Train accuracy = 0.9842375053395984, Test accuracy = 0.8672513454255532\n",
            "TFIDFVectorizer:   Train accuracy = 0.9258009397693293, Test accuracy = 0.8544947179589396\n"
          ]
        }
      ],
      "source": [
        "print(f'CountVectorizer:   Train accuracy = {acc_train_count}, Test accuracy = {acc_test_count}')\n",
        "print(f'TFIDFVectorizer:   Train accuracy = {acc_train_tfidf}, Test accuracy = {acc_test_tfidf}')"
      ]
    },
    {
      "cell_type": "markdown",
      "metadata": {
        "id": "8y_wO7rCmv7K"
      },
      "source": [
        "**Ответ:**  CountVectorizer дает прирост к качеству относительно TFIDFVectorizer. Также мы получили небольшой оверфит из за того что есть разница в точности между треином и тестом, но она не сильно критична."
      ]
    },
    {
      "cell_type": "markdown",
      "metadata": {
        "id": "rSOR1i3mjrys"
      },
      "source": [
        "## Задание 5 Стемминг (0.5 балла)"
      ]
    },
    {
      "cell_type": "markdown",
      "metadata": {
        "id": "i6ONBWNPjuq-"
      },
      "source": [
        "Для уменьшения словаря можно использовать стемминг.\n",
        "\n",
        "Модифицируйте написанный токенайзер, добавив в него стемминг с использованием SnowballStemmer. Обучите Count- и Tfidf- векторайзеры. Как изменился размер словаря?"
      ]
    },
    {
      "cell_type": "code",
      "execution_count": 36,
      "metadata": {
        "id": "oVfA2-iMkQBb"
      },
      "outputs": [],
      "source": [
        "from nltk.stem.snowball import SnowballStemmer\n",
        "\n",
        "stemmer = SnowballStemmer(\"english\")\n",
        "\n",
        "def custom_stem_tokenizer(text, punct=punctuation,\n",
        "                          stop_words=stop_words, stemmer=stemmer):\n",
        "    text = text.lower()\n",
        "    tokenizer = TweetTokenizer()\n",
        "    tokens = tokenizer.tokenize(text)\n",
        "    filtered_tokens = []\n",
        "    for token in tokens:\n",
        "        if token in stop_words:\n",
        "            continue\n",
        "\n",
        "        if all(char in punctuation for char in token):\n",
        "            continue\n",
        "\n",
        "        if len(token) == 1 and ord(token) >= 128:\n",
        "            continue\n",
        "\n",
        "        if token.startswith('https://t.co'):\n",
        "            continue\n",
        "\n",
        "        token = stemmer.stem(token)\n",
        "        filtered_tokens.append(token)\n",
        "    return filtered_tokens"
      ]
    },
    {
      "cell_type": "code",
      "execution_count": 37,
      "metadata": {
        "colab": {
          "base_uri": "https://localhost:8080/"
        },
        "id": "CjqgAJ33ztoA",
        "outputId": "c0f43e4d-6f43-489a-c9e5-f939e05ca3b5"
      },
      "outputs": [
        {
          "output_type": "execute_result",
          "data": {
            "text/plain": [
              "['sampl', 'text', '@sample_text', '#sampletext', 'ad', 'word', 'check', 'stem']"
            ]
          },
          "metadata": {},
          "execution_count": 37
        }
      ],
      "source": [
        "custom_stem_tokenizer('This is sample text!!!! @Sample_text I, \\x92\\x92 https://t.co/sample  #sampletext adding more words to check stemming')"
      ]
    },
    {
      "cell_type": "code",
      "execution_count": 38,
      "metadata": {
        "colab": {
          "base_uri": "https://localhost:8080/"
        },
        "id": "9QmrjYtqnlPd",
        "outputId": "8ed0ac8c-6e0b-400f-dfb8-a9c942287c32"
      },
      "outputs": [
        {
          "output_type": "execute_result",
          "data": {
            "text/plain": [
              "['sampl', 'text', '@sample_text', '#sampletext', 'ad', 'word', 'check', 'stem']"
            ]
          },
          "metadata": {},
          "execution_count": 38
        }
      ],
      "source": [
        "custom_stem_tokenizer('This is sample text!!!! @Sample_text I, \\x92\\x92 https://t.co/sample  #sampletext adding more words to check stemming')"
      ]
    },
    {
      "cell_type": "code",
      "execution_count": 39,
      "metadata": {
        "colab": {
          "base_uri": "https://localhost:8080/"
        },
        "id": "7K3O_eB30fXV",
        "outputId": "112566bc-2bb7-490a-cd02-a5e16b3bd148"
      },
      "outputs": [
        {
          "output_type": "stream",
          "name": "stdout",
          "text": [
            "36612\n"
          ]
        }
      ],
      "source": [
        "cv = CountVectorizer(tokenizer=custom_stem_tokenizer)\n",
        "\n",
        "cv.fit_transform(train['OriginalTweet'])\n",
        "\n",
        "print(len(cv.vocabulary_))"
      ]
    },
    {
      "cell_type": "markdown",
      "metadata": {
        "id": "Oyzs5TaAoHP6"
      },
      "source": [
        "**Ответ** Уменьшился еще примерно на 25%\n"
      ]
    },
    {
      "cell_type": "markdown",
      "metadata": {
        "id": "1OkncHI8oRmd"
      },
      "source": [
        "Обучите логистическую регрессию с использованием обоих векторайзеров. Изменилось ли качество? Есть ли смысл применять стемминг?"
      ]
    },
    {
      "cell_type": "code",
      "execution_count": 40,
      "metadata": {
        "colab": {
          "base_uri": "https://localhost:8080/"
        },
        "id": "Ct7iJk9Q1Tg2",
        "outputId": "fafd0fe3-27fd-41a2-b058-056a8386e642"
      },
      "outputs": [
        {
          "output_type": "execute_result",
          "data": {
            "text/plain": [
              "<Compressed Sparse Row sparse matrix of dtype 'float64'\n",
              "\twith 441290 stored elements and shape (23410, 45268)>"
            ]
          },
          "metadata": {},
          "execution_count": 40
        }
      ],
      "source": [
        "tfidf = TfidfVectorizer(tokenizer=custom_tokenizer)\n",
        "\n",
        "tfidf.fit_transform(train['OriginalTweet'])"
      ]
    },
    {
      "cell_type": "code",
      "execution_count": 41,
      "metadata": {
        "id": "A6HkvraY1BTe"
      },
      "outputs": [],
      "source": [
        "vec_train = cv.fit_transform(train['OriginalTweet'])\n",
        "vec_test = cv.transform(test['OriginalTweet'])\n",
        "\n",
        "tfidf_vec_train = tfidf.fit_transform(train['OriginalTweet'])\n",
        "tfidf_vec_test = tfidf.transform(test['OriginalTweet'])\n",
        "\n",
        "target = ['Sentiment_binary']"
      ]
    },
    {
      "cell_type": "code",
      "execution_count": 45,
      "metadata": {
        "id": "ykZJPphEoZ5W"
      },
      "outputs": [],
      "source": [
        "from sklearn.linear_model import LogisticRegression\n",
        "from sklearn.metrics import accuracy_score\n",
        "\n",
        "lr_1 = LogisticRegression(random_state=42, solver='liblinear', multi_class='ovr')\n",
        "\n",
        "lr_1.fit(vec_train, train[target])\n",
        "train_pred_count = lr_1.predict(vec_train)\n",
        "test_pred_count = lr_1.predict(vec_test)\n",
        "acc_train_count = accuracy_score(train[target], train_pred_count)\n",
        "acc_test_count = accuracy_score(test[target], test_pred_count)\n",
        "\n",
        "\n",
        "lr_2 = LogisticRegression(random_state=42, solver='liblinear', multi_class='ovr')\n",
        "\n",
        "lr_2.fit(tfidf_vec_train, train[target])\n",
        "train_pred_tfidf = lr_2.predict(tfidf_vec_train)\n",
        "test_pred_tfidf = lr_2.predict(tfidf_vec_test)\n",
        "acc_train_tfidf = accuracy_score(train[target], train_pred_tfidf)\n",
        "acc_test_tfidf = accuracy_score(test[target], test_pred_tfidf)"
      ]
    },
    {
      "cell_type": "code",
      "execution_count": 46,
      "metadata": {
        "colab": {
          "base_uri": "https://localhost:8080/"
        },
        "id": "xw5EnInB2HMm",
        "outputId": "c45d0573-f047-4c04-cdfe-c3a295553850"
      },
      "outputs": [
        {
          "output_type": "stream",
          "name": "stdout",
          "text": [
            "CountVectorizer:   Train accuracy = 0.9719777872703973, Test accuracy = 0.8670520231213873\n",
            "TFIDFVectorizer:   Train accuracy = 0.9258009397693293, Test accuracy = 0.8544947179589396\n"
          ]
        }
      ],
      "source": [
        "print(f\"CountVectorizer:   Train accuracy = {acc_train_count}, Test accuracy = {acc_test_count}\")\n",
        "print(f\"TFIDFVectorizer:   Train accuracy = {acc_train_tfidf}, Test accuracy = {acc_test_tfidf}\")"
      ]
    },
    {
      "cell_type": "markdown",
      "metadata": {
        "id": "bCRlrODro0h8"
      },
      "source": [
        "**Ответ:**   Качество не изменилось, а матрицы уменьшились - явный плюс, можно использовать стемминг для уменьшения размерности."
      ]
    },
    {
      "cell_type": "markdown",
      "metadata": {
        "id": "hYWGQNEDqLC-"
      },
      "source": [
        "## Задание  6 Работа с частотами (1.5 балла)"
      ]
    },
    {
      "cell_type": "markdown",
      "metadata": {
        "id": "8Hq-tl5mqUSn"
      },
      "source": [
        "Еще один способ уменьшить количество признаков - это использовать параметры min_df и max_df при построении векторайзера  эти параметры помогают ограничить требуемую частоту встречаемости токена в документах.\n",
        "\n",
        "По умолчанию берутся все токены, которые встретились хотя бы один раз.\n",
        "\n"
      ]
    },
    {
      "cell_type": "markdown",
      "metadata": {
        "id": "m1SiD4DE3WZ2"
      },
      "source": [
        "Подберите max_df такой, что размер словаря будет 36651 (на 1 меньше, чем было). Почему параметр получился такой большой/маленький?"
      ]
    },
    {
      "cell_type": "code",
      "execution_count": 47,
      "metadata": {
        "id": "nniLvQLXke1O"
      },
      "outputs": [],
      "source": [
        "df_counts = np.asarray((cv.fit_transform(train['OriginalTweet']) > 0).sum(axis=0)).ravel()\n",
        "num_docs = cv.fit_transform(train['OriginalTweet']).shape[0]"
      ]
    },
    {
      "cell_type": "code",
      "execution_count": 48,
      "metadata": {
        "id": "wC4UVZUpke1O"
      },
      "outputs": [],
      "source": [
        "sorted_df = np.sort(df_counts)\n",
        "cutoff_df = sorted_df[-2]\n",
        "max_df = cutoff_df / num_docs"
      ]
    },
    {
      "cell_type": "code",
      "execution_count": 50,
      "metadata": {
        "colab": {
          "base_uri": "https://localhost:8080/"
        },
        "id": "o3YLb8PViExb",
        "outputId": "4547a63f-4f41-4b04-f594-fa7cc7d29a3d"
      },
      "outputs": [
        {
          "output_type": "stream",
          "name": "stdout",
          "text": [
            "36611\n"
          ]
        }
      ],
      "source": [
        "cv_df = CountVectorizer(tokenizer=custom_stem_tokenizer, max_df=max_df).fit(train['OriginalTweet'])\n",
        "print(len(cv_df.vocabulary_))"
      ]
    },
    {
      "cell_type": "code",
      "execution_count": 52,
      "metadata": {
        "colab": {
          "base_uri": "https://localhost:8080/"
        },
        "id": "IqDT8owRke1O",
        "outputId": "9edf016f-f3eb-407c-8bed-ed1c1ed84235"
      },
      "outputs": [
        {
          "output_type": "execute_result",
          "data": {
            "text/plain": [
              "np.float64(0.29837676206749253)"
            ]
          },
          "metadata": {},
          "execution_count": 52
        }
      ],
      "source": [
        "max_df"
      ]
    },
    {
      "cell_type": "markdown",
      "metadata": {
        "id": "UdZYoGZR4UsA"
      },
      "source": [
        "**Ответ:** Значение 0.298 означает, что мы исключаем токены, которые встречаются в более чем в примерно 30% документов. Это связано с тем, что у нас почти нет токенов, которые встречаются более чем в трети документов"
      ]
    },
    {
      "cell_type": "markdown",
      "metadata": {
        "id": "_gRIUaB1u32f"
      },
      "source": [
        "Подберите min_df (используйте дефолтное значение max_df) в CountVectorizer таким образом, чтобы размер словаря был 3700 токенов (при использовании токенайзера со стеммингом), а качество осталось таким же, как и было. Что можно сказать о результатах?"
      ]
    },
    {
      "cell_type": "code",
      "execution_count": 53,
      "metadata": {
        "id": "CNJgwBLuke1P"
      },
      "outputs": [],
      "source": [
        "sorted_df = np.sort(df_counts)\n",
        "min_df= sorted_df[-3680] / num_docs"
      ]
    },
    {
      "cell_type": "code",
      "execution_count": 54,
      "metadata": {
        "colab": {
          "base_uri": "https://localhost:8080/"
        },
        "id": "ioaYFTtuke1P",
        "outputId": "e5c929c2-1d60-4018-a7b8-19cd48f1918a"
      },
      "outputs": [
        {
          "output_type": "execute_result",
          "data": {
            "text/plain": [
              "np.float64(0.0004698846646732166)"
            ]
          },
          "metadata": {},
          "execution_count": 54
        }
      ],
      "source": [
        "min_df"
      ]
    },
    {
      "cell_type": "code",
      "execution_count": 55,
      "metadata": {
        "colab": {
          "base_uri": "https://localhost:8080/"
        },
        "id": "kSnMJkn9XmsT",
        "outputId": "39a31125-f74d-4143-95a9-14204a0bb55e"
      },
      "outputs": [
        {
          "output_type": "stream",
          "name": "stdout",
          "text": [
            "3682\n"
          ]
        }
      ],
      "source": [
        "cv_df = CountVectorizer(tokenizer=custom_stem_tokenizer, min_df=min_df).fit(train['OriginalTweet'])\n",
        "print(len(cv_df.vocabulary_))"
      ]
    },
    {
      "cell_type": "code",
      "execution_count": 56,
      "metadata": {
        "id": "Cg0uNq-Ike1P"
      },
      "outputs": [],
      "source": [
        "vec_train = cv_df.fit_transform(train['OriginalTweet'])\n",
        "vec_test = cv_df.transform(test['OriginalTweet'])\n",
        "\n",
        "target = ['Sentiment_binary']"
      ]
    },
    {
      "cell_type": "code",
      "execution_count": 57,
      "metadata": {
        "id": "4CPTlUk8ke1P"
      },
      "outputs": [],
      "source": [
        "lr_1 = LogisticRegression(random_state=42, solver='liblinear', multi_class='ovr')\n",
        "\n",
        "lr_1.fit(vec_train, train[target])\n",
        "train_pred_count = lr_1.predict(vec_train)\n",
        "test_pred_count = lr_1.predict(vec_test)\n",
        "acc_train_count = accuracy_score(train[target], train_pred_count)\n",
        "acc_test_count = accuracy_score(test[target], test_pred_count)"
      ]
    },
    {
      "cell_type": "code",
      "execution_count": 58,
      "metadata": {
        "colab": {
          "base_uri": "https://localhost:8080/"
        },
        "id": "HdG5cAZQke1P",
        "outputId": "9bcc31a0-85b1-4737-809c-bbc4d525ba9c"
      },
      "outputs": [
        {
          "output_type": "stream",
          "name": "stdout",
          "text": [
            "CountVectorizer:   Train accuracy = 0.9291328492097394, Test accuracy = 0.8681482957942994\n"
          ]
        }
      ],
      "source": [
        "print(f\"CountVectorizer:   Train accuracy = {acc_train_count}, Test accuracy = {acc_test_count}\")"
      ]
    },
    {
      "cell_type": "markdown",
      "metadata": {
        "id": "3fGYpUIZx0fk"
      },
      "source": [
        "**Ответ:** Размерность также уменьшилась, а качество сохранилось - хорошо."
      ]
    },
    {
      "cell_type": "markdown",
      "metadata": {
        "id": "Gx_h_-inKbBl"
      },
      "source": [
        "В предыдущих заданиях признаки не скалировались. Отскалируйте данные (при словаре размера 3.7 тысяч, векторизованные CountVectorizer), обучите логистическую регрессию, посмотрите качество и выведите `barplot`, содержащий по 10 токенов, с наибольшим по модулю положительными/отрицательными весами. Что можно сказать об этих токенах?"
      ]
    },
    {
      "cell_type": "code",
      "execution_count": 60,
      "metadata": {
        "id": "KBATXJX6LG9q"
      },
      "outputs": [],
      "source": [
        "from sklearn.preprocessing import StandardScaler\n",
        "\n",
        "scaler = StandardScaler(with_mean=False)\n",
        "vec_train_scaled = scaler.fit_transform(vec_train)\n",
        "vec_test_scaled = scaler.transform(vec_test)\n",
        "\n",
        "lr_scaled = LogisticRegression(random_state=42, solver='liblinear', multi_class='ovr')\n",
        "\n",
        "lr_scaled.fit(vec_train_scaled, train[target])\n",
        "train_pred_count = lr_scaled.predict(vec_train_scaled)\n",
        "test_pred_count = lr_scaled.predict(vec_test_scaled)\n",
        "acc_train_count = accuracy_score(train[target], train_pred_count)\n",
        "acc_test_count = accuracy_score(test[target], test_pred_count)"
      ]
    },
    {
      "cell_type": "code",
      "execution_count": 61,
      "metadata": {
        "colab": {
          "base_uri": "https://localhost:8080/"
        },
        "id": "_7r0Zup-ke1Q",
        "outputId": "61299d0e-f6c3-4253-fe1f-086ed91d50c7"
      },
      "outputs": [
        {
          "output_type": "stream",
          "name": "stdout",
          "text": [
            "Train Accuracy: 0.9411362665527553\n",
            "Test Accuracy: 0.8450269085110624\n"
          ]
        }
      ],
      "source": [
        "print(f'Train Accuracy: {acc_train_count}')\n",
        "print(f'Test Accuracy: {acc_test_count}')"
      ]
    },
    {
      "cell_type": "code",
      "execution_count": 62,
      "metadata": {
        "colab": {
          "base_uri": "https://localhost:8080/",
          "height": 424
        },
        "id": "SKAMk7m8ke1Q",
        "outputId": "3ee92f7c-0147-4cbd-c467-5336ec43e1a8"
      },
      "outputs": [
        {
          "output_type": "display_data",
          "data": {
            "text/plain": [
              "<Figure size 1200x600 with 1 Axes>"
            ],
            "image/png": "[encoded data removed]"
          },
          "metadata": {}
        }
      ],
      "source": [
        "feature_names = np.array(cv_df.get_feature_names_out())\n",
        "coef = lr_scaled.coef_.flatten()\n",
        "\n",
        "top_pos_indices = np.argsort(coef)[-10:]\n",
        "top_neg_indices = np.argsort(coef)[:10]\n",
        "\n",
        "top_tokens = np.concatenate([feature_names[top_neg_indices], feature_names[top_pos_indices]])\n",
        "top_weights = np.concatenate([coef[top_neg_indices], coef[top_pos_indices]])\n",
        "\n",
        "plt.figure(figsize=(12, 6))\n",
        "sns.barplot(x=top_tokens, y=top_weights, palette=[\"red\"]*10 + [\"green\"]*10)\n",
        "plt.title(\"Top 10 Negative and Positive Tokens by Logistic Regression Coefficient\")\n",
        "plt.xticks(rotation=45)\n",
        "plt.ylabel(\"Weight (coefficient)\")\n",
        "plt.grid(True)\n",
        "plt.tight_layout()\n",
        "plt.show()"
      ]
    },
    {
      "cell_type": "markdown",
      "metadata": {
        "id": "ThcEfzY1LHET"
      },
      "source": [
        "**Ответ:** Сами токены (слова) довольно логично вписываются в контекст соответствующего сентимента, например для негативных (kill, scam, wtf, etc.). Качество с заскейленными признаками вырастает на несколько пунктов и на трейне и на тесте"
      ]
    },
    {
      "cell_type": "markdown",
      "metadata": {
        "id": "ktJVOdrIHq7B"
      },
      "source": [
        "## Задание 7 Другие признаки (1.5 балла)"
      ]
    },
    {
      "cell_type": "markdown",
      "metadata": {
        "id": "Yt3jRCZ2H0Og"
      },
      "source": [
        "Мы были сконцентрированы на работе с текстами твиттов и не использовали другие признаки - имена пользователя, дату и местоположение"
      ]
    },
    {
      "cell_type": "markdown",
      "metadata": {
        "id": "52wjewCCo_di"
      },
      "source": [
        "Изучите признаки UserName и ScreenName. полезны ли они? Если полезны, то закодируйте их, добавьте к матрице с отскалированными признаками, обучите логистическую регрессию, замерьте качество."
      ]
    },
    {
      "cell_type": "code",
      "execution_count": 63,
      "metadata": {
        "colab": {
          "base_uri": "https://localhost:8080/",
          "height": 205
        },
        "id": "RQes151Yke1Q",
        "outputId": "fd6ee204-5fc7-44e2-8aaf-cd84c10dcb18"
      },
      "outputs": [
        {
          "output_type": "execute_result",
          "data": {
            "text/plain": [
              "   UserName  ScreenName   Location     TweetAt  \\\n",
              "0      3800       48752         UK  16-03-2020   \n",
              "1      3801       48753  Vagabonds  16-03-2020   \n",
              "2      3802       48754    Unknown  16-03-2020   \n",
              "\n",
              "                                       OriginalTweet Sentiment  \\\n",
              "0  advice Talk to your neighbours family to excha...  Positive   \n",
              "1  Coronavirus Australia: Woolworths to give elde...  Positive   \n",
              "2  My food stock is not the only one which is emp...  Positive   \n",
              "\n",
              "   Sentiment_binary  \n",
              "0                 1  \n",
              "1                 1  \n",
              "2                 1  "
            ],
            "text/html": [
              "\n",
              "  <div id=\"df-9d4c43af-030d-4479-9b34-c290c287c211\" class=\"colab-df-container\">\n",
              "    <div>\n",
              "<style scoped>\n",
              "    .dataframe tbody tr th:only-of-type {\n",
              "        vertical-align: middle;\n",
              "    }\n",
              "\n",
              "    .dataframe tbody tr th {\n",
              "        vertical-align: top;\n",
              "    }\n",
              "\n",
              "    .dataframe thead th {\n",
              "        text-align: right;\n",
              "    }\n",
              "</style>\n",
              "<table border=\"1\" class=\"dataframe\">\n",
              "  <thead>\n",
              "    <tr style=\"text-align: right;\">\n",
              "      <th></th>\n",
              "      <th>UserName</th>\n",
              "      <th>ScreenName</th>\n",
              "      <th>Location</th>\n",
              "      <th>TweetAt</th>\n",
              "      <th>OriginalTweet</th>\n",
              "      <th>Sentiment</th>\n",
              "      <th>Sentiment_binary</th>\n",
              "    </tr>\n",
              "  </thead>\n",
              "  <tbody>\n",
              "    <tr>\n",
              "      <th>0</th>\n",
              "      <td>3800</td>\n",
              "      <td>48752</td>\n",
              "      <td>UK</td>\n",
              "      <td>16-03-2020</td>\n",
              "      <td>advice Talk to your neighbours family to excha...</td>\n",
              "      <td>Positive</td>\n",
              "      <td>1</td>\n",
              "    </tr>\n",
              "    <tr>\n",
              "      <th>1</th>\n",
              "      <td>3801</td>\n",
              "      <td>48753</td>\n",
              "      <td>Vagabonds</td>\n",
              "      <td>16-03-2020</td>\n",
              "      <td>Coronavirus Australia: Woolworths to give elde...</td>\n",
              "      <td>Positive</td>\n",
              "      <td>1</td>\n",
              "    </tr>\n",
              "    <tr>\n",
              "      <th>2</th>\n",
              "      <td>3802</td>\n",
              "      <td>48754</td>\n",
              "      <td>Unknown</td>\n",
              "      <td>16-03-2020</td>\n",
              "      <td>My food stock is not the only one which is emp...</td>\n",
              "      <td>Positive</td>\n",
              "      <td>1</td>\n",
              "    </tr>\n",
              "  </tbody>\n",
              "</table>\n",
              "</div>\n",
              "    <div class=\"colab-df-buttons\">\n",
              "\n",
              "  <div class=\"colab-df-container\">\n",
              "    <button class=\"colab-df-convert\" onclick=\"convertToInteractive('df-9d4c43af-030d-4479-9b34-c290c287c211')\"\n",
              "            title=\"Convert this dataframe to an interactive table.\"\n",
              "            style=\"display:none;\">\n",
              "\n",
              "  <svg xmlns=\"http://www.w3.org/2000/svg\" height=\"24px\" viewBox=\"0 -960 960 960\">\n",
              "    <path d=\"M120-120v-720h720v720H120Zm60-500h600v-160H180v160Zm220 220h160v-160H400v160Zm0 220h160v-160H400v160ZM180-400h160v-160H180v160Zm440 0h160v-160H620v160ZM180-180h160v-160H180v160Zm440 0h160v-160H620v160Z\"/>\n",
              "  </svg>\n",
              "    </button>\n",
              "\n",
              "  <style>\n",
              "    .colab-df-container {\n",
              "      display:flex;\n",
              "      gap: 12px;\n",
              "    }\n",
              "\n",
              "    .colab-df-convert {\n",
              "      background-color: #E8F0FE;\n",
              "      border: none;\n",
              "      border-radius: 50%;\n",
              "      cursor: pointer;\n",
              "      display: none;\n",
              "      fill: #1967D2;\n",
              "      height: 32px;\n",
              "      padding: 0 0 0 0;\n",
              "      width: 32px;\n",
              "    }\n",
              "\n",
              "    .colab-df-convert:hover {\n",
              "      background-color: #E2EBFA;\n",
              "      box-shadow: 0px 1px 2px rgba(60, 64, 67, 0.3), 0px 1px 3px 1px rgba(60, 64, 67, 0.15);\n",
              "      fill: #174EA6;\n",
              "    }\n",
              "\n",
              "    .colab-df-buttons div {\n",
              "      margin-bottom: 4px;\n",
              "    }\n",
              "\n",
              "    [theme=dark] .colab-df-convert {\n",
              "      background-color: #3B4455;\n",
              "      fill: #D2E3FC;\n",
              "    }\n",
              "\n",
              "    [theme=dark] .colab-df-convert:hover {\n",
              "      background-color: #434B5C;\n",
              "      box-shadow: 0px 1px 3px 1px rgba(0, 0, 0, 0.15);\n",
              "      filter: drop-shadow(0px 1px 2px rgba(0, 0, 0, 0.3));\n",
              "      fill: #FFFFFF;\n",
              "    }\n",
              "  </style>\n",
              "\n",
              "    <script>\n",
              "      const buttonEl =\n",
              "        document.querySelector('#df-9d4c43af-030d-4479-9b34-c290c287c211 button.colab-df-convert');\n",
              "      buttonEl.style.display =\n",
              "        google.colab.kernel.accessAllowed ? 'block' : 'none';\n",
              "\n",
              "      async function convertToInteractive(key) {\n",
              "        const element = document.querySelector('#df-9d4c43af-030d-4479-9b34-c290c287c211');\n",
              "        const dataTable =\n",
              "          await google.colab.kernel.invokeFunction('convertToInteractive',\n",
              "                                                    [key], {});\n",
              "        if (!dataTable) return;\n",
              "\n",
              "        const docLinkHtml = 'Like what you see? Visit the ' +\n",
              "          '<a target=\"_blank\" href=https://colab.research.google.com/notebooks/data_table.ipynb>data table notebook</a>'\n",
              "          + ' to learn more about interactive tables.';\n",
              "        element.innerHTML = '';\n",
              "        dataTable['output_type'] = 'display_data';\n",
              "        await google.colab.output.renderOutput(dataTable, element);\n",
              "        const docLink = document.createElement('div');\n",
              "        docLink.innerHTML = docLinkHtml;\n",
              "        element.appendChild(docLink);\n",
              "      }\n",
              "    </script>\n",
              "  </div>\n",
              "\n",
              "\n",
              "    <div id=\"df-f8dd1e01-ec94-4f68-a892-6ba9c5c276b3\">\n",
              "      <button class=\"colab-df-quickchart\" onclick=\"quickchart('df-f8dd1e01-ec94-4f68-a892-6ba9c5c276b3')\"\n",
              "                title=\"Suggest charts\"\n",
              "                style=\"display:none;\">\n",
              "\n",
              "<svg xmlns=\"http://www.w3.org/2000/svg\" height=\"24px\"viewBox=\"0 0 24 24\"\n",
              "     width=\"24px\">\n",
              "    <g>\n",
              "        <path d=\"M19 3H5c-1.1 0-2 .9-2 2v14c0 1.1.9 2 2 2h14c1.1 0 2-.9 2-2V5c0-1.1-.9-2-2-2zM9 17H7v-7h2v7zm4 0h-2V7h2v10zm4 0h-2v-4h2v4z\"/>\n",
              "    </g>\n",
              "</svg>\n",
              "      </button>\n",
              "\n",
              "<style>\n",
              "  .colab-df-quickchart {\n",
              "      --bg-color: #E8F0FE;\n",
              "      --fill-color: #1967D2;\n",
              "      --hover-bg-color: #E2EBFA;\n",
              "      --hover-fill-color: #174EA6;\n",
              "      --disabled-fill-color: #AAA;\n",
              "      --disabled-bg-color: #DDD;\n",
              "  }\n",
              "\n",
              "  [theme=dark] .colab-df-quickchart {\n",
              "      --bg-color: #3B4455;\n",
              "      --fill-color: #D2E3FC;\n",
              "      --hover-bg-color: #434B5C;\n",
              "      --hover-fill-color: #FFFFFF;\n",
              "      --disabled-bg-color: #3B4455;\n",
              "      --disabled-fill-color: #666;\n",
              "  }\n",
              "\n",
              "  .colab-df-quickchart {\n",
              "    background-color: var(--bg-color);\n",
              "    border: none;\n",
              "    border-radius: 50%;\n",
              "    cursor: pointer;\n",
              "    display: none;\n",
              "    fill: var(--fill-color);\n",
              "    height: 32px;\n",
              "    padding: 0;\n",
              "    width: 32px;\n",
              "  }\n",
              "\n",
              "  .colab-df-quickchart:hover {\n",
              "    background-color: var(--hover-bg-color);\n",
              "    box-shadow: 0 1px 2px rgba(60, 64, 67, 0.3), 0 1px 3px 1px rgba(60, 64, 67, 0.15);\n",
              "    fill: var(--button-hover-fill-color);\n",
              "  }\n",
              "\n",
              "  .colab-df-quickchart-complete:disabled,\n",
              "  .colab-df-quickchart-complete:disabled:hover {\n",
              "    background-color: var(--disabled-bg-color);\n",
              "    fill: var(--disabled-fill-color);\n",
              "    box-shadow: none;\n",
              "  }\n",
              "\n",
              "  .colab-df-spinner {\n",
              "    border: 2px solid var(--fill-color);\n",
              "    border-color: transparent;\n",
              "    border-bottom-color: var(--fill-color);\n",
              "    animation:\n",
              "      spin 1s steps(1) infinite;\n",
              "  }\n",
              "\n",
              "  @keyframes spin {\n",
              "    0% {\n",
              "      border-color: transparent;\n",
              "      border-bottom-color: var(--fill-color);\n",
              "      border-left-color: var(--fill-color);\n",
              "    }\n",
              "    20% {\n",
              "      border-color: transparent;\n",
              "      border-left-color: var(--fill-color);\n",
              "      border-top-color: var(--fill-color);\n",
              "    }\n",
              "    30% {\n",
              "      border-color: transparent;\n",
              "      border-left-color: var(--fill-color);\n",
              "      border-top-color: var(--fill-color);\n",
              "      border-right-color: var(--fill-color);\n",
              "    }\n",
              "    40% {\n",
              "      border-color: transparent;\n",
              "      border-right-color: var(--fill-color);\n",
              "      border-top-color: var(--fill-color);\n",
              "    }\n",
              "    60% {\n",
              "      border-color: transparent;\n",
              "      border-right-color: var(--fill-color);\n",
              "    }\n",
              "    80% {\n",
              "      border-color: transparent;\n",
              "      border-right-color: var(--fill-color);\n",
              "      border-bottom-color: var(--fill-color);\n",
              "    }\n",
              "    90% {\n",
              "      border-color: transparent;\n",
              "      border-bottom-color: var(--fill-color);\n",
              "    }\n",
              "  }\n",
              "</style>\n",
              "\n",
              "      <script>\n",
              "        async function quickchart(key) {\n",
              "          const quickchartButtonEl =\n",
              "            document.querySelector('#' + key + ' button');\n",
              "          quickchartButtonEl.disabled = true;  // To prevent multiple clicks.\n",
              "          quickchartButtonEl.classList.add('colab-df-spinner');\n",
              "          try {\n",
              "            const charts = await google.colab.kernel.invokeFunction(\n",
              "                'suggestCharts', [key], {});\n",
              "          } catch (error) {\n",
              "            console.error('Error during call to suggestCharts:', error);\n",
              "          }\n",
              "          quickchartButtonEl.classList.remove('colab-df-spinner');\n",
              "          quickchartButtonEl.classList.add('colab-df-quickchart-complete');\n",
              "        }\n",
              "        (() => {\n",
              "          let quickchartButtonEl =\n",
              "            document.querySelector('#df-f8dd1e01-ec94-4f68-a892-6ba9c5c276b3 button');\n",
              "          quickchartButtonEl.style.display =\n",
              "            google.colab.kernel.accessAllowed ? 'block' : 'none';\n",
              "        })();\n",
              "      </script>\n",
              "    </div>\n",
              "    </div>\n",
              "  </div>\n"
            ],
            "application/vnd.google.colaboratory.intrinsic+json": {
              "type": "dataframe",
              "variable_name": "df",
              "summary": "{\n  \"name\": \"df\",\n  \"rows\": 33444,\n  \"fields\": [\n    {\n      \"column\": \"UserName\",\n      \"properties\": {\n        \"dtype\": \"number\",\n        \"std\": 11875,\n        \"min\": 3800,\n        \"max\": 44955,\n        \"num_unique_values\": 33444,\n        \"samples\": [\n          33995,\n          17124,\n          18421\n        ],\n        \"semantic_type\": \"\",\n        \"description\": \"\"\n      }\n    },\n    {\n      \"column\": \"ScreenName\",\n      \"properties\": {\n        \"dtype\": \"number\",\n        \"std\": 11875,\n        \"min\": 48752,\n        \"max\": 89907,\n        \"num_unique_values\": 33444,\n        \"samples\": [\n          78947,\n          62076,\n          63373\n        ],\n        \"semantic_type\": \"\",\n        \"description\": \"\"\n      }\n    },\n    {\n      \"column\": \"Location\",\n      \"properties\": {\n        \"dtype\": \"category\",\n        \"num_unique_values\": 10465,\n        \"samples\": [\n          \"Kitchener | Ontario | Canada\",\n          \"Wien, \\u00c3\\u0083\\u00c2\\u0096sterreich\",\n          \"Warsaw\"\n        ],\n        \"semantic_type\": \"\",\n        \"description\": \"\"\n      }\n    },\n    {\n      \"column\": \"TweetAt\",\n      \"properties\": {\n        \"dtype\": \"object\",\n        \"num_unique_values\": 30,\n        \"samples\": [\n          \"12-04-2020\",\n          \"31-03-2020\",\n          \"08-04-2020\"\n        ],\n        \"semantic_type\": \"\",\n        \"description\": \"\"\n      }\n    },\n    {\n      \"column\": \"OriginalTweet\",\n      \"properties\": {\n        \"dtype\": \"string\",\n        \"num_unique_values\": 33444,\n        \"samples\": [\n          \"US death toll is way less than estimated. This I hope will bring back consumer confidence #coronavirus #Covid_19 #CoronavirusUSA\",\n          \"We will get through this by people helping people and not stock piling food and toiletries, selfish pricks #Covid_19\",\n          \"#rice prices soar to two-year high, traders blame it on #coronavirus panic buying, writes #YasirWardad https://t.co/hIXzS1DKdo #FE via @febdonline\"\n        ],\n        \"semantic_type\": \"\",\n        \"description\": \"\"\n      }\n    },\n    {\n      \"column\": \"Sentiment\",\n      \"properties\": {\n        \"dtype\": \"category\",\n        \"num_unique_values\": 4,\n        \"samples\": [\n          \"Extremely Negative\",\n          \"Extremely Positive\",\n          \"Positive\"\n        ],\n        \"semantic_type\": \"\",\n        \"description\": \"\"\n      }\n    },\n    {\n      \"column\": \"Sentiment_binary\",\n      \"properties\": {\n        \"dtype\": \"number\",\n        \"std\": 0,\n        \"min\": 0,\n        \"max\": 1,\n        \"num_unique_values\": 2,\n        \"samples\": [\n          0,\n          1\n        ],\n        \"semantic_type\": \"\",\n        \"description\": \"\"\n      }\n    }\n  ]\n}"
            }
          },
          "metadata": {},
          "execution_count": 63
        }
      ],
      "source": [
        "df.head(3)"
      ]
    },
    {
      "cell_type": "code",
      "execution_count": 64,
      "metadata": {
        "id": "63thouYZptj6",
        "colab": {
          "base_uri": "https://localhost:8080/"
        },
        "outputId": "b8876615-baf7-4f0a-c551-d8445c56db38"
      },
      "outputs": [
        {
          "output_type": "stream",
          "name": "stdout",
          "text": [
            "UserName уникальных: 33444\n",
            "ScreenName уникальных: 33444\n",
            "Размер датасета: 33444\n"
          ]
        }
      ],
      "source": [
        "print('UserName уникальных:', df['UserName'].nunique())\n",
        "print('ScreenName уникальных:', df['ScreenName'].nunique())\n",
        "print('Размер датасета:', len(df))"
      ]
    },
    {
      "cell_type": "markdown",
      "metadata": {
        "id": "r8_qR-gnpT3a"
      },
      "source": [
        "**Ответ:** Все значения уникальны -> неинформативны -> нет смысла кодировать"
      ]
    },
    {
      "cell_type": "markdown",
      "metadata": {
        "id": "ythEcFSkt7y3"
      },
      "source": [
        "Изучите признак TweetAt в обучающей выборке: преобразуйте его к типу datetime и нарисуйте его гистограмму с разделением по цвету на основе целевой переменной. Полезен ли он? Если полезен, то закодируйте его, добавьте к матрице с отскалированными признаками, обучите логистическую регрессию, замерьте качество."
      ]
    },
    {
      "cell_type": "code",
      "execution_count": 65,
      "metadata": {
        "id": "Lxb_k0JLirNv"
      },
      "outputs": [],
      "source": [
        "train['TweetAt'] = pd.to_datetime(train['TweetAt'], dayfirst=True)\n",
        "test['TweetAt'] = pd.to_datetime(test['TweetAt'], dayfirst=True)"
      ]
    },
    {
      "cell_type": "code",
      "execution_count": 66,
      "metadata": {
        "colab": {
          "base_uri": "https://localhost:8080/",
          "height": 338
        },
        "id": "2EQukKSkke1R",
        "outputId": "feb4eb7b-5157-4520-8b37-84d3a4bbce8d"
      },
      "outputs": [
        {
          "output_type": "display_data",
          "data": {
            "text/plain": [
              "<Figure size 1200x600 with 0 Axes>"
            ]
          },
          "metadata": {}
        },
        {
          "output_type": "display_data",
          "data": {
            "text/plain": [
              "<Figure size 1600x600 with 1 Axes>"
            ],
            "image/png": "[encoded data removed]"
          },
          "metadata": {}
        }
      ],
      "source": [
        "plt.figure(figsize=(12, 6))\n",
        "train.groupby(['TweetAt', 'Sentiment_binary']).size().unstack().plot(kind='bar', stacked=True, figsize=(16, 6), colormap='coolwarm')\n",
        "plt.title('Распределение твитов по дате и метке Sentiment_binary')\n",
        "plt.xlabel('Дата')\n",
        "plt.ylabel('Количество твитов')\n",
        "plt.tight_layout()\n",
        "plt.show()"
      ]
    },
    {
      "cell_type": "code",
      "execution_count": 67,
      "metadata": {
        "id": "_CB6TPJMke1R"
      },
      "outputs": [],
      "source": [
        "train['date_ord'] = train['TweetAt'].map(lambda x: x.toordinal())\n",
        "test['date_ord'] = test['TweetAt'].map(lambda x: x.toordinal())"
      ]
    },
    {
      "cell_type": "code",
      "execution_count": 68,
      "metadata": {
        "id": "xG4et65cke1R"
      },
      "outputs": [],
      "source": [
        "from scipy.sparse import hstack\n",
        "\n",
        "scaler_date = StandardScaler()\n",
        "train_date_scaled = scaler_date.fit_transform(train[['date_ord']])\n",
        "test_date_scaled = scaler_date.transform(test[['date_ord']])\n",
        "\n",
        "X_train = hstack([vec_train_scaled, train_date_scaled])\n",
        "X_test = hstack([vec_test_scaled, test_date_scaled])"
      ]
    },
    {
      "cell_type": "code",
      "execution_count": 69,
      "metadata": {
        "id": "3AbF1J4bke1R"
      },
      "outputs": [],
      "source": [
        "lr_scaled_wide = LogisticRegression(random_state=42, solver='liblinear', multi_class='ovr')\n",
        "lr_scaled_wide.fit(X_train, train['Sentiment_binary'])\n",
        "\n",
        "\n",
        "train_pred_count = lr_scaled_wide.predict(X_train)\n",
        "test_pred_count = lr_scaled_wide.predict(X_test)\n",
        "acc_train_count = accuracy_score(train[target], train_pred_count)\n",
        "acc_test_count = accuracy_score(test[target], test_pred_count)"
      ]
    },
    {
      "cell_type": "code",
      "execution_count": 70,
      "metadata": {
        "colab": {
          "base_uri": "https://localhost:8080/"
        },
        "id": "qc45JfuVke1R",
        "outputId": "fa38630b-cb72-48b4-a02e-f89689a8d80e"
      },
      "outputs": [
        {
          "output_type": "stream",
          "name": "stdout",
          "text": [
            "Train Accuracy: 0.9411789833404528\n",
            "Test Accuracy: 0.8448275862068966\n"
          ]
        }
      ],
      "source": [
        "print('Train Accuracy:', acc_train_count)\n",
        "print('Test Accuracy:', acc_test_count)"
      ]
    },
    {
      "cell_type": "markdown",
      "metadata": {
        "id": "4IdLBdpQxM-G"
      },
      "source": [
        "**Ответ:** Качество не сильно изменилось, но это логично, т.к. в целом кол-во позитивных и негативных твитов одинаково сбалансировано почти по всем дням\n",
        "\n"
      ]
    },
    {
      "cell_type": "markdown",
      "metadata": {
        "id": "r2JtRPhNP6qx"
      },
      "source": [
        "Поработайте с признаком Location в обучающей выборке. Сколько уникальных значений?"
      ]
    },
    {
      "cell_type": "code",
      "execution_count": 71,
      "metadata": {
        "id": "xYQZQ1FRNpoe",
        "colab": {
          "base_uri": "https://localhost:8080/"
        },
        "outputId": "41bce254-7d8d-4c75-fa59-dda34a8b81e7"
      },
      "outputs": [
        {
          "output_type": "stream",
          "name": "stdout",
          "text": [
            "Уникальных значений в Location: 7949\n"
          ]
        }
      ],
      "source": [
        "print('Уникальных значений в Location:', train['Location'].nunique())"
      ]
    },
    {
      "cell_type": "markdown",
      "metadata": {
        "id": "6k4JwpRTQISa"
      },
      "source": [
        "Постройте гистограмму топ-10 по популярности местоположений (исключая Unknown)"
      ]
    },
    {
      "cell_type": "code",
      "execution_count": 72,
      "metadata": {
        "id": "J91YkhegJ0mz",
        "colab": {
          "base_uri": "https://localhost:8080/",
          "height": 507
        },
        "outputId": "8dc4e933-0d7c-433c-9ffc-26b609952f26"
      },
      "outputs": [
        {
          "output_type": "display_data",
          "data": {
            "text/plain": [
              "<Figure size 1000x600 with 1 Axes>"
            ],
            "image/png": "[encoded data removed]"
          },
          "metadata": {}
        }
      ],
      "source": [
        "location_counts = train[train['Location'] != 'Unknown']['Location'].value_counts().head(10)\n",
        "\n",
        "plt.figure(figsize=(10, 6))\n",
        "sns.barplot(x=location_counts.values, y=location_counts.index, palette=\"viridis\")\n",
        "plt.title(\"Топ10 самых популярных локаций (без 'Unknown')\")\n",
        "plt.xlabel(\"Количество твитов\")\n",
        "plt.ylabel(\"Локация\")\n",
        "plt.tight_layout()\n",
        "plt.show()"
      ]
    },
    {
      "cell_type": "markdown",
      "metadata": {
        "id": "ZOsv3lODTfYB"
      },
      "source": [
        "Видно, что многие местоположения включают в себя более точное название места, чем другие (Например, у некоторых стоит London, UK; а у некоторых просто UK или United Kingdom).\n",
        "\n",
        "Создайте новый признак WiderLocation, который содержит самое широкое местоположение (например, из London, UK должно получиться UK). Сколько уникальных категорий теперь? Постройте аналогичную гистограмму."
      ]
    },
    {
      "cell_type": "code",
      "execution_count": 73,
      "metadata": {
        "id": "mSkow6acOMyD",
        "colab": {
          "base_uri": "https://localhost:8080/"
        },
        "outputId": "a1f385f0-5494-464f-9b97-e3e4c11b798f"
      },
      "outputs": [
        {
          "output_type": "stream",
          "name": "stdout",
          "text": [
            "Уникальных WiderLocation: 4631\n"
          ]
        }
      ],
      "source": [
        "train['WiderLocation'] = (train['Location'].fillna('Unknown').apply(lambda x: x.split(',')[-1].strip() if x != 'Unknown' else 'Unknown'))\n",
        "test['WiderLocation'] = (test['Location'].fillna('Unknown').apply(lambda x: x.split(',')[-1].strip() if x != 'Unknown' else 'Unknown'))\n",
        "\n",
        "print('Уникальных WiderLocation:', train['WiderLocation'].nunique())"
      ]
    },
    {
      "cell_type": "code",
      "execution_count": 74,
      "metadata": {
        "colab": {
          "base_uri": "https://localhost:8080/",
          "height": 507
        },
        "id": "4M3_zIeDke1S",
        "outputId": "bfb2a7f1-5e3b-4f49-c680-6422625dd064"
      },
      "outputs": [
        {
          "output_type": "display_data",
          "data": {
            "text/plain": [
              "<Figure size 1000x600 with 1 Axes>"
            ],
            "image/png": "[encoded data removed]"
          },
          "metadata": {}
        }
      ],
      "source": [
        "top_wider_locations = (train[train['WiderLocation'] != 'Unknown']['WiderLocation'].value_counts().head(10))\n",
        "\n",
        "plt.figure(figsize=(10, 6))\n",
        "sns.barplot(x=top_wider_locations.values, y=top_wider_locations.index, palette=\"mako\")\n",
        "plt.title(\"Топ10 самых популярных WiderLocation (без 'Unknown')\")\n",
        "plt.xlabel(\"Количество твитов\")\n",
        "plt.ylabel(\"WiderLocation\")\n",
        "plt.tight_layout()\n",
        "plt.show()"
      ]
    },
    {
      "cell_type": "markdown",
      "metadata": {
        "id": "cgyWrD2eVfff"
      },
      "source": [
        "Закодируйте признак WiderLocation с помощью OHE таким образом, чтобы создались только столбцы для местоположений, которые встречаются более одного раза. Сколько таких значений?\n"
      ]
    },
    {
      "cell_type": "code",
      "execution_count": 75,
      "metadata": {
        "id": "SeJBfBWgPvg_"
      },
      "outputs": [],
      "source": [
        "from sklearn.preprocessing import OneHotEncoder\n",
        "\n",
        "counts = train['WiderLocation'].value_counts()\n",
        "frequent_locations = counts[counts > 1].index.tolist()\n",
        "\n",
        "train['WiderLocation_filtered'] = train['WiderLocation'].where(train['WiderLocation'].isin(frequent_locations))\n",
        "\n",
        "\n",
        "ohe = OneHotEncoder(handle_unknown='ignore')\n",
        "wl_ohe = ohe.fit_transform(train[['WiderLocation_filtered']])"
      ]
    },
    {
      "cell_type": "code",
      "execution_count": 76,
      "metadata": {
        "colab": {
          "base_uri": "https://localhost:8080/"
        },
        "id": "GqoOTBAwke1S",
        "outputId": "a07f524c-df32-45e8-9aad-b46ed5299e63"
      },
      "outputs": [
        {
          "output_type": "stream",
          "name": "stdout",
          "text": [
            "Уникальных WiderLocation с частотой > 1 (OHE): 989\n"
          ]
        }
      ],
      "source": [
        "print(f'Уникальных WiderLocation с частотой > 1 (OHE): {wl_ohe.shape[1]}')"
      ]
    },
    {
      "cell_type": "markdown",
      "metadata": {
        "id": "ZyMX5kZuimPK"
      },
      "source": [
        "Добавьте этот признак к матрице отскалированных текстовых признаков, обучите логистическую регрессию, замерьте качество. Как оно изменилось? Оказался ли признак полезным?\n",
        "\n",
        "\n",
        "*Подсказка:* используйте параметр `categories` в энкодере."
      ]
    },
    {
      "cell_type": "code",
      "execution_count": 78,
      "metadata": {
        "id": "EO1jNPeeim7A"
      },
      "outputs": [],
      "source": [
        "counts = train['WiderLocation'].value_counts()\n",
        "frequent_locations = counts[counts > 1].index.tolist()\n",
        "\n",
        "train['WiderLocation_filtered'] = train['WiderLocation'].where(train['WiderLocation'].isin(frequent_locations))\n",
        "test['WiderLocation_filtered'] = test['WiderLocation'].where(test['WiderLocation'].isin(frequent_locations))\n",
        "\n",
        "ohe = OneHotEncoder(categories=[frequent_locations], handle_unknown='ignore')\n",
        "\n",
        "wl_ohe_train = ohe.fit_transform(train[['WiderLocation_filtered']])\n",
        "wl_ohe_test = ohe.transform(test[['WiderLocation_filtered']])\n",
        "\n",
        "X_train = hstack([vec_train, wl_ohe_train])\n",
        "X_test = hstack([vec_test, wl_ohe_test])\n",
        "\n",
        "lr_wl = LogisticRegression(random_state=42, solver='liblinear', multi_class='ovr')\n",
        "lr_wl.fit(X_train, train[target])\n",
        "\n",
        "train_pred = lr_wl.predict(X_train)\n",
        "test_pred = lr_wl.predict(X_test)\n",
        "\n",
        "acc_train = accuracy_score(train[target], train_pred)\n",
        "acc_test = accuracy_score(test[target], test_pred)"
      ]
    },
    {
      "cell_type": "code",
      "execution_count": 79,
      "metadata": {
        "colab": {
          "base_uri": "https://localhost:8080/"
        },
        "id": "DwX3FB4Nke1S",
        "outputId": "861d3533-83ae-40cd-e081-5cd2953c9e09"
      },
      "outputs": [
        {
          "output_type": "stream",
          "name": "stdout",
          "text": [
            "Train accuracy с WiderLocation OHE: 0.9323793250747544\n",
            "Test accuracy с WiderLocation OHE: 0.8666533785130556\n"
          ]
        }
      ],
      "source": [
        "print(f\"Train accuracy с WiderLocation OHE: {acc_train}\")\n",
        "print(f\"Test accuracy с WiderLocation OHE: {acc_test}\")"
      ]
    },
    {
      "cell_type": "markdown",
      "metadata": {
        "id": "7dHsGlDRYUQt"
      },
      "source": [
        "**Ответ:** Качество слегка просело, это говорит о том, что признак локации не добавляет модели никакой обобщающей способнсти."
      ]
    }
  ],
  "metadata": {
    "colab": {
      "provenance": []
    },
    "kernelspec": {
      "display_name": ".venv",
      "language": "python",
      "name": "python3"
    },
    "language_info": {
      "codemirror_mode": {
        "name": "ipython",
        "version": 3
      },
      "file_extension": ".py",
      "mimetype": "text/x-python",
      "name": "python",
      "nbconvert_exporter": "python",
      "pygments_lexer": "ipython3",
      "version": "3.12.3"
    }
  },
  "nbformat": 4,
  "nbformat_minor": 0
}